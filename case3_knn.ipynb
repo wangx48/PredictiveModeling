{
  "nbformat": 4,
  "nbformat_minor": 0,
  "metadata": {
    "colab": {
      "name": "case3_knn.ipynb",
      "provenance": [],
      "collapsed_sections": []
    },
    "kernelspec": {
      "name": "python3",
      "display_name": "Python 3"
    },
    "accelerator": "GPU"
  },
  "cells": [
    {
      "cell_type": "code",
      "metadata": {
        "id": "fYKg5J9KM__d",
        "colab_type": "code",
        "colab": {}
      },
      "source": [
        "import pandas as pd\n",
        "from sklearn.model_selection import train_test_split\n",
        "from sklearn.neighbors import KNeighborsClassifier\n",
        "from sklearn.metrics import classification_report, confusion_matrix,accuracy_score, roc_auc_score\n",
        "from sklearn.model_selection  import cross_val_score\n",
        "from sklearn.preprocessing import StandardScaler\n",
        "import seaborn as sns\n",
        "from sklearn.metrics import precision_recall_curve\n",
        "import matplotlib.pyplot as plt\n",
        "from sklearn.metrics import f1_score\n",
        "from sklearn.metrics import auc\n",
        "from matplotlib import pyplot\n",
        "from sklearn.model_selection import GridSearchCV\n",
        "import numpy as np\n",
        "from sklearn import model_selection"
      ],
      "execution_count": 0,
      "outputs": []
    },
    {
      "cell_type": "code",
      "metadata": {
        "id": "g8_VsZsSNYNJ",
        "colab_type": "code",
        "outputId": "a4a6ffa3-e429-497f-b9d0-035c4d7d25eb",
        "colab": {
          "base_uri": "https://localhost:8080/",
          "height": 224
        }
      },
      "source": [
        "bank = pd.read_csv('bank.csv',sep = ';')\n",
        "bank.head()"
      ],
      "execution_count": 0,
      "outputs": [
        {
          "output_type": "execute_result",
          "data": {
            "text/html": [
              "<div>\n",
              "<style scoped>\n",
              "    .dataframe tbody tr th:only-of-type {\n",
              "        vertical-align: middle;\n",
              "    }\n",
              "\n",
              "    .dataframe tbody tr th {\n",
              "        vertical-align: top;\n",
              "    }\n",
              "\n",
              "    .dataframe thead th {\n",
              "        text-align: right;\n",
              "    }\n",
              "</style>\n",
              "<table border=\"1\" class=\"dataframe\">\n",
              "  <thead>\n",
              "    <tr style=\"text-align: right;\">\n",
              "      <th></th>\n",
              "      <th>age</th>\n",
              "      <th>job</th>\n",
              "      <th>marital</th>\n",
              "      <th>education</th>\n",
              "      <th>default</th>\n",
              "      <th>housing</th>\n",
              "      <th>loan</th>\n",
              "      <th>contact</th>\n",
              "      <th>month</th>\n",
              "      <th>day_of_week</th>\n",
              "      <th>duration</th>\n",
              "      <th>campaign</th>\n",
              "      <th>pdays</th>\n",
              "      <th>previous</th>\n",
              "      <th>poutcome</th>\n",
              "      <th>emp.var.rate</th>\n",
              "      <th>cons.price.idx</th>\n",
              "      <th>cons.conf.idx</th>\n",
              "      <th>euribor3m</th>\n",
              "      <th>nr.employed</th>\n",
              "      <th>y</th>\n",
              "    </tr>\n",
              "  </thead>\n",
              "  <tbody>\n",
              "    <tr>\n",
              "      <th>0</th>\n",
              "      <td>56</td>\n",
              "      <td>housemaid</td>\n",
              "      <td>married</td>\n",
              "      <td>basic.4y</td>\n",
              "      <td>no</td>\n",
              "      <td>no</td>\n",
              "      <td>no</td>\n",
              "      <td>telephone</td>\n",
              "      <td>may</td>\n",
              "      <td>mon</td>\n",
              "      <td>261</td>\n",
              "      <td>1</td>\n",
              "      <td>999</td>\n",
              "      <td>0</td>\n",
              "      <td>nonexistent</td>\n",
              "      <td>1.1</td>\n",
              "      <td>93.994</td>\n",
              "      <td>-36.4</td>\n",
              "      <td>4.857</td>\n",
              "      <td>5191.0</td>\n",
              "      <td>no</td>\n",
              "    </tr>\n",
              "    <tr>\n",
              "      <th>1</th>\n",
              "      <td>57</td>\n",
              "      <td>services</td>\n",
              "      <td>married</td>\n",
              "      <td>high.school</td>\n",
              "      <td>unknown</td>\n",
              "      <td>no</td>\n",
              "      <td>no</td>\n",
              "      <td>telephone</td>\n",
              "      <td>may</td>\n",
              "      <td>mon</td>\n",
              "      <td>149</td>\n",
              "      <td>1</td>\n",
              "      <td>999</td>\n",
              "      <td>0</td>\n",
              "      <td>nonexistent</td>\n",
              "      <td>1.1</td>\n",
              "      <td>93.994</td>\n",
              "      <td>-36.4</td>\n",
              "      <td>4.857</td>\n",
              "      <td>5191.0</td>\n",
              "      <td>no</td>\n",
              "    </tr>\n",
              "    <tr>\n",
              "      <th>2</th>\n",
              "      <td>37</td>\n",
              "      <td>services</td>\n",
              "      <td>married</td>\n",
              "      <td>high.school</td>\n",
              "      <td>no</td>\n",
              "      <td>yes</td>\n",
              "      <td>no</td>\n",
              "      <td>telephone</td>\n",
              "      <td>may</td>\n",
              "      <td>mon</td>\n",
              "      <td>226</td>\n",
              "      <td>1</td>\n",
              "      <td>999</td>\n",
              "      <td>0</td>\n",
              "      <td>nonexistent</td>\n",
              "      <td>1.1</td>\n",
              "      <td>93.994</td>\n",
              "      <td>-36.4</td>\n",
              "      <td>4.857</td>\n",
              "      <td>5191.0</td>\n",
              "      <td>no</td>\n",
              "    </tr>\n",
              "    <tr>\n",
              "      <th>3</th>\n",
              "      <td>40</td>\n",
              "      <td>admin.</td>\n",
              "      <td>married</td>\n",
              "      <td>basic.6y</td>\n",
              "      <td>no</td>\n",
              "      <td>no</td>\n",
              "      <td>no</td>\n",
              "      <td>telephone</td>\n",
              "      <td>may</td>\n",
              "      <td>mon</td>\n",
              "      <td>151</td>\n",
              "      <td>1</td>\n",
              "      <td>999</td>\n",
              "      <td>0</td>\n",
              "      <td>nonexistent</td>\n",
              "      <td>1.1</td>\n",
              "      <td>93.994</td>\n",
              "      <td>-36.4</td>\n",
              "      <td>4.857</td>\n",
              "      <td>5191.0</td>\n",
              "      <td>no</td>\n",
              "    </tr>\n",
              "    <tr>\n",
              "      <th>4</th>\n",
              "      <td>56</td>\n",
              "      <td>services</td>\n",
              "      <td>married</td>\n",
              "      <td>high.school</td>\n",
              "      <td>no</td>\n",
              "      <td>no</td>\n",
              "      <td>yes</td>\n",
              "      <td>telephone</td>\n",
              "      <td>may</td>\n",
              "      <td>mon</td>\n",
              "      <td>307</td>\n",
              "      <td>1</td>\n",
              "      <td>999</td>\n",
              "      <td>0</td>\n",
              "      <td>nonexistent</td>\n",
              "      <td>1.1</td>\n",
              "      <td>93.994</td>\n",
              "      <td>-36.4</td>\n",
              "      <td>4.857</td>\n",
              "      <td>5191.0</td>\n",
              "      <td>no</td>\n",
              "    </tr>\n",
              "  </tbody>\n",
              "</table>\n",
              "</div>"
            ],
            "text/plain": [
              "   age        job  marital  ... euribor3m nr.employed   y\n",
              "0   56  housemaid  married  ...     4.857      5191.0  no\n",
              "1   57   services  married  ...     4.857      5191.0  no\n",
              "2   37   services  married  ...     4.857      5191.0  no\n",
              "3   40     admin.  married  ...     4.857      5191.0  no\n",
              "4   56   services  married  ...     4.857      5191.0  no\n",
              "\n",
              "[5 rows x 21 columns]"
            ]
          },
          "metadata": {
            "tags": []
          },
          "execution_count": 30
        }
      ]
    },
    {
      "cell_type": "code",
      "metadata": {
        "id": "H9fBw6XZRirn",
        "colab_type": "code",
        "outputId": "cff8181b-e2f9-431d-fd8e-568deaf78bd6",
        "colab": {
          "base_uri": "https://localhost:8080/",
          "height": 297
        }
      },
      "source": [
        "bank.describe()"
      ],
      "execution_count": 0,
      "outputs": [
        {
          "output_type": "execute_result",
          "data": {
            "text/html": [
              "<div>\n",
              "<style scoped>\n",
              "    .dataframe tbody tr th:only-of-type {\n",
              "        vertical-align: middle;\n",
              "    }\n",
              "\n",
              "    .dataframe tbody tr th {\n",
              "        vertical-align: top;\n",
              "    }\n",
              "\n",
              "    .dataframe thead th {\n",
              "        text-align: right;\n",
              "    }\n",
              "</style>\n",
              "<table border=\"1\" class=\"dataframe\">\n",
              "  <thead>\n",
              "    <tr style=\"text-align: right;\">\n",
              "      <th></th>\n",
              "      <th>age</th>\n",
              "      <th>campaign</th>\n",
              "      <th>pdays</th>\n",
              "      <th>previous</th>\n",
              "      <th>emp.var.rate</th>\n",
              "      <th>cons.price.idx</th>\n",
              "      <th>cons.conf.idx</th>\n",
              "      <th>euribor3m</th>\n",
              "      <th>nr.employed</th>\n",
              "    </tr>\n",
              "  </thead>\n",
              "  <tbody>\n",
              "    <tr>\n",
              "      <th>count</th>\n",
              "      <td>41188.00000</td>\n",
              "      <td>41188.000000</td>\n",
              "      <td>41188.000000</td>\n",
              "      <td>41188.000000</td>\n",
              "      <td>41188.000000</td>\n",
              "      <td>41188.000000</td>\n",
              "      <td>41188.000000</td>\n",
              "      <td>41188.000000</td>\n",
              "      <td>41188.000000</td>\n",
              "    </tr>\n",
              "    <tr>\n",
              "      <th>mean</th>\n",
              "      <td>40.02406</td>\n",
              "      <td>2.567593</td>\n",
              "      <td>962.475454</td>\n",
              "      <td>0.172963</td>\n",
              "      <td>0.081886</td>\n",
              "      <td>93.575664</td>\n",
              "      <td>-40.502600</td>\n",
              "      <td>3.621291</td>\n",
              "      <td>5167.035911</td>\n",
              "    </tr>\n",
              "    <tr>\n",
              "      <th>std</th>\n",
              "      <td>10.42125</td>\n",
              "      <td>2.770014</td>\n",
              "      <td>186.910907</td>\n",
              "      <td>0.494901</td>\n",
              "      <td>1.570960</td>\n",
              "      <td>0.578840</td>\n",
              "      <td>4.628198</td>\n",
              "      <td>1.734447</td>\n",
              "      <td>72.251528</td>\n",
              "    </tr>\n",
              "    <tr>\n",
              "      <th>min</th>\n",
              "      <td>17.00000</td>\n",
              "      <td>1.000000</td>\n",
              "      <td>0.000000</td>\n",
              "      <td>0.000000</td>\n",
              "      <td>-3.400000</td>\n",
              "      <td>92.201000</td>\n",
              "      <td>-50.800000</td>\n",
              "      <td>0.634000</td>\n",
              "      <td>4963.600000</td>\n",
              "    </tr>\n",
              "    <tr>\n",
              "      <th>25%</th>\n",
              "      <td>32.00000</td>\n",
              "      <td>1.000000</td>\n",
              "      <td>999.000000</td>\n",
              "      <td>0.000000</td>\n",
              "      <td>-1.800000</td>\n",
              "      <td>93.075000</td>\n",
              "      <td>-42.700000</td>\n",
              "      <td>1.344000</td>\n",
              "      <td>5099.100000</td>\n",
              "    </tr>\n",
              "    <tr>\n",
              "      <th>50%</th>\n",
              "      <td>38.00000</td>\n",
              "      <td>2.000000</td>\n",
              "      <td>999.000000</td>\n",
              "      <td>0.000000</td>\n",
              "      <td>1.100000</td>\n",
              "      <td>93.749000</td>\n",
              "      <td>-41.800000</td>\n",
              "      <td>4.857000</td>\n",
              "      <td>5191.000000</td>\n",
              "    </tr>\n",
              "    <tr>\n",
              "      <th>75%</th>\n",
              "      <td>47.00000</td>\n",
              "      <td>3.000000</td>\n",
              "      <td>999.000000</td>\n",
              "      <td>0.000000</td>\n",
              "      <td>1.400000</td>\n",
              "      <td>93.994000</td>\n",
              "      <td>-36.400000</td>\n",
              "      <td>4.961000</td>\n",
              "      <td>5228.100000</td>\n",
              "    </tr>\n",
              "    <tr>\n",
              "      <th>max</th>\n",
              "      <td>98.00000</td>\n",
              "      <td>56.000000</td>\n",
              "      <td>999.000000</td>\n",
              "      <td>7.000000</td>\n",
              "      <td>1.400000</td>\n",
              "      <td>94.767000</td>\n",
              "      <td>-26.900000</td>\n",
              "      <td>5.045000</td>\n",
              "      <td>5228.100000</td>\n",
              "    </tr>\n",
              "  </tbody>\n",
              "</table>\n",
              "</div>"
            ],
            "text/plain": [
              "               age      campaign  ...     euribor3m   nr.employed\n",
              "count  41188.00000  41188.000000  ...  41188.000000  41188.000000\n",
              "mean      40.02406      2.567593  ...      3.621291   5167.035911\n",
              "std       10.42125      2.770014  ...      1.734447     72.251528\n",
              "min       17.00000      1.000000  ...      0.634000   4963.600000\n",
              "25%       32.00000      1.000000  ...      1.344000   5099.100000\n",
              "50%       38.00000      2.000000  ...      4.857000   5191.000000\n",
              "75%       47.00000      3.000000  ...      4.961000   5228.100000\n",
              "max       98.00000     56.000000  ...      5.045000   5228.100000\n",
              "\n",
              "[8 rows x 9 columns]"
            ]
          },
          "metadata": {
            "tags": []
          },
          "execution_count": 17
        }
      ]
    },
    {
      "cell_type": "code",
      "metadata": {
        "id": "_uRNzh6dVmVI",
        "colab_type": "code",
        "outputId": "4ca82a04-0a6b-4e6e-caaf-044d46433d29",
        "colab": {
          "base_uri": "https://localhost:8080/",
          "height": 296
        }
      },
      "source": [
        "sns.distplot(bank['duration'].map(lambda x:np.log1p(x)))"
      ],
      "execution_count": 0,
      "outputs": [
        {
          "output_type": "execute_result",
          "data": {
            "text/plain": [
              "<matplotlib.axes._subplots.AxesSubplot at 0x7f9cf05b38d0>"
            ]
          },
          "metadata": {
            "tags": []
          },
          "execution_count": 21
        },
        {
          "output_type": "display_data",
          "data": {
            "image/png": "[encoded data removed]",
            "text/plain": [
              "<Figure size 432x288 with 1 Axes>"
            ]
          },
          "metadata": {
            "tags": []
          }
        }
      ]
    },
    {
      "cell_type": "code",
      "metadata": {
        "id": "gSfiIhTGNpuU",
        "colab_type": "code",
        "outputId": "6a3c765d-b1eb-48c6-953b-4ad522323223",
        "colab": {
          "base_uri": "https://localhost:8080/",
          "height": 459
        }
      },
      "source": [
        "bank.info()"
      ],
      "execution_count": 0,
      "outputs": [
        {
          "output_type": "stream",
          "text": [
            "<class 'pandas.core.frame.DataFrame'>\n",
            "RangeIndex: 41188 entries, 0 to 41187\n",
            "Data columns (total 21 columns):\n",
            "age               41188 non-null int64\n",
            "job               41188 non-null object\n",
            "marital           41188 non-null object\n",
            "education         41188 non-null object\n",
            "default           41188 non-null object\n",
            "housing           41188 non-null object\n",
            "loan              41188 non-null object\n",
            "contact           41188 non-null object\n",
            "month             41188 non-null object\n",
            "day_of_week       41188 non-null object\n",
            "duration          41188 non-null int64\n",
            "campaign          41188 non-null int64\n",
            "pdays             41188 non-null int64\n",
            "previous          41188 non-null int64\n",
            "poutcome          41188 non-null object\n",
            "emp.var.rate      41188 non-null float64\n",
            "cons.price.idx    41188 non-null float64\n",
            "cons.conf.idx     41188 non-null float64\n",
            "euribor3m         41188 non-null float64\n",
            "nr.employed       41188 non-null float64\n",
            "y                 41188 non-null object\n",
            "dtypes: float64(5), int64(5), object(11)\n",
            "memory usage: 6.6+ MB\n"
          ],
          "name": "stdout"
        }
      ]
    },
    {
      "cell_type": "code",
      "metadata": {
        "id": "4dAhDyEEQuyZ",
        "colab_type": "code",
        "colab": {}
      },
      "source": [
        "bank = bank[bank['duration']>0]"
      ],
      "execution_count": 0,
      "outputs": []
    },
    {
      "cell_type": "code",
      "metadata": {
        "id": "MqVO2zlHV4hl",
        "colab_type": "code",
        "colab": {}
      },
      "source": [
        "bank['y']=bank['y'].map(lambda x: False if x=='no' else True)"
      ],
      "execution_count": 0,
      "outputs": []
    },
    {
      "cell_type": "code",
      "metadata": {
        "id": "yPb4q9flYlOx",
        "colab_type": "code",
        "outputId": "c575d548-8d04-4d0e-ad4d-ed6cd7c3c19f",
        "colab": {
          "base_uri": "https://localhost:8080/",
          "height": 393
        }
      },
      "source": [
        "bank['Age'] = pd.cut(bank['age'],9, labels=['[17,26]','(26,35]','(35,44]','(44,53]','(53,62]','(62,71]','(71,80]','(80,89]','(89,98]'])\n",
        "t = bank.groupby('Age',as_index=False)['y'].mean()\n",
        "plt.figure(figsize=(10,5))\n",
        "sns.pointplot(x='Age',y='y',data=t)\n",
        "plt.xticks(rotation=60)\n",
        "plt.title('Age & y')"
      ],
      "execution_count": 0,
      "outputs": [
        {
          "output_type": "execute_result",
          "data": {
            "text/plain": [
              "Text(0.5, 1.0, 'Age & y')"
            ]
          },
          "metadata": {
            "tags": []
          },
          "execution_count": 29
        },
        {
          "output_type": "display_data",
          "data": {
            "image/png": "[encoded data removed]",
            "text/plain": [
              "<Figure size 720x360 with 1 Axes>"
            ]
          },
          "metadata": {
            "tags": []
          }
        }
      ]
    },
    {
      "cell_type": "code",
      "metadata": {
        "id": "_pxUp8v9T8UO",
        "colab_type": "code",
        "outputId": "89c47031-89c3-4829-8323-bb365c379237",
        "colab": {
          "base_uri": "https://localhost:8080/",
          "height": 187
        }
      },
      "source": [
        "bank['prestr']=bank['previous'].apply(str)\n",
        "bank.groupby('prestr')['y'].mean()"
      ],
      "execution_count": 0,
      "outputs": [
        {
          "output_type": "execute_result",
          "data": {
            "text/plain": [
              "prestr\n",
              "0    0.088332\n",
              "1    0.212015\n",
              "2    0.464191\n",
              "3    0.592593\n",
              "4    0.542857\n",
              "5    0.722222\n",
              "6    0.600000\n",
              "7    0.000000\n",
              "Name: y, dtype: float64"
            ]
          },
          "metadata": {
            "tags": []
          },
          "execution_count": 51
        }
      ]
    },
    {
      "cell_type": "code",
      "metadata": {
        "id": "4zvS0Mp7XTd6",
        "colab_type": "code",
        "outputId": "66272828-47d7-4093-819d-89915dc642a5",
        "colab": {
          "base_uri": "https://localhost:8080/",
          "height": 255
        }
      },
      "source": [
        "bank.groupby('job')['y'].mean()"
      ],
      "execution_count": 0,
      "outputs": [
        {
          "output_type": "execute_result",
          "data": {
            "text/plain": [
              "job\n",
              "admin.           0.129738\n",
              "blue-collar      0.068958\n",
              "entrepreneur     0.085165\n",
              "housemaid        0.100000\n",
              "management       0.112213\n",
              "retired          0.252326\n",
              "self-employed    0.104856\n",
              "services         0.081381\n",
              "student          0.314286\n",
              "technician       0.108260\n",
              "unemployed       0.142012\n",
              "unknown          0.112121\n",
              "Name: y, dtype: float64"
            ]
          },
          "metadata": {
            "tags": []
          },
          "execution_count": 52
        }
      ]
    },
    {
      "cell_type": "code",
      "metadata": {
        "id": "8gAkJRMNXryo",
        "colab_type": "code",
        "outputId": "4086c261-01f0-495b-a756-a2bbc1f786c8",
        "colab": {
          "base_uri": "https://localhost:8080/",
          "height": 119
        }
      },
      "source": [
        "bank.groupby('marital')['y'].mean()"
      ],
      "execution_count": 0,
      "outputs": [
        {
          "output_type": "execute_result",
          "data": {
            "text/plain": [
              "marital\n",
              "divorced    0.103231\n",
              "married     0.101585\n",
              "single      0.140041\n",
              "unknown     0.150000\n",
              "Name: y, dtype: float64"
            ]
          },
          "metadata": {
            "tags": []
          },
          "execution_count": 53
        }
      ]
    },
    {
      "cell_type": "code",
      "metadata": {
        "id": "4TWJ4u5dX_Wp",
        "colab_type": "code",
        "outputId": "070ad7c7-92f5-4801-9482-471ced365acf",
        "colab": {
          "base_uri": "https://localhost:8080/",
          "height": 187
        }
      },
      "source": [
        "bank.groupby('education')['y'].mean()"
      ],
      "execution_count": 0,
      "outputs": [
        {
          "output_type": "execute_result",
          "data": {
            "text/plain": [
              "education\n",
              "basic.4y               0.102490\n",
              "basic.6y               0.082024\n",
              "basic.9y               0.078259\n",
              "high.school            0.108378\n",
              "illiterate             0.222222\n",
              "professional.course    0.113485\n",
              "university.degree      0.137257\n",
              "unknown                0.145003\n",
              "Name: y, dtype: float64"
            ]
          },
          "metadata": {
            "tags": []
          },
          "execution_count": 55
        }
      ]
    },
    {
      "cell_type": "code",
      "metadata": {
        "id": "xxjUgCU-YXcN",
        "colab_type": "code",
        "outputId": "afef5de1-b3ef-47ff-eb98-cd201923e36f",
        "colab": {
          "base_uri": "https://localhost:8080/",
          "height": 102
        }
      },
      "source": [
        "bank.groupby('default')['y'].mean()"
      ],
      "execution_count": 0,
      "outputs": [
        {
          "output_type": "execute_result",
          "data": {
            "text/plain": [
              "default\n",
              "no         0.128806\n",
              "unknown    0.051530\n",
              "yes        0.000000\n",
              "Name: y, dtype: float64"
            ]
          },
          "metadata": {
            "tags": []
          },
          "execution_count": 56
        }
      ]
    },
    {
      "cell_type": "code",
      "metadata": {
        "id": "cddUvxgfYd6E",
        "colab_type": "code",
        "outputId": "ca78ea01-d4a5-4d67-98ba-29eecf97afdd",
        "colab": {
          "base_uri": "https://localhost:8080/",
          "height": 102
        }
      },
      "source": [
        "bank.groupby('housing')['y'].mean()"
      ],
      "execution_count": 0,
      "outputs": [
        {
          "output_type": "execute_result",
          "data": {
            "text/plain": [
              "housing\n",
              "no         0.108802\n",
              "unknown    0.108081\n",
              "yes        0.116210\n",
              "Name: y, dtype: float64"
            ]
          },
          "metadata": {
            "tags": []
          },
          "execution_count": 57
        }
      ]
    },
    {
      "cell_type": "code",
      "metadata": {
        "id": "c6geB77WYi9F",
        "colab_type": "code",
        "outputId": "6526abe8-8f9d-4de4-aa66-24f052f7be58",
        "colab": {
          "base_uri": "https://localhost:8080/",
          "height": 102
        }
      },
      "source": [
        "bank.groupby('loan')['y'].mean()"
      ],
      "execution_count": 0,
      "outputs": [
        {
          "output_type": "execute_result",
          "data": {
            "text/plain": [
              "loan\n",
              "no         0.113415\n",
              "unknown    0.108081\n",
              "yes        0.109315\n",
              "Name: y, dtype: float64"
            ]
          },
          "metadata": {
            "tags": []
          },
          "execution_count": 67
        }
      ]
    },
    {
      "cell_type": "code",
      "metadata": {
        "id": "qFL7gr2_aZCR",
        "colab_type": "code",
        "outputId": "fb9cafb1-530a-4719-f175-95f708e452a3",
        "colab": {
          "base_uri": "https://localhost:8080/",
          "height": 85
        }
      },
      "source": [
        "bank.groupby('contact')['y'].mean()"
      ],
      "execution_count": 0,
      "outputs": [
        {
          "output_type": "execute_result",
          "data": {
            "text/plain": [
              "contact\n",
              "cellular     0.147393\n",
              "telephone    0.052317\n",
              "Name: y, dtype: float64"
            ]
          },
          "metadata": {
            "tags": []
          },
          "execution_count": 68
        }
      ]
    },
    {
      "cell_type": "code",
      "metadata": {
        "id": "IL1jCLcAacgY",
        "colab_type": "code",
        "outputId": "c57c5ff0-9f4a-4ee9-dbce-8bc7f471dec0",
        "colab": {
          "base_uri": "https://localhost:8080/",
          "height": 221
        }
      },
      "source": [
        "bank.groupby('month')['y'].mean()"
      ],
      "execution_count": 0,
      "outputs": [
        {
          "output_type": "execute_result",
          "data": {
            "text/plain": [
              "month\n",
              "apr    0.204865\n",
              "aug    0.106039\n",
              "dec    0.489011\n",
              "jul    0.090466\n",
              "jun    0.105115\n",
              "mar    0.505495\n",
              "may    0.064357\n",
              "nov    0.101439\n",
              "oct    0.438719\n",
              "sep    0.449123\n",
              "Name: y, dtype: float64"
            ]
          },
          "metadata": {
            "tags": []
          },
          "execution_count": 69
        }
      ]
    },
    {
      "cell_type": "code",
      "metadata": {
        "id": "kqvR99gfagqH",
        "colab_type": "code",
        "outputId": "082a6b3b-bfc4-4c21-cbb6-c893e9e36b8e",
        "colab": {
          "base_uri": "https://localhost:8080/",
          "height": 136
        }
      },
      "source": [
        "bank.groupby('day_of_week')['y'].mean()"
      ],
      "execution_count": 0,
      "outputs": [
        {
          "output_type": "execute_result",
          "data": {
            "text/plain": [
              "day_of_week\n",
              "fri    0.108101\n",
              "mon    0.099495\n",
              "thu    0.121188\n",
              "tue    0.117829\n",
              "wed    0.116671\n",
              "Name: y, dtype: float64"
            ]
          },
          "metadata": {
            "tags": []
          },
          "execution_count": 70
        }
      ]
    },
    {
      "cell_type": "code",
      "metadata": {
        "id": "K46e27e0akvi",
        "colab_type": "code",
        "outputId": "91406c41-449e-4aef-f1b2-7306e77e4744",
        "colab": {
          "base_uri": "https://localhost:8080/",
          "height": 396
        }
      },
      "source": [
        "bank['Campaign'] = pd.cut(bank['campaign'],[0,5,10,15,20,25,56])\n",
        "c=bank.groupby('Campaign',as_index=False)['y'].mean()\n",
        "plt.figure(figsize=(10,5))\n",
        "sns.pointplot(x='Campaign',y='y',data=c)\n",
        "plt.xticks(rotation=60)\n",
        "plt.title('Campaign & y')"
      ],
      "execution_count": 0,
      "outputs": [
        {
          "output_type": "execute_result",
          "data": {
            "text/plain": [
              "Text(0.5, 1.0, 'Campaign & y')"
            ]
          },
          "metadata": {
            "tags": []
          },
          "execution_count": 45
        },
        {
          "output_type": "display_data",
          "data": {
            "image/png": "[encoded data removed]",
            "text/plain": [
              "<Figure size 720x360 with 1 Axes>"
            ]
          },
          "metadata": {
            "tags": []
          }
        }
      ]
    },
    {
      "cell_type": "code",
      "metadata": {
        "id": "3PZHHE9gbHMI",
        "colab_type": "code",
        "outputId": "ad27317e-b082-4471-e648-b7a991df4a6a",
        "colab": {
          "base_uri": "https://localhost:8080/",
          "height": 401
        }
      },
      "source": [
        "bank['Pdays'] = pd.cut(bank['pdays'],[0,5,10,15,20,27,999])\n",
        "p=bank.groupby('Pdays',as_index=False)['y'].mean()\n",
        "plt.figure(figsize=(10,5))\n",
        "sns.pointplot(x='Pdays',y='y',data=p)\n",
        "plt.xticks(rotation=60)\n",
        "plt.title('Pdays & y')"
      ],
      "execution_count": 0,
      "outputs": [
        {
          "output_type": "execute_result",
          "data": {
            "text/plain": [
              "Text(0.5, 1.0, 'Pdays & y')"
            ]
          },
          "metadata": {
            "tags": []
          },
          "execution_count": 48
        },
        {
          "output_type": "display_data",
          "data": {
            "image/png": "[encoded data removed]",
            "text/plain": [
              "<Figure size 720x360 with 1 Axes>"
            ]
          },
          "metadata": {
            "tags": []
          }
        }
      ]
    },
    {
      "cell_type": "code",
      "metadata": {
        "id": "8f8wf9KZbP9u",
        "colab_type": "code",
        "outputId": "581ee8be-a1fa-4246-8845-065e2a180f2b",
        "colab": {
          "base_uri": "https://localhost:8080/",
          "height": 142
        }
      },
      "source": [
        "bank.groupby('poutcome',as_index=False)['y'].mean()"
      ],
      "execution_count": 0,
      "outputs": [
        {
          "output_type": "execute_result",
          "data": {
            "text/html": [
              "<div>\n",
              "<style scoped>\n",
              "    .dataframe tbody tr th:only-of-type {\n",
              "        vertical-align: middle;\n",
              "    }\n",
              "\n",
              "    .dataframe tbody tr th {\n",
              "        vertical-align: top;\n",
              "    }\n",
              "\n",
              "    .dataframe thead th {\n",
              "        text-align: right;\n",
              "    }\n",
              "</style>\n",
              "<table border=\"1\" class=\"dataframe\">\n",
              "  <thead>\n",
              "    <tr style=\"text-align: right;\">\n",
              "      <th></th>\n",
              "      <th>poutcome</th>\n",
              "      <th>y</th>\n",
              "    </tr>\n",
              "  </thead>\n",
              "  <tbody>\n",
              "    <tr>\n",
              "      <th>0</th>\n",
              "      <td>failure</td>\n",
              "      <td>0.142286</td>\n",
              "    </tr>\n",
              "    <tr>\n",
              "      <th>1</th>\n",
              "      <td>nonexistent</td>\n",
              "      <td>0.088332</td>\n",
              "    </tr>\n",
              "    <tr>\n",
              "      <th>2</th>\n",
              "      <td>success</td>\n",
              "      <td>0.651129</td>\n",
              "    </tr>\n",
              "  </tbody>\n",
              "</table>\n",
              "</div>"
            ],
            "text/plain": [
              "      poutcome         y\n",
              "0      failure  0.142286\n",
              "1  nonexistent  0.088332\n",
              "2      success  0.651129"
            ]
          },
          "metadata": {
            "tags": []
          },
          "execution_count": 76
        }
      ]
    },
    {
      "cell_type": "code",
      "metadata": {
        "id": "QQaq60hjbcEo",
        "colab_type": "code",
        "outputId": "64add55a-c84a-4be4-9333-d92fbfb8c222",
        "colab": {
          "base_uri": "https://localhost:8080/",
          "height": 51
        }
      },
      "source": [
        "#bank[['month','day_of_week','emp.var.rate','cons.price.idx','cons.conf.idx','euribor3m','nr.employed']].drop_duplicates()\n",
        "#bank[['month','day_of_week','emp.var.rate']].drop_duplicates()\n",
        "pd.unique(bank['nr.employed'])"
      ],
      "execution_count": 0,
      "outputs": [
        {
          "output_type": "execute_result",
          "data": {
            "text/plain": [
              "array([5191. , 5228.1, 5195.8, 5176.3, 5099.1, 5076.2, 5017.5, 5023.5,\n",
              "       5008.7, 4991.6, 4963.6])"
            ]
          },
          "metadata": {
            "tags": []
          },
          "execution_count": 90
        }
      ]
    },
    {
      "cell_type": "code",
      "metadata": {
        "id": "xLUoOiFQSvi6",
        "colab_type": "code",
        "outputId": "40e6ff6b-44c8-4c89-b2fd-a99c4a77e8ba",
        "colab": {
          "base_uri": "https://localhost:8080/",
          "height": 224
        }
      },
      "source": [
        "bank.head()"
      ],
      "execution_count": 0,
      "outputs": [
        {
          "output_type": "execute_result",
          "data": {
            "text/html": [
              "<div>\n",
              "<style scoped>\n",
              "    .dataframe tbody tr th:only-of-type {\n",
              "        vertical-align: middle;\n",
              "    }\n",
              "\n",
              "    .dataframe tbody tr th {\n",
              "        vertical-align: top;\n",
              "    }\n",
              "\n",
              "    .dataframe thead th {\n",
              "        text-align: right;\n",
              "    }\n",
              "</style>\n",
              "<table border=\"1\" class=\"dataframe\">\n",
              "  <thead>\n",
              "    <tr style=\"text-align: right;\">\n",
              "      <th></th>\n",
              "      <th>age</th>\n",
              "      <th>job</th>\n",
              "      <th>marital</th>\n",
              "      <th>education</th>\n",
              "      <th>default</th>\n",
              "      <th>housing</th>\n",
              "      <th>loan</th>\n",
              "      <th>contact</th>\n",
              "      <th>month</th>\n",
              "      <th>day_of_week</th>\n",
              "      <th>duration</th>\n",
              "      <th>campaign</th>\n",
              "      <th>pdays</th>\n",
              "      <th>previous</th>\n",
              "      <th>poutcome</th>\n",
              "      <th>emp.var.rate</th>\n",
              "      <th>cons.price.idx</th>\n",
              "      <th>cons.conf.idx</th>\n",
              "      <th>euribor3m</th>\n",
              "      <th>nr.employed</th>\n",
              "      <th>y</th>\n",
              "    </tr>\n",
              "  </thead>\n",
              "  <tbody>\n",
              "    <tr>\n",
              "      <th>0</th>\n",
              "      <td>56</td>\n",
              "      <td>housemaid</td>\n",
              "      <td>married</td>\n",
              "      <td>basic.4y</td>\n",
              "      <td>no</td>\n",
              "      <td>no</td>\n",
              "      <td>no</td>\n",
              "      <td>telephone</td>\n",
              "      <td>may</td>\n",
              "      <td>mon</td>\n",
              "      <td>261</td>\n",
              "      <td>1</td>\n",
              "      <td>999</td>\n",
              "      <td>0</td>\n",
              "      <td>nonexistent</td>\n",
              "      <td>1.1</td>\n",
              "      <td>93.994</td>\n",
              "      <td>-36.4</td>\n",
              "      <td>4.857</td>\n",
              "      <td>5191.0</td>\n",
              "      <td>no</td>\n",
              "    </tr>\n",
              "    <tr>\n",
              "      <th>1</th>\n",
              "      <td>57</td>\n",
              "      <td>services</td>\n",
              "      <td>married</td>\n",
              "      <td>high.school</td>\n",
              "      <td>unknown</td>\n",
              "      <td>no</td>\n",
              "      <td>no</td>\n",
              "      <td>telephone</td>\n",
              "      <td>may</td>\n",
              "      <td>mon</td>\n",
              "      <td>149</td>\n",
              "      <td>1</td>\n",
              "      <td>999</td>\n",
              "      <td>0</td>\n",
              "      <td>nonexistent</td>\n",
              "      <td>1.1</td>\n",
              "      <td>93.994</td>\n",
              "      <td>-36.4</td>\n",
              "      <td>4.857</td>\n",
              "      <td>5191.0</td>\n",
              "      <td>no</td>\n",
              "    </tr>\n",
              "    <tr>\n",
              "      <th>2</th>\n",
              "      <td>37</td>\n",
              "      <td>services</td>\n",
              "      <td>married</td>\n",
              "      <td>high.school</td>\n",
              "      <td>no</td>\n",
              "      <td>yes</td>\n",
              "      <td>no</td>\n",
              "      <td>telephone</td>\n",
              "      <td>may</td>\n",
              "      <td>mon</td>\n",
              "      <td>226</td>\n",
              "      <td>1</td>\n",
              "      <td>999</td>\n",
              "      <td>0</td>\n",
              "      <td>nonexistent</td>\n",
              "      <td>1.1</td>\n",
              "      <td>93.994</td>\n",
              "      <td>-36.4</td>\n",
              "      <td>4.857</td>\n",
              "      <td>5191.0</td>\n",
              "      <td>no</td>\n",
              "    </tr>\n",
              "    <tr>\n",
              "      <th>3</th>\n",
              "      <td>40</td>\n",
              "      <td>admin.</td>\n",
              "      <td>married</td>\n",
              "      <td>basic.6y</td>\n",
              "      <td>no</td>\n",
              "      <td>no</td>\n",
              "      <td>no</td>\n",
              "      <td>telephone</td>\n",
              "      <td>may</td>\n",
              "      <td>mon</td>\n",
              "      <td>151</td>\n",
              "      <td>1</td>\n",
              "      <td>999</td>\n",
              "      <td>0</td>\n",
              "      <td>nonexistent</td>\n",
              "      <td>1.1</td>\n",
              "      <td>93.994</td>\n",
              "      <td>-36.4</td>\n",
              "      <td>4.857</td>\n",
              "      <td>5191.0</td>\n",
              "      <td>no</td>\n",
              "    </tr>\n",
              "    <tr>\n",
              "      <th>4</th>\n",
              "      <td>56</td>\n",
              "      <td>services</td>\n",
              "      <td>married</td>\n",
              "      <td>high.school</td>\n",
              "      <td>no</td>\n",
              "      <td>no</td>\n",
              "      <td>yes</td>\n",
              "      <td>telephone</td>\n",
              "      <td>may</td>\n",
              "      <td>mon</td>\n",
              "      <td>307</td>\n",
              "      <td>1</td>\n",
              "      <td>999</td>\n",
              "      <td>0</td>\n",
              "      <td>nonexistent</td>\n",
              "      <td>1.1</td>\n",
              "      <td>93.994</td>\n",
              "      <td>-36.4</td>\n",
              "      <td>4.857</td>\n",
              "      <td>5191.0</td>\n",
              "      <td>no</td>\n",
              "    </tr>\n",
              "  </tbody>\n",
              "</table>\n",
              "</div>"
            ],
            "text/plain": [
              "   age        job  marital  ... euribor3m nr.employed   y\n",
              "0   56  housemaid  married  ...     4.857      5191.0  no\n",
              "1   57   services  married  ...     4.857      5191.0  no\n",
              "2   37   services  married  ...     4.857      5191.0  no\n",
              "3   40     admin.  married  ...     4.857      5191.0  no\n",
              "4   56   services  married  ...     4.857      5191.0  no\n",
              "\n",
              "[5 rows x 21 columns]"
            ]
          },
          "metadata": {
            "tags": []
          },
          "execution_count": 37
        }
      ]
    },
    {
      "cell_type": "code",
      "metadata": {
        "id": "RBs0eQRUNv3R",
        "colab_type": "code",
        "colab": {}
      },
      "source": [
        "bank = pd.read_csv('bank.csv',sep = ';')\n",
        "bank.drop(['duration'],axis = 1,inplace=True)\n",
        "bank['y']=bank['y'].map(lambda x: False if x=='no' else True)\n",
        "#bank['duration'] = bank['duration'].map(lambda x:np.log1p(x))\n",
        "data=pd.get_dummies(bank)\n",
        "data.head()\n",
        "y=data.y\n",
        "x=data.drop('y',axis=1)\n",
        "trainx,testx,trainy,testy=train_test_split(x,y,test_size=0.3,random_state=99)"
      ],
      "execution_count": 0,
      "outputs": []
    },
    {
      "cell_type": "code",
      "metadata": {
        "id": "H9nKCZiQ0a16",
        "colab_type": "code",
        "outputId": "d509ac88-9f44-44fb-caf2-939e09279f6b",
        "colab": {
          "base_uri": "https://localhost:8080/",
          "height": 139
        }
      },
      "source": [
        "from imblearn.over_sampling import SMOTE\n",
        "sm = SMOTE(random_state=12, ratio = 1.0)\n",
        "trainx_res, trainy_res = sm.fit_sample(trainx, trainy)"
      ],
      "execution_count": 0,
      "outputs": [
        {
          "output_type": "stream",
          "text": [
            "/usr/local/lib/python3.6/dist-packages/sklearn/externals/six.py:31: FutureWarning: The module is deprecated in version 0.21 and will be removed in version 0.23 since we've dropped support for Python 2.7. Please rely on the official version of six (https://pypi.org/project/six/).\n",
            "  \"(https://pypi.org/project/six/).\", FutureWarning)\n",
            "/usr/local/lib/python3.6/dist-packages/sklearn/utils/deprecation.py:144: FutureWarning: The sklearn.neighbors.base module is  deprecated in version 0.22 and will be removed in version 0.24. The corresponding classes / functions should instead be imported from sklearn.neighbors. Anything that cannot be imported from sklearn.neighbors is now part of the private API.\n",
            "  warnings.warn(message, FutureWarning)\n",
            "/usr/local/lib/python3.6/dist-packages/sklearn/utils/deprecation.py:87: FutureWarning: Function safe_indexing is deprecated; safe_indexing is deprecated in version 0.22 and will be removed in version 0.24.\n",
            "  warnings.warn(msg, category=FutureWarning)\n"
          ],
          "name": "stderr"
        }
      ]
    },
    {
      "cell_type": "code",
      "metadata": {
        "id": "CLSDiJ5OTZfY",
        "colab_type": "code",
        "colab": {}
      },
      "source": [
        "neg = data[data.y==False]#36548\n",
        "pos = data[data.y==True]#4640"
      ],
      "execution_count": 0,
      "outputs": []
    },
    {
      "cell_type": "code",
      "metadata": {
        "id": "TIu82U2vTTvy",
        "colab_type": "code",
        "colab": {}
      },
      "source": [
        "#from sklearn.utils import resample\n",
        "#pos_upsampled = resample(pos,replace=True,  # sample with replacement\n",
        "#                             n_samples=36544,  # to match majority class\n",
        "#                             random_state=1)  # reproducible results\n",
        "#data_upsampled = pd.concat([neg, pos_upsampled])\n",
        "#y_upsampled=data_upsampled.y\n",
        "#x_upsampled=data_upsampled.drop('y',axis=1)\n",
        "#trainx1,testx1,trainy1,testy1=train_test_split(x_upsampled,y_upsampled,test_size=0.3,random_state=99)\n",
        "\n",
        "\n",
        "#downsampled = resample(neg, replace=False,n_samples=4640, random_state=1)\n",
        "\n",
        "#dataset_downsampled = pd.concat([downsampled, pos])\n",
        "#dataset_downsampled.y.value_counts()\n",
        "#y=dataset_downsampled.y\n",
        "#x=dataset_downsampled.drop('y',axis=1)\n",
        "#trainx,testx,trainy,testy=train_test_split(x,y,test_size=0.2,random_state=99)"
      ],
      "execution_count": 0,
      "outputs": []
    },
    {
      "cell_type": "code",
      "metadata": {
        "id": "BMT9Lyo9n7JM",
        "colab_type": "code",
        "colab": {}
      },
      "source": [
        "def prc(model,testx,testy):\n",
        "\n",
        "  lr_probs = model.predict_proba(testx)\n",
        "  lr_probs = lr_probs[:, 1]\n",
        "  yhat = model.predict(testx)\n",
        "  lr_precision, lr_recall, _ = precision_recall_curve(testy, lr_probs)\n",
        "  lr_f1, lr_auc = f1_score(testy, yhat), auc(lr_recall, lr_precision)\n",
        "\n",
        "  print('KNN: f1=%.3f auc=%.3f' % (lr_f1, lr_auc))\n",
        "  # plot the precision-recall curves\n",
        "  no_skill = len(testy[testy==1]) / len(testy)\n",
        "  pyplot.plot([0, 1], [no_skill, no_skill], linestyle='--', label='No Model')\n",
        "  pyplot.plot(lr_recall, lr_precision, marker='.', label='knn')\n",
        "  # axis labels\n",
        "  pyplot.xlabel('Recall')\n",
        "  pyplot.ylabel('Precision')\n",
        "  # show the legend\n",
        "  pyplot.legend()\n",
        "  # show the plot\n",
        "  pyplot.show()"
      ],
      "execution_count": 0,
      "outputs": []
    },
    {
      "cell_type": "code",
      "metadata": {
        "id": "Vp8qgN84xfFo",
        "colab_type": "code",
        "colab": {}
      },
      "source": [
        "from sklearn.metrics import roc_curve\n",
        "def roc(model,testx,testy):\n",
        "    ns_probs = [0 for _ in range(len(testy))]\n",
        "    lr_probs = model.predict_proba(testx)\n",
        "# keep probabilities for the positive outcome only\n",
        "    lr_probs = lr_probs[:, 1]\n",
        "# calculate scores\n",
        "    ns_auc = roc_auc_score(testy, ns_probs)\n",
        "    lr_auc = roc_auc_score(testy, lr_probs)\n",
        "# summarize scores\n",
        "    print('No Skill: ROC AUC=%.3f' % (ns_auc))\n",
        "    print('Logistic: ROC AUC=%.3f' % (lr_auc))\n",
        "# calculate roc curves\n",
        "    ns_fpr, ns_tpr, _ = roc_curve(testy, ns_probs)\n",
        "    lr_fpr, lr_tpr, _ = roc_curve(testy, lr_probs)\n",
        "# plot the roc curve for the model\n",
        "    pyplot.figure(figsize=(10,5))\n",
        "    pyplot.plot(ns_fpr, ns_tpr, linestyle='--', label='Random guess')\n",
        "    pyplot.plot(lr_fpr, lr_tpr, marker='.', label='KNN')\n",
        "# axis labels\n",
        "    pyplot.xlabel('False Positive Rate')\n",
        "    pyplot.ylabel('True Positive Rate')\n",
        "    pyplot.title('ROC')\n",
        "# show the legend\n",
        "    pyplot.legend()\n",
        "# show the plot\n",
        "    pyplot.show()"
      ],
      "execution_count": 0,
      "outputs": []
    },
    {
      "cell_type": "code",
      "metadata": {
        "id": "aH4jGY6fxys_",
        "colab_type": "code",
        "outputId": "02356580-7b9f-4e9b-95cb-18edbee4a079",
        "colab": {
          "base_uri": "https://localhost:8080/",
          "height": 384
        }
      },
      "source": [
        "roc(model,testx,testy)"
      ],
      "execution_count": 0,
      "outputs": [
        {
          "output_type": "stream",
          "text": [
            "No Skill: ROC AUC=0.500\n",
            "Logistic: ROC AUC=0.761\n"
          ],
          "name": "stdout"
        },
        {
          "output_type": "display_data",
          "data": {
            "image/png": "[encoded data removed]",
            "text/plain": [
              "<Figure size 720x360 with 1 Axes>"
            ]
          },
          "metadata": {
            "tags": []
          }
        }
      ]
    },
    {
      "cell_type": "code",
      "metadata": {
        "id": "p8Im5qsmykhn",
        "colab_type": "code",
        "outputId": "6a4bb7dc-70d6-42e8-9223-ab151b091ad4",
        "colab": {
          "base_uri": "https://localhost:8080/",
          "height": 296
        }
      },
      "source": [
        "prc(model,testx,testy)"
      ],
      "execution_count": 0,
      "outputs": [
        {
          "output_type": "stream",
          "text": [
            "KNN: f1=0.321 auc=0.423\n"
          ],
          "name": "stdout"
        },
        {
          "output_type": "display_data",
          "data": {
            "image/png": "[encoded data removed]",
            "text/plain": [
              "<Figure size 432x288 with 1 Axes>"
            ]
          },
          "metadata": {
            "tags": []
          }
        }
      ]
    },
    {
      "cell_type": "code",
      "metadata": {
        "id": "mi5ZsDb2TlNA",
        "colab_type": "code",
        "outputId": "fa491db8-aff6-4f22-c139-5b0ba3eba089",
        "colab": {
          "base_uri": "https://localhost:8080/",
          "height": 85
        }
      },
      "source": [
        "from sklearn.feature_selection import SelectKBest\n",
        "from sklearn.feature_selection import f_regression\n",
        "\n",
        "\n",
        "selectKBest = SelectKBest(f_regression, k=10)\n",
        "feature = x\n",
        "bestFeature = selectKBest.fit_transform(x, y)\n",
        "x.columns[selectKBest.get_support()]\n"
      ],
      "execution_count": 0,
      "outputs": [
        {
          "output_type": "execute_result",
          "data": {
            "text/plain": [
              "Index(['pdays', 'previous', 'emp.var.rate', 'euribor3m', 'nr.employed',\n",
              "       'contact_cellular', 'contact_telephone', 'month_mar',\n",
              "       'poutcome_nonexistent', 'poutcome_success'],\n",
              "      dtype='object')"
            ]
          },
          "metadata": {
            "tags": []
          },
          "execution_count": 5
        }
      ]
    },
    {
      "cell_type": "code",
      "metadata": {
        "id": "qLxVG57qJ0_o",
        "colab_type": "code",
        "outputId": "1b9d173c-ace3-4e9a-952f-1d09e294d5f5",
        "colab": {
          "base_uri": "https://localhost:8080/",
          "height": 789
        }
      },
      "source": [
        "neighbors = np.arange(0,30)\n",
        "\n",
        "#Create empty list that will hold cv scores\n",
        "cv_scores = []\n",
        "\n",
        "#Perform 10-fold cross validation on training set for odd values of k:\n",
        "for k in neighbors:\n",
        "    k_value = k+1\n",
        "    knn = KNeighborsClassifier(n_neighbors = k_value)\n",
        "    kfold = model_selection.KFold(n_splits=10)\n",
        "    scores = model_selection.cross_val_score(knn, trainx, trainy, cv=kfold, scoring='roc_auc')\n",
        "    #roc_auc\n",
        "    cv_scores.append(scores.mean()*100)\n",
        "    print(\"k=%d %0.2f (+/- %0.2f)\" % (k_value, scores.mean()*100, scores.std()*100))\n",
        "\n",
        "plt.plot(neighbors, cv_scores)\n",
        "plt.xlabel('Number of Neighbors K')\n",
        "plt.ylabel('Train Accuracy')\n",
        "plt.show()"
      ],
      "execution_count": 0,
      "outputs": [
        {
          "output_type": "stream",
          "text": [
            "k=1 61.78 (+/- 1.68)\n",
            "k=2 67.32 (+/- 1.42)\n",
            "k=3 70.37 (+/- 1.05)\n",
            "k=4 72.19 (+/- 0.98)\n",
            "k=5 73.59 (+/- 0.79)\n",
            "k=6 74.37 (+/- 0.88)\n",
            "k=7 75.03 (+/- 0.94)\n",
            "k=8 75.47 (+/- 0.99)\n",
            "k=9 75.82 (+/- 0.91)\n",
            "k=10 76.10 (+/- 0.97)\n",
            "k=11 76.22 (+/- 1.08)\n",
            "k=12 76.47 (+/- 1.17)\n",
            "k=13 76.47 (+/- 1.05)\n",
            "k=14 76.72 (+/- 0.83)\n",
            "k=15 76.95 (+/- 0.88)\n",
            "k=16 77.10 (+/- 0.97)\n",
            "k=17 77.24 (+/- 0.91)\n",
            "k=18 77.43 (+/- 0.98)\n",
            "k=19 77.34 (+/- 1.03)\n",
            "k=20 77.39 (+/- 0.96)\n",
            "k=21 77.45 (+/- 0.89)\n",
            "k=22 77.62 (+/- 0.95)\n",
            "k=23 77.77 (+/- 0.88)\n",
            "k=24 77.72 (+/- 0.90)\n",
            "k=25 77.73 (+/- 0.93)\n",
            "k=26 77.76 (+/- 0.85)\n",
            "k=27 77.84 (+/- 0.95)\n",
            "k=28 77.92 (+/- 0.96)\n",
            "k=29 77.92 (+/- 0.96)\n",
            "k=30 77.90 (+/- 0.90)\n"
          ],
          "name": "stdout"
        },
        {
          "output_type": "display_data",
          "data": {
            "image/png": "[encoded data removed]",
            "text/plain": [
              "<Figure size 432x288 with 1 Axes>"
            ]
          },
          "metadata": {
            "tags": []
          }
        }
      ]
    },
    {
      "cell_type": "code",
      "metadata": {
        "id": "9cLw268WthLo",
        "colab_type": "code",
        "outputId": "cd8639e8-d93e-4de4-aa41-401010d9e1cf",
        "colab": {
          "base_uri": "https://localhost:8080/",
          "height": 339
        }
      },
      "source": [
        "s = cv_scores[:20]\n",
        "plt.figure(figsize=(10,5))\n",
        "plt.plot(np.arange(1,21).astype(dtype=np.str), s)\n",
        "plt.xlabel('n_neighbors')\n",
        "plt.ylabel('Train Accuracy')\n",
        "plt.axis([0,20,60,80])\n",
        "plt.show()"
      ],
      "execution_count": 0,
      "outputs": [
        {
          "output_type": "display_data",
          "data": {
            "image/png": "[encoded data removed]",
            "text/plain": [
              "<Figure size 720x360 with 1 Axes>"
            ]
          },
          "metadata": {
            "tags": []
          }
        }
      ]
    },
    {
      "cell_type": "code",
      "metadata": {
        "id": "hqK_c0wrvEDn",
        "colab_type": "code",
        "outputId": "ccf890b4-529f-4623-e78e-893079af1f36",
        "colab": {
          "base_uri": "https://localhost:8080/",
          "height": 34
        }
      },
      "source": [
        "parameter = {'n_neighbors': [i for i in range(1,25)]}\n",
        "  \n",
        "gs = GridSearchCV(KNeighborsClassifier(),parameter, scoring='roc_auc',cv=5)\n",
        "gs.fit(x,y)\n",
        "gs.best_params_\n",
        "#gs = GridSearchCV(KNeighborsClassifier(),param_grid=parameter, scoring='roc_auc', cv=5)\n",
        "#scores = cross_val_score(gs, trainx, trainy, scoring='roc_auc', cv=5)\n"
      ],
      "execution_count": 0,
      "outputs": [
        {
          "output_type": "execute_result",
          "data": {
            "text/plain": [
              "{'n_neighbors': 1}"
            ]
          },
          "metadata": {
            "tags": []
          },
          "execution_count": 11
        }
      ]
    },
    {
      "cell_type": "code",
      "metadata": {
        "id": "ocJv77KPerr0",
        "colab_type": "code",
        "outputId": "c10a590a-5158-48ca-bbe7-8467a150f643",
        "colab": {
          "base_uri": "https://localhost:8080/",
          "height": 238
        }
      },
      "source": [
        "#model = KNeighborsClassifier(weights='distance',p=5, n_neighbors= 10)\n",
        "model = KNeighborsClassifier(n_neighbors = 18)\n",
        "model.fit(trainx,trainy)\n",
        "prey=model.predict(testx)\n",
        "print(confusion_matrix(testy,prey))\n",
        "print(classification_report(testy,prey))\n",
        "print(accuracy_score(testy,prey))\n",
        "print(roc_auc_score(testy,prey))"
      ],
      "execution_count": 0,
      "outputs": [
        {
          "output_type": "stream",
          "text": [
            "[[10750   185]\n",
            " [ 1115   307]]\n",
            "              precision    recall  f1-score   support\n",
            "\n",
            "       False       0.91      0.98      0.94     10935\n",
            "        True       0.62      0.22      0.32      1422\n",
            "\n",
            "    accuracy                           0.89     12357\n",
            "   macro avg       0.77      0.60      0.63     12357\n",
            "weighted avg       0.87      0.89      0.87     12357\n",
            "\n",
            "0.8947964716355102\n",
            "0.5994874777887749\n"
          ],
          "name": "stdout"
        }
      ]
    },
    {
      "cell_type": "code",
      "metadata": {
        "id": "VUu8aFfyfw8V",
        "colab_type": "code",
        "outputId": "8995deeb-2996-4c1f-caca-605a9576e75f",
        "colab": {
          "base_uri": "https://localhost:8080/",
          "height": 238
        }
      },
      "source": [
        "model = KNeighborsClassifier()\n",
        "model.fit(trainx,trainy)\n",
        "prey=model.predict(testx)\n",
        "print(confusion_matrix(testy,prey))\n",
        "print(classification_report(testy,prey))\n",
        "print(accuracy_score(testy,prey))\n",
        "print(roc_auc_score(testy,prey))"
      ],
      "execution_count": 0,
      "outputs": [
        {
          "output_type": "stream",
          "text": [
            "[[7028  266]\n",
            " [ 682  262]]\n",
            "              precision    recall  f1-score   support\n",
            "\n",
            "       False       0.91      0.96      0.94      7294\n",
            "        True       0.50      0.28      0.36       944\n",
            "\n",
            "    accuracy                           0.88      8238\n",
            "   macro avg       0.70      0.62      0.65      8238\n",
            "weighted avg       0.86      0.88      0.87      8238\n",
            "\n",
            "0.8849235251274581\n",
            "0.6205370213734994\n"
          ],
          "name": "stdout"
        }
      ]
    },
    {
      "cell_type": "code",
      "metadata": {
        "id": "zXOIfRD-SHfU",
        "colab_type": "code",
        "outputId": "376bc3bf-8efa-44cd-c1eb-895c441cc3a1",
        "colab": {
          "base_uri": "https://localhost:8080/",
          "height": 68
        }
      },
      "source": [
        "model"
      ],
      "execution_count": 0,
      "outputs": [
        {
          "output_type": "execute_result",
          "data": {
            "text/plain": [
              "KNeighborsClassifier(algorithm='auto', leaf_size=30, metric='minkowski',\n",
              "                     metric_params=None, n_jobs=None, n_neighbors=5, p=2,\n",
              "                     weights='uniform')"
            ]
          },
          "metadata": {
            "tags": []
          },
          "execution_count": 20
        }
      ]
    },
    {
      "cell_type": "code",
      "metadata": {
        "id": "i4kOVcX3qd73",
        "colab_type": "code",
        "outputId": "2d4ebe85-65ce-4940-b64e-52669bb7498a",
        "colab": {
          "base_uri": "https://localhost:8080/",
          "height": 296
        }
      },
      "source": [
        "prc(model,testx,testy)"
      ],
      "execution_count": 0,
      "outputs": [
        {
          "output_type": "stream",
          "text": [
            "KNN: f1=0.335 auc=0.415\n"
          ],
          "name": "stdout"
        },
        {
          "output_type": "display_data",
          "data": {
            "image/png": "[encoded data removed]",
            "text/plain": [
              "<Figure size 432x288 with 1 Axes>"
            ]
          },
          "metadata": {
            "tags": []
          }
        }
      ]
    },
    {
      "cell_type": "code",
      "metadata": {
        "id": "onNMUEn4y_If",
        "colab_type": "code",
        "outputId": "b9382334-47d6-4f78-92d4-b238566f795f",
        "colab": {
          "base_uri": "https://localhost:8080/",
          "height": 68
        }
      },
      "source": [
        "from xgboost import XGBClassifier\n",
        "xgb = XGBClassifier(max_depth=5,learning_rate=0.1,n_estimators=160,silent=True,objective='binary:logistic')\n",
        "xgb.fit(trainx, trainy)\n",
        "xgbprd = xgb.predict(testx)\n",
        "\n",
        "print(confusion_matrix(testy, xgbprd ))\n",
        "print(round(accuracy_score(testy, xgbprd),2)*100)\n",
        "XGB = (cross_val_score(estimator = xgb, X = trainx, y = trainy, cv = 10).mean())"
      ],
      "execution_count": 0,
      "outputs": [
        {
          "output_type": "stream",
          "text": [
            "[[10743   219]\n",
            " [ 1028   366]]\n",
            "90.0\n"
          ],
          "name": "stdout"
        }
      ]
    },
    {
      "cell_type": "code",
      "metadata": {
        "id": "ZkG5vdh9Fi8H",
        "colab_type": "code",
        "outputId": "e8dd0d21-defb-4608-8883-b85249daec3b",
        "colab": {
          "base_uri": "https://localhost:8080/",
          "height": 34
        }
      },
      "source": [
        "XGB"
      ],
      "execution_count": 0,
      "outputs": [
        {
          "output_type": "execute_result",
          "data": {
            "text/plain": [
              "0.9013806917624505"
            ]
          },
          "metadata": {
            "tags": []
          },
          "execution_count": 41
        }
      ]
    },
    {
      "cell_type": "code",
      "metadata": {
        "id": "BU1DCt8LF2x7",
        "colab_type": "code",
        "outputId": "df38a970-f8cb-40eb-f3fc-2bd383b226f5",
        "colab": {
          "base_uri": "https://localhost:8080/",
          "height": 170
        }
      },
      "source": [
        "print(classification_report(testy,xgbprd))"
      ],
      "execution_count": 0,
      "outputs": [
        {
          "output_type": "stream",
          "text": [
            "              precision    recall  f1-score   support\n",
            "\n",
            "       False       0.91      0.98      0.95     10962\n",
            "        True       0.63      0.26      0.37      1394\n",
            "\n",
            "    accuracy                           0.90     12356\n",
            "   macro avg       0.77      0.62      0.66     12356\n",
            "weighted avg       0.88      0.90      0.88     12356\n",
            "\n"
          ],
          "name": "stdout"
        }
      ]
    },
    {
      "cell_type": "code",
      "metadata": {
        "id": "SCRnxyJkF9aR",
        "colab_type": "code",
        "outputId": "4694a5eb-9e9c-4d26-d261-14fd9694a7b2",
        "colab": {
          "base_uri": "https://localhost:8080/",
          "height": 54
        }
      },
      "source": [
        "import sklearn\n",
        "sklearn.metrics.SCORERS.keys()"
      ],
      "execution_count": 0,
      "outputs": [
        {
          "output_type": "execute_result",
          "data": {
            "text/plain": [
              "dict_keys(['explained_variance', 'r2', 'max_error', 'neg_median_absolute_error', 'neg_mean_absolute_error', 'neg_mean_squared_error', 'neg_mean_squared_log_error', 'neg_root_mean_squared_error', 'neg_mean_poisson_deviance', 'neg_mean_gamma_deviance', 'accuracy', 'roc_auc', 'roc_auc_ovr', 'roc_auc_ovo', 'roc_auc_ovr_weighted', 'roc_auc_ovo_weighted', 'balanced_accuracy', 'average_precision', 'neg_log_loss', 'neg_brier_score', 'adjusted_rand_score', 'homogeneity_score', 'completeness_score', 'v_measure_score', 'mutual_info_score', 'adjusted_mutual_info_score', 'normalized_mutual_info_score', 'fowlkes_mallows_score', 'precision', 'precision_macro', 'precision_micro', 'precision_samples', 'precision_weighted', 'recall', 'recall_macro', 'recall_micro', 'recall_samples', 'recall_weighted', 'f1', 'f1_macro', 'f1_micro', 'f1_samples', 'f1_weighted', 'jaccard', 'jaccard_macro', 'jaccard_micro', 'jaccard_samples', 'jaccard_weighted'])"
            ]
          },
          "metadata": {
            "tags": []
          },
          "execution_count": 25
        }
      ]
    },
    {
      "cell_type": "code",
      "metadata": {
        "id": "lnmonw8hlETg",
        "colab_type": "code",
        "colab": {}
      },
      "source": [
        "bank = pd.read_csv('bank.csv',sep = ';')\n",
        "bank.drop(['duration'],axis = 1,inplace=True)\n",
        "bank['y']=bank['y'].map(lambda x: False if x=='no' else True)\n",
        "#bank['duration'] = bank['duration'].map(lambda x:np.log1p(x))\n",
        "data=pd.get_dummies(bank)\n",
        "data.head()\n",
        "y=data.y\n",
        "x=data.drop('y',axis=1)\n",
        "trainx,testx,trainy,testy=train_test_split(x,y,test_size=0.2,random_state=1)"
      ],
      "execution_count": 0,
      "outputs": []
    },
    {
      "cell_type": "code",
      "metadata": {
        "id": "PhAT7hw8WYuM",
        "colab_type": "code",
        "outputId": "8edc87ff-9692-44cc-cc61-b7fbce53ec2a",
        "colab": {
          "base_uri": "https://localhost:8080/",
          "height": 272
        }
      },
      "source": [
        "model = KNeighborsClassifier(3)\n",
        "model.fit(trainx,trainy)\n",
        "prey=model.predict(testx)\n",
        "print(confusion_matrix(testy,prey))\n",
        "print(classification_report(testy,prey))\n",
        "print(accuracy_score(testy,prey))\n",
        "print(roc_auc_score(testy,prey))\n",
        "scores = cross_val_score(model, x, y, cv=5, scoring='accuracy')\n",
        "print(scores.mean())\n",
        "scores = cross_val_score(model, x, y, cv=5, scoring='roc_auc')\n",
        "print(scores.mean())"
      ],
      "execution_count": 0,
      "outputs": [
        {
          "output_type": "stream",
          "text": [
            "[[6974  320]\n",
            " [ 638  306]]\n",
            "              precision    recall  f1-score   support\n",
            "\n",
            "       False       0.92      0.96      0.94      7294\n",
            "        True       0.49      0.32      0.39       944\n",
            "\n",
            "    accuracy                           0.88      8238\n",
            "   macro avg       0.70      0.64      0.66      8238\n",
            "weighted avg       0.87      0.88      0.87      8238\n",
            "\n",
            "0.883709638261714\n",
            "0.6401404335116395\n",
            "0.5689428791734121\n",
            "0.3729867051034271\n"
          ],
          "name": "stdout"
        }
      ]
    },
    {
      "cell_type": "code",
      "metadata": {
        "id": "UOs9K6YPWce0",
        "colab_type": "code",
        "outputId": "21e92ec6-5d3b-45b0-d9f2-cf7fbe2a09a4",
        "colab": {
          "base_uri": "https://localhost:8080/",
          "height": 255
        }
      },
      "source": [
        "model = KNeighborsClassifier(3)\n",
        "model.fit(trainx,trainy)\n",
        "prey=model.predict(testx)\n",
        "print(confusion_matrix(testy,prey))\n",
        "print(classification_report(testy,prey))\n",
        "print(accuracy_score(testy,prey))\n",
        "print(roc_auc_score(testy,prey))\n",
        "print(f1_score(testy,prey))"
      ],
      "execution_count": 0,
      "outputs": [
        {
          "output_type": "stream",
          "text": [
            "[[6974  320]\n",
            " [ 638  306]]\n",
            "              precision    recall  f1-score   support\n",
            "\n",
            "       False       0.92      0.96      0.94      7294\n",
            "        True       0.49      0.32      0.39       944\n",
            "\n",
            "    accuracy                           0.88      8238\n",
            "   macro avg       0.70      0.64      0.66      8238\n",
            "weighted avg       0.87      0.88      0.87      8238\n",
            "\n",
            "0.883709638261714\n",
            "0.6401404335116395\n",
            "0.38980891719745225\n"
          ],
          "name": "stdout"
        }
      ]
    },
    {
      "cell_type": "code",
      "metadata": {
        "id": "HikJn_NWgQlZ",
        "colab_type": "code",
        "outputId": "4baee62c-bfda-4d91-a9be-5b64ad912668",
        "colab": {
          "base_uri": "https://localhost:8080/",
          "height": 636
        }
      },
      "source": [
        "neighbors = np.arange(1,21)\n",
        "\n",
        "#Create empty list that will hold cv scores\n",
        "cv_scores = []\n",
        "\n",
        "#Perform 10-fold cross validation on training set for odd values of k:\n",
        "for k in neighbors:\n",
        "    knn = KNeighborsClassifier(n_neighbors = k)\n",
        "    knn.fit(trainx,trainy)\n",
        "    prey=knn.predict(testx)\n",
        "    score = roc_auc_score(testy,prey)\n",
        "    cv_scores.append(score)\n",
        "    print(\"k=%d %0.2f\" % (k, score*100))\n",
        "\n",
        "\n",
        "plt.plot(neighbors, cv_scores)\n",
        "plt.xlabel('n_neighbors')\n",
        "plt.ylabel('roc_auc')\n",
        "plt.title('Relationship betwwen n_neighbors and roc_auc')\n",
        "plt.show()"
      ],
      "execution_count": 0,
      "outputs": [
        {
          "output_type": "stream",
          "text": [
            "k=1 63.03\n",
            "k=2 58.01\n",
            "k=3 64.01\n",
            "k=4 59.31\n",
            "k=5 63.36\n",
            "k=6 60.28\n",
            "k=7 63.15\n",
            "k=8 60.50\n",
            "k=9 62.96\n",
            "k=10 60.33\n",
            "k=11 62.59\n",
            "k=12 61.03\n",
            "k=13 62.25\n",
            "k=14 60.78\n",
            "k=15 62.10\n",
            "k=16 60.73\n",
            "k=17 61.34\n",
            "k=18 60.28\n",
            "k=19 61.36\n",
            "k=20 60.34\n"
          ],
          "name": "stdout"
        },
        {
          "output_type": "display_data",
          "data": {
            "image/png": "[encoded data removed]",
            "text/plain": [
              "<Figure size 432x288 with 1 Axes>"
            ]
          },
          "metadata": {
            "tags": []
          }
        }
      ]
    },
    {
      "cell_type": "code",
      "metadata": {
        "id": "sXlgOnpDhVRU",
        "colab_type": "code",
        "outputId": "a0d90fe5-54ab-40af-cf0b-f1675fc8b44c",
        "colab": {
          "base_uri": "https://localhost:8080/",
          "height": 272
        }
      },
      "source": [
        "from xgboost import XGBClassifier\n",
        "import xgboost as xgb\n",
        "parameters = {\n",
        "    'max_depth': [5, 10, 15, 20, 25]\n",
        "}\n",
        "#max depth 5\n",
        "#    'scale_pos_weight': [0.2, 0.4, 0.6, 0.8, 1]\n",
        "#    'scale_pos_weight': [0.2, 0.4, 0.6, 0.8, 1]\n",
        "xlf = xgb.XGBClassifier(max_depth=10,\n",
        "                        learning_rate=0.01,\n",
        "                        n_estimators=2000,\n",
        "                        silent=True,\n",
        "                        objective='binary:logistic',\n",
        "                        nthread=-1,\n",
        "                        gamma=0,\n",
        "                        min_child_weight=1,\n",
        "                        max_delta_step=0,\n",
        "                        subsample=0.85,\n",
        "                        colsample_bytree=0.7,\n",
        "                        colsample_bylevel=1,\n",
        "                        reg_alpha=0,\n",
        "                        reg_lambda=1,\n",
        "                        scale_pos_weight=1,\n",
        "                        seed=1440,\n",
        "                        missing=None)\n",
        "\n",
        "gsearch = GridSearchCV(xlf, param_grid=parameters, scoring='roc_auc', cv=3)\n",
        "gsearch.fit(trainx, trainy)"
      ],
      "execution_count": 0,
      "outputs": [
        {
          "output_type": "execute_result",
          "data": {
            "text/plain": [
              "GridSearchCV(cv=3, error_score=nan,\n",
              "             estimator=XGBClassifier(base_score=0.5, booster='gbtree',\n",
              "                                     colsample_bylevel=1, colsample_bynode=1,\n",
              "                                     colsample_bytree=0.7, gamma=0,\n",
              "                                     learning_rate=0.01, max_delta_step=0,\n",
              "                                     max_depth=10, min_child_weight=1,\n",
              "                                     missing=None, n_estimators=2000, n_jobs=1,\n",
              "                                     nthread=-1, objective='binary:logistic',\n",
              "                                     random_state=0, reg_alpha=0, reg_lambda=1,\n",
              "                                     scale_pos_weight=1, seed=1440, silent=True,\n",
              "                                     subsample=0.85, verbosity=1),\n",
              "             iid='deprecated', n_jobs=None,\n",
              "             param_grid={'max_depth': [5, 10, 15, 20, 25]},\n",
              "             pre_dispatch='2*n_jobs', refit=True, return_train_score=False,\n",
              "             scoring='roc_auc', verbose=0)"
            ]
          },
          "metadata": {
            "tags": []
          },
          "execution_count": 10
        }
      ]
    },
    {
      "cell_type": "code",
      "metadata": {
        "id": "tPrAC_01azbP",
        "colab_type": "code",
        "outputId": "5a043466-d166-4d94-de4f-0ae6f97ad383",
        "colab": {
          "base_uri": "https://localhost:8080/",
          "height": 255
        }
      },
      "source": [
        "xlf = xgb.XGBClassifier(max_depth=5,\n",
        "                        learning_rate=0.01,\n",
        "                        n_estimators=2000,\n",
        "                        silent=True,\n",
        "                        objective='binary:logistic',\n",
        "                        nthread=-1,\n",
        "                        gamma=0,\n",
        "                        min_child_weight=1,\n",
        "                        max_delta_step=0,\n",
        "                        subsample=0.85,\n",
        "                        colsample_bytree=0.7,\n",
        "                        colsample_bylevel=1,\n",
        "                        reg_alpha=0,\n",
        "                        reg_lambda=1,\n",
        "                        scale_pos_weight=1,\n",
        "                        seed=1440,\n",
        "                        missing=None)\n",
        "xlf.fit(trainx,trainy)\n",
        "prdy = xlf.predict(testx)\n",
        "print(confusion_matrix(testy,prdy))\n",
        "print(classification_report(testy,prdy))\n",
        "print(accuracy_score(testy,prdy))\n",
        "print(roc_auc_score(testy,prdy))\n",
        "print(f1_score(testy,prdy))"
      ],
      "execution_count": 0,
      "outputs": [
        {
          "output_type": "stream",
          "text": [
            "[[7149  145]\n",
            " [ 680  264]]\n",
            "              precision    recall  f1-score   support\n",
            "\n",
            "       False       0.91      0.98      0.95      7294\n",
            "        True       0.65      0.28      0.39       944\n",
            "\n",
            "    accuracy                           0.90      8238\n",
            "   macro avg       0.78      0.63      0.67      8238\n",
            "weighted avg       0.88      0.90      0.88      8238\n",
            "\n",
            "0.8998543335761107\n",
            "0.629890832028182\n",
            "0.3902439024390243\n"
          ],
          "name": "stdout"
        }
      ]
    },
    {
      "cell_type": "code",
      "metadata": {
        "id": "CilKbv3QP4Lr",
        "colab_type": "code",
        "colab": {}
      },
      "source": [
        ""
      ],
      "execution_count": 0,
      "outputs": []
    }
  ]
}