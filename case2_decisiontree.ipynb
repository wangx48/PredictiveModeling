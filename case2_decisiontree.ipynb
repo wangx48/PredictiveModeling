{
  "nbformat": 4,
  "nbformat_minor": 0,
  "metadata": {
    "colab": {
      "name": "case2_decisiontree.ipynb",
      "provenance": [],
      "collapsed_sections": []
    },
    "kernelspec": {
      "name": "python3",
      "display_name": "Python 3"
    },
    "accelerator": "GPU"
  },
  "cells": [
    {
      "cell_type": "code",
      "metadata": {
        "id": "wmh4pO15RWjv",
        "colab_type": "code",
        "outputId": "d4a41b56-acd9-4f85-d841-3c86a34522d3",
        "colab": {
          "base_uri": "https://localhost:8080/",
          "height": 306
        }
      },
      "source": [
        "import pandas as pd\n",
        "data = pd.read_csv('nyc-bicycle-counts.csv')\n",
        "data = data.loc[:29]\n",
        "data.at[3,'Precipitation'] = '0.47'\n",
        "data.at[21, 'Precipitation'] = '0'\n",
        "data['Precipitation'] = data['Precipitation'].astype(float)\n",
        "data.head()"
      ],
      "execution_count": 0,
      "outputs": [
        {
          "output_type": "execute_result",
          "data": {
            "text/html": [
              "<div>\n",
              "<style scoped>\n",
              "    .dataframe tbody tr th:only-of-type {\n",
              "        vertical-align: middle;\n",
              "    }\n",
              "\n",
              "    .dataframe tbody tr th {\n",
              "        vertical-align: top;\n",
              "    }\n",
              "\n",
              "    .dataframe thead th {\n",
              "        text-align: right;\n",
              "    }\n",
              "</style>\n",
              "<table border=\"1\" class=\"dataframe\">\n",
              "  <thead>\n",
              "    <tr style=\"text-align: right;\">\n",
              "      <th></th>\n",
              "      <th>Index</th>\n",
              "      <th>Date</th>\n",
              "      <th>Day</th>\n",
              "      <th>High Temp (°F)</th>\n",
              "      <th>Low Temp (°F)</th>\n",
              "      <th>Precipitation</th>\n",
              "      <th>Brooklyn Bridge</th>\n",
              "      <th>Manhattan Bridge</th>\n",
              "      <th>Williamsburg Bridge</th>\n",
              "      <th>Queensboro Bridge</th>\n",
              "      <th>Total</th>\n",
              "    </tr>\n",
              "  </thead>\n",
              "  <tbody>\n",
              "    <tr>\n",
              "      <th>0</th>\n",
              "      <td>0</td>\n",
              "      <td>4/1/2016 0:00</td>\n",
              "      <td>4/1/2016 0:00</td>\n",
              "      <td>78.1</td>\n",
              "      <td>66.0</td>\n",
              "      <td>0.01</td>\n",
              "      <td>1704</td>\n",
              "      <td>3126</td>\n",
              "      <td>4115</td>\n",
              "      <td>2552</td>\n",
              "      <td>11497</td>\n",
              "    </tr>\n",
              "    <tr>\n",
              "      <th>1</th>\n",
              "      <td>1</td>\n",
              "      <td>4/2/2016 0:00</td>\n",
              "      <td>4/2/2016 0:00</td>\n",
              "      <td>55.0</td>\n",
              "      <td>48.9</td>\n",
              "      <td>0.15</td>\n",
              "      <td>827</td>\n",
              "      <td>1646</td>\n",
              "      <td>2565</td>\n",
              "      <td>1884</td>\n",
              "      <td>6922</td>\n",
              "    </tr>\n",
              "    <tr>\n",
              "      <th>2</th>\n",
              "      <td>2</td>\n",
              "      <td>4/3/2016 0:00</td>\n",
              "      <td>4/3/2016 0:00</td>\n",
              "      <td>39.9</td>\n",
              "      <td>34.0</td>\n",
              "      <td>0.09</td>\n",
              "      <td>526</td>\n",
              "      <td>1232</td>\n",
              "      <td>1695</td>\n",
              "      <td>1306</td>\n",
              "      <td>4759</td>\n",
              "    </tr>\n",
              "    <tr>\n",
              "      <th>3</th>\n",
              "      <td>3</td>\n",
              "      <td>4/4/2016 0:00</td>\n",
              "      <td>4/4/2016 0:00</td>\n",
              "      <td>44.1</td>\n",
              "      <td>33.1</td>\n",
              "      <td>0.47</td>\n",
              "      <td>521</td>\n",
              "      <td>1067</td>\n",
              "      <td>1440</td>\n",
              "      <td>1307</td>\n",
              "      <td>4335</td>\n",
              "    </tr>\n",
              "    <tr>\n",
              "      <th>4</th>\n",
              "      <td>4</td>\n",
              "      <td>4/5/2016 0:00</td>\n",
              "      <td>4/5/2016 0:00</td>\n",
              "      <td>42.1</td>\n",
              "      <td>26.1</td>\n",
              "      <td>0.00</td>\n",
              "      <td>1416</td>\n",
              "      <td>2617</td>\n",
              "      <td>3081</td>\n",
              "      <td>2357</td>\n",
              "      <td>9471</td>\n",
              "    </tr>\n",
              "  </tbody>\n",
              "</table>\n",
              "</div>"
            ],
            "text/plain": [
              "   Index           Date  ... Queensboro Bridge  Total\n",
              "0      0  4/1/2016 0:00  ...              2552  11497\n",
              "1      1  4/2/2016 0:00  ...              1884   6922\n",
              "2      2  4/3/2016 0:00  ...              1306   4759\n",
              "3      3  4/4/2016 0:00  ...              1307   4335\n",
              "4      4  4/5/2016 0:00  ...              2357   9471\n",
              "\n",
              "[5 rows x 11 columns]"
            ]
          },
          "metadata": {
            "tags": []
          },
          "execution_count": 3
        }
      ]
    },
    {
      "cell_type": "code",
      "metadata": {
        "id": "IBHdU2UpRlvb",
        "colab_type": "code",
        "outputId": "f94ab04f-5e53-42f9-a961-6e777dc66e14",
        "colab": {
          "base_uri": "https://localhost:8080/",
          "height": 34
        }
      },
      "source": [
        "def bridge_name(a,b,c,d):\n",
        "  m=max(a,b,c,d)\n",
        "  if m==a:\n",
        "    return 'Brooklyn Bridge'\n",
        "  elif m==b:\n",
        "    return 'Manhattan Bridge'\n",
        "  elif m==c:\n",
        "    return 'Williamsburg Bridge'\n",
        "  elif m==d:\n",
        "    return 'Queensboro Bridge'\n",
        "  else:\n",
        "    return 'wrong'\n",
        "\n",
        "bridge_name(1,2,3,4)"
      ],
      "execution_count": 0,
      "outputs": [
        {
          "output_type": "execute_result",
          "data": {
            "text/plain": [
              "'Queensboro Bridge'"
            ]
          },
          "metadata": {
            "tags": []
          },
          "execution_count": 4
        }
      ]
    },
    {
      "cell_type": "code",
      "metadata": {
        "colab_type": "code",
        "id": "hI4H-3liZFkc",
        "colab": {}
      },
      "source": [
        "data['bridge_name']=data.apply(lambda x:bridge_name(x['Brooklyn Bridge'], x['Manhattan Bridge'], x['Williamsburg Bridge'], x['Queensboro Bridge']),axis = 1)"
      ],
      "execution_count": 0,
      "outputs": []
    },
    {
      "cell_type": "code",
      "metadata": {
        "colab_type": "code",
        "id": "KoknO9tyZDR2",
        "colab": {}
      },
      "source": [
        "data['bmean'] = data['Brooklyn Bridge']/data['Brooklyn Bridge'].mean()\n",
        "data['mmean'] = data['Manhattan Bridge']/data['Manhattan Bridge'].mean()\n",
        "data['wmean'] = data['Williamsburg Bridge']/data['Williamsburg Bridge'].mean()\n",
        "data['qmean'] = data['Queensboro Bridge']/data['Queensboro Bridge'].mean()\n",
        "data['bmedian'] = data['Brooklyn Bridge']/data['Brooklyn Bridge'].median()\n",
        "data['mmedian'] = data['Manhattan Bridge']/data['Manhattan Bridge'].median()\n",
        "data['wmedian'] = data['Williamsburg Bridge']/data['Williamsburg Bridge'].median()\n",
        "data['qmedian'] = data['Queensboro Bridge']/data['Queensboro Bridge'].median()"
      ],
      "execution_count": 0,
      "outputs": []
    },
    {
      "cell_type": "code",
      "metadata": {
        "id": "4m5UFV7vZeZR",
        "colab_type": "code",
        "colab": {}
      },
      "source": [
        "data['bridge_name_mean'] = data.apply(lambda x:bridge_name(x['bmean'], x['mmean'], x['wmean'], x['qmean']),axis = 1)\n",
        "data['bridge_name_median'] = data.apply(lambda x:bridge_name(x['bmedian'], x['mmedian'], x['wmedian'], x['qmedian']),axis = 1)"
      ],
      "execution_count": 0,
      "outputs": []
    },
    {
      "cell_type": "code",
      "metadata": {
        "id": "reNBtWDObQ4-",
        "colab_type": "code",
        "colab": {}
      },
      "source": [
        "data['total_nor'] = (data['Total']-data['Total'].min())/(data['Total'].max()-data['Total'].min())"
      ],
      "execution_count": 0,
      "outputs": []
    },
    {
      "cell_type": "code",
      "metadata": {
        "id": "OCFL4f5m7Z8D",
        "colab_type": "code",
        "colab": {}
      },
      "source": [
        "def pre(x):\n",
        "  if x ==0:\n",
        "    return 0\n",
        "  else:\n",
        "    return 1\n",
        "data['Pre'] = data['Precipitation'].apply(lambda x:pre(x)) "
      ],
      "execution_count": 0,
      "outputs": []
    },
    {
      "cell_type": "code",
      "metadata": {
        "id": "l4EmSoy_JJK-",
        "colab_type": "code",
        "outputId": "20146fd1-9ea4-4493-e584-37ea5ca5d29e",
        "colab": {
          "base_uri": "https://localhost:8080/",
          "height": 34
        }
      },
      "source": [
        "import datetime\n",
        "def weekend(x):\n",
        "  x=datetime.datetime.strptime(x,\"%m/%d/%Y %H:%M\")\n",
        "  x = int(x.strftime(\"%d\"))\n",
        "  if x%7==2 or x%7==3:\n",
        "    return 1\n",
        "  else: \n",
        "    return 0\n",
        "weekend('4/17/2016 0:00')"
      ],
      "execution_count": 0,
      "outputs": [
        {
          "output_type": "execute_result",
          "data": {
            "text/plain": [
              "1"
            ]
          },
          "metadata": {
            "tags": []
          },
          "execution_count": 10
        }
      ]
    },
    {
      "cell_type": "code",
      "metadata": {
        "id": "5Ad5oQ_hJltI",
        "colab_type": "code",
        "colab": {}
      },
      "source": [
        "data['weekend'] = data['Date'].apply(lambda x:weekend(x))"
      ],
      "execution_count": 0,
      "outputs": []
    },
    {
      "cell_type": "code",
      "metadata": {
        "id": "ydo-AOFce4YX",
        "colab_type": "code",
        "colab": {}
      },
      "source": [
        "data['average_temp'] = (data['High Temp (°F)']+data['Low Temp (°F)'])/2"
      ],
      "execution_count": 0,
      "outputs": []
    },
    {
      "cell_type": "code",
      "metadata": {
        "id": "2UkzBZxZcoJS",
        "colab_type": "code",
        "outputId": "1582c67b-45ff-4ef0-a3d3-fe75d8463abe",
        "colab": {
          "base_uri": "https://localhost:8080/",
          "height": 343
        }
      },
      "source": [
        "data.head()"
      ],
      "execution_count": 0,
      "outputs": [
        {
          "output_type": "execute_result",
          "data": {
            "text/html": [
              "<div>\n",
              "<style scoped>\n",
              "    .dataframe tbody tr th:only-of-type {\n",
              "        vertical-align: middle;\n",
              "    }\n",
              "\n",
              "    .dataframe tbody tr th {\n",
              "        vertical-align: top;\n",
              "    }\n",
              "\n",
              "    .dataframe thead th {\n",
              "        text-align: right;\n",
              "    }\n",
              "</style>\n",
              "<table border=\"1\" class=\"dataframe\">\n",
              "  <thead>\n",
              "    <tr style=\"text-align: right;\">\n",
              "      <th></th>\n",
              "      <th>Index</th>\n",
              "      <th>Date</th>\n",
              "      <th>Day</th>\n",
              "      <th>High Temp (°F)</th>\n",
              "      <th>Low Temp (°F)</th>\n",
              "      <th>Precipitation</th>\n",
              "      <th>Brooklyn Bridge</th>\n",
              "      <th>Manhattan Bridge</th>\n",
              "      <th>Williamsburg Bridge</th>\n",
              "      <th>Queensboro Bridge</th>\n",
              "      <th>Total</th>\n",
              "      <th>bridge_name</th>\n",
              "      <th>bmean</th>\n",
              "      <th>mmean</th>\n",
              "      <th>wmean</th>\n",
              "      <th>qmean</th>\n",
              "      <th>bmedian</th>\n",
              "      <th>mmedian</th>\n",
              "      <th>wmedian</th>\n",
              "      <th>qmedian</th>\n",
              "      <th>bridge_name_mean</th>\n",
              "      <th>bridge_name_median</th>\n",
              "      <th>total_nor</th>\n",
              "      <th>Pre</th>\n",
              "      <th>weekend</th>\n",
              "      <th>average_temp</th>\n",
              "    </tr>\n",
              "  </thead>\n",
              "  <tbody>\n",
              "    <tr>\n",
              "      <th>0</th>\n",
              "      <td>0</td>\n",
              "      <td>4/1/2016 0:00</td>\n",
              "      <td>4/1/2016 0:00</td>\n",
              "      <td>78.1</td>\n",
              "      <td>66.0</td>\n",
              "      <td>0.01</td>\n",
              "      <td>1704</td>\n",
              "      <td>3126</td>\n",
              "      <td>4115</td>\n",
              "      <td>2552</td>\n",
              "      <td>11497</td>\n",
              "      <td>Williamsburg Bridge</td>\n",
              "      <td>0.750782</td>\n",
              "      <td>0.771941</td>\n",
              "      <td>0.846278</td>\n",
              "      <td>0.761140</td>\n",
              "      <td>0.716117</td>\n",
              "      <td>0.750540</td>\n",
              "      <td>0.792260</td>\n",
              "      <td>0.733966</td>\n",
              "      <td>Williamsburg Bridge</td>\n",
              "      <td>Williamsburg Bridge</td>\n",
              "      <td>0.377285</td>\n",
              "      <td>1</td>\n",
              "      <td>0</td>\n",
              "      <td>72.05</td>\n",
              "    </tr>\n",
              "    <tr>\n",
              "      <th>1</th>\n",
              "      <td>1</td>\n",
              "      <td>4/2/2016 0:00</td>\n",
              "      <td>4/2/2016 0:00</td>\n",
              "      <td>55.0</td>\n",
              "      <td>48.9</td>\n",
              "      <td>0.15</td>\n",
              "      <td>827</td>\n",
              "      <td>1646</td>\n",
              "      <td>2565</td>\n",
              "      <td>1884</td>\n",
              "      <td>6922</td>\n",
              "      <td>Williamsburg Bridge</td>\n",
              "      <td>0.364376</td>\n",
              "      <td>0.406467</td>\n",
              "      <td>0.527510</td>\n",
              "      <td>0.561907</td>\n",
              "      <td>0.347552</td>\n",
              "      <td>0.395198</td>\n",
              "      <td>0.493839</td>\n",
              "      <td>0.541846</td>\n",
              "      <td>Queensboro Bridge</td>\n",
              "      <td>Queensboro Bridge</td>\n",
              "      <td>0.136280</td>\n",
              "      <td>1</td>\n",
              "      <td>1</td>\n",
              "      <td>51.95</td>\n",
              "    </tr>\n",
              "    <tr>\n",
              "      <th>2</th>\n",
              "      <td>2</td>\n",
              "      <td>4/3/2016 0:00</td>\n",
              "      <td>4/3/2016 0:00</td>\n",
              "      <td>39.9</td>\n",
              "      <td>34.0</td>\n",
              "      <td>0.09</td>\n",
              "      <td>526</td>\n",
              "      <td>1232</td>\n",
              "      <td>1695</td>\n",
              "      <td>1306</td>\n",
              "      <td>4759</td>\n",
              "      <td>Williamsburg Bridge</td>\n",
              "      <td>0.231755</td>\n",
              "      <td>0.304233</td>\n",
              "      <td>0.348589</td>\n",
              "      <td>0.389517</td>\n",
              "      <td>0.221055</td>\n",
              "      <td>0.295798</td>\n",
              "      <td>0.326338</td>\n",
              "      <td>0.375611</td>\n",
              "      <td>Queensboro Bridge</td>\n",
              "      <td>Queensboro Bridge</td>\n",
              "      <td>0.022336</td>\n",
              "      <td>1</td>\n",
              "      <td>1</td>\n",
              "      <td>36.95</td>\n",
              "    </tr>\n",
              "    <tr>\n",
              "      <th>3</th>\n",
              "      <td>3</td>\n",
              "      <td>4/4/2016 0:00</td>\n",
              "      <td>4/4/2016 0:00</td>\n",
              "      <td>44.1</td>\n",
              "      <td>33.1</td>\n",
              "      <td>0.47</td>\n",
              "      <td>521</td>\n",
              "      <td>1067</td>\n",
              "      <td>1440</td>\n",
              "      <td>1307</td>\n",
              "      <td>4335</td>\n",
              "      <td>Williamsburg Bridge</td>\n",
              "      <td>0.229552</td>\n",
              "      <td>0.263487</td>\n",
              "      <td>0.296146</td>\n",
              "      <td>0.389816</td>\n",
              "      <td>0.218954</td>\n",
              "      <td>0.256182</td>\n",
              "      <td>0.277243</td>\n",
              "      <td>0.375899</td>\n",
              "      <td>Queensboro Bridge</td>\n",
              "      <td>Queensboro Bridge</td>\n",
              "      <td>0.000000</td>\n",
              "      <td>1</td>\n",
              "      <td>0</td>\n",
              "      <td>38.60</td>\n",
              "    </tr>\n",
              "    <tr>\n",
              "      <th>4</th>\n",
              "      <td>4</td>\n",
              "      <td>4/5/2016 0:00</td>\n",
              "      <td>4/5/2016 0:00</td>\n",
              "      <td>42.1</td>\n",
              "      <td>26.1</td>\n",
              "      <td>0.00</td>\n",
              "      <td>1416</td>\n",
              "      <td>2617</td>\n",
              "      <td>3081</td>\n",
              "      <td>2357</td>\n",
              "      <td>9471</td>\n",
              "      <td>Williamsburg Bridge</td>\n",
              "      <td>0.623889</td>\n",
              "      <td>0.646247</td>\n",
              "      <td>0.633629</td>\n",
              "      <td>0.702981</td>\n",
              "      <td>0.595083</td>\n",
              "      <td>0.628331</td>\n",
              "      <td>0.593184</td>\n",
              "      <td>0.677883</td>\n",
              "      <td>Queensboro Bridge</td>\n",
              "      <td>Queensboro Bridge</td>\n",
              "      <td>0.270558</td>\n",
              "      <td>0</td>\n",
              "      <td>0</td>\n",
              "      <td>34.10</td>\n",
              "    </tr>\n",
              "  </tbody>\n",
              "</table>\n",
              "</div>"
            ],
            "text/plain": [
              "   Index           Date            Day  ...  Pre  weekend  average_temp\n",
              "0      0  4/1/2016 0:00  4/1/2016 0:00  ...    1        0         72.05\n",
              "1      1  4/2/2016 0:00  4/2/2016 0:00  ...    1        1         51.95\n",
              "2      2  4/3/2016 0:00  4/3/2016 0:00  ...    1        1         36.95\n",
              "3      3  4/4/2016 0:00  4/4/2016 0:00  ...    1        0         38.60\n",
              "4      4  4/5/2016 0:00  4/5/2016 0:00  ...    0        0         34.10\n",
              "\n",
              "[5 rows x 26 columns]"
            ]
          },
          "metadata": {
            "tags": []
          },
          "execution_count": 13
        }
      ]
    },
    {
      "cell_type": "code",
      "metadata": {
        "id": "ssNiscpsdNJN",
        "colab_type": "code",
        "colab": {}
      },
      "source": [
        "from sklearn.tree import DecisionTreeClassifier\n",
        "from sklearn.model_selection import train_test_split\n",
        "import numpy as np\n",
        "from sklearn.model_selection import GridSearchCV"
      ],
      "execution_count": 0,
      "outputs": []
    },
    {
      "cell_type": "code",
      "metadata": {
        "colab_type": "code",
        "id": "IfRomJOCwak4",
        "colab": {}
      },
      "source": [
        "X = data[['High Temp (°F)','Low Temp (°F)','Precipitation','Pre','weekend','average_temp']]\n",
        "y=data['bridge_name_mean']"
      ],
      "execution_count": 0,
      "outputs": []
    },
    {
      "cell_type": "code",
      "metadata": {
        "id": "zwheoTiXzEyJ",
        "colab_type": "code",
        "outputId": "990a0711-158f-4787-ef3d-55bfe3ed0dc4",
        "colab": {
          "base_uri": "https://localhost:8080/",
          "height": 105
        }
      },
      "source": [
        "X = data[['High Temp (°F)','Low Temp (°F)','Precipitation']]\n",
        "y=data['bridge_name_mean']\n",
        "p1 = np.linspace(0, 0.2, 100)\n",
        "p2 = range(2,10)\n",
        "p3 = range(2,20,1)\n",
        "param_grid = {'min_impurity_decrease': p1, 'max_depth':p2,'min_samples_split':p3}\n",
        "\n",
        "clf = GridSearchCV(DecisionTreeClassifier(), param_grid, cv=5, scoring='accuracy')\n",
        "clf.fit(X,y)\n",
        "print(\"best_parms:{0}\\nbest_score:{1}\".format(clf.best_params_, clf.best_score_))"
      ],
      "execution_count": 0,
      "outputs": [
        {
          "output_type": "stream",
          "text": [
            "/usr/local/lib/python3.6/dist-packages/sklearn/model_selection/_split.py:667: UserWarning: The least populated class in y has only 4 members, which is less than n_splits=5.\n",
            "  % (min_groups, self.n_splits)), UserWarning)\n"
          ],
          "name": "stderr"
        },
        {
          "output_type": "stream",
          "text": [
            "best_parms:{'max_depth': 3, 'min_impurity_decrease': 0.03636363636363636, 'min_samples_split': 2}\n",
            "best_score:0.6\n"
          ],
          "name": "stdout"
        }
      ]
    },
    {
      "cell_type": "code",
      "metadata": {
        "id": "W_WJVQ6dGTvY",
        "colab_type": "code",
        "outputId": "ee26be00-2af7-4618-c74f-163170dfc428",
        "colab": {
          "base_uri": "https://localhost:8080/",
          "height": 51
        }
      },
      "source": [
        "X = data[['High Temp (°F)','Low Temp (°F)','Precipitation']]\n",
        "y=data['bridge_name_mean']\n",
        "X_train,X_test, y_train, y_test =train_test_split(X,y,test_size=0.2)\n",
        "dt = DecisionTreeClassifier(max_depth = 3, min_samples_split = 2)\n",
        "dt.fit(X_train,y_train)\n",
        "print(\"train score:\", dt.score(X_train, y_train))\n",
        "print(\"test score:\", dt.score(X_test, y_test))"
      ],
      "execution_count": 0,
      "outputs": [
        {
          "output_type": "stream",
          "text": [
            "train score: 0.75\n",
            "test score: 0.6666666666666666\n"
          ],
          "name": "stdout"
        }
      ]
    },
    {
      "cell_type": "code",
      "metadata": {
        "id": "4aKpnvXSGrzj",
        "colab_type": "code",
        "outputId": "8980f692-4839-4517-d7b5-f0b901396cf9",
        "colab": {
          "base_uri": "https://localhost:8080/",
          "height": 34
        }
      },
      "source": [
        "import pydotplus \n",
        "from sklearn import tree\n",
        "dot_data = tree.export_graphviz(dt, out_file=None) \n",
        "graph = pydotplus.graph_from_dot_data(dot_data) \n",
        "graph.write_pdf(\"tree.pdf\") "
      ],
      "execution_count": 0,
      "outputs": [
        {
          "output_type": "execute_result",
          "data": {
            "text/plain": [
              "True"
            ]
          },
          "metadata": {
            "tags": []
          },
          "execution_count": 49
        }
      ]
    },
    {
      "cell_type": "code",
      "metadata": {
        "id": "P4MtwpNR0au4",
        "colab_type": "code",
        "outputId": "08b3e98a-dad6-4e94-80e6-686f09d7ae68",
        "colab": {
          "base_uri": "https://localhost:8080/",
          "height": 34
        }
      },
      "source": [
        "dt.feature_importances_"
      ],
      "execution_count": 0,
      "outputs": [
        {
          "output_type": "execute_result",
          "data": {
            "text/plain": [
              "array([0.24721485, 0.55953013, 0.19325502])"
            ]
          },
          "metadata": {
            "tags": []
          },
          "execution_count": 51
        }
      ]
    },
    {
      "cell_type": "code",
      "metadata": {
        "id": "Y2xZbQ-HJIUq",
        "colab_type": "code",
        "outputId": "360b8ca4-5efc-4272-fb72-15e33eb6b1b9",
        "colab": {
          "base_uri": "https://localhost:8080/",
          "height": 281
        }
      },
      "source": [
        "import seaborn as sns\n",
        "import matplotlib.pyplot as plt\n",
        "dic = {'High':[0.24721485],'Low':[0.55953013],'Precipitation':[0.19325502]}\n",
        "dic = pd.DataFrame(dic)\n",
        "sns.barplot(x=dic.columns,y=dic.iloc[0,:])\n",
        "plt.title('Feature Importance')\n",
        "plt.savefig('importance')"
      ],
      "execution_count": 0,
      "outputs": [
        {
          "output_type": "display_data",
          "data": {
            "image/png": "[encoded data removed]",
            "text/plain": [
              "<Figure size 432x288 with 1 Axes>"
            ]
          },
          "metadata": {
            "tags": []
          }
        }
      ]
    },
    {
      "cell_type": "code",
      "metadata": {
        "id": "R7SSToXkL0H6",
        "colab_type": "code",
        "outputId": "51a9d129-9bcf-4eba-fc60-6e338007549a",
        "colab": {
          "base_uri": "https://localhost:8080/",
          "height": 51
        }
      },
      "source": [
        "dt.classes_"
      ],
      "execution_count": 0,
      "outputs": [
        {
          "output_type": "execute_result",
          "data": {
            "text/plain": [
              "array(['Brooklyn Bridge', 'Manhattan Bridge', 'Queensboro Bridge',\n",
              "       'Williamsburg Bridge'], dtype=object)"
            ]
          },
          "metadata": {
            "tags": []
          },
          "execution_count": 78
        }
      ]
    },
    {
      "cell_type": "code",
      "metadata": {
        "id": "_ZZ4kmpJN806",
        "colab_type": "code",
        "colab": {}
      },
      "source": [
        ""
      ],
      "execution_count": 0,
      "outputs": []
    }
  ]
}