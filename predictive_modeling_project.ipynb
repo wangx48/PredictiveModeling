{
  "nbformat": 4,
  "nbformat_minor": 0,
  "metadata": {
    "colab": {
      "name": "modeling project.ipynb",
      "provenance": []
    },
    "kernelspec": {
      "name": "python3",
      "display_name": "Python 3"
    },
    "accelerator": "GPU"
  },
  "cells": [
    {
      "cell_type": "code",
      "metadata": {
        "id": "fOH4SyhpuSAA",
        "colab_type": "code",
        "colab": {
          "base_uri": "https://localhost:8080/",
          "height": 105
        },
        "outputId": "18239a5e-ba0d-40d6-cdcc-8b57ffb52023"
      },
      "source": [
        "import pandas as pd\n",
        "import numpy as np\n",
        "import seaborn as sns\n",
        "from textblob import TextBlob\n",
        "from sklearn import linear_model\n",
        "from matplotlib import pyplot as plt\n",
        "from sklearn.feature_extraction.text import CountVectorizer\n",
        "import nltk\n",
        "nltk.download('stopwords')\n",
        "from nltk.corpus import stopwords \n",
        "stop_words = set(stopwords.words('english'))\n",
        "import re\n",
        "from sklearn.utils import resample\n",
        "from sklearn.model_selection import train_test_split\n",
        "from sklearn.metrics import classification_report, confusion_matrix,accuracy_score, roc_auc_score\n",
        "from sklearn.feature_extraction.text import CountVectorizer\n",
        "from sklearn.naive_bayes import MultinomialNB\n",
        "from sklearn.decomposition import TruncatedSVD   "
      ],
      "execution_count": 1,
      "outputs": [
        {
          "output_type": "stream",
          "text": [
            "/usr/local/lib/python3.6/dist-packages/statsmodels/tools/_testing.py:19: FutureWarning: pandas.util.testing is deprecated. Use the functions in the public API at pandas.testing instead.\n",
            "  import pandas.util.testing as tm\n"
          ],
          "name": "stderr"
        },
        {
          "output_type": "stream",
          "text": [
            "[nltk_data] Downloading package stopwords to /root/nltk_data...\n",
            "[nltk_data]   Unzipping corpora/stopwords.zip.\n"
          ],
          "name": "stdout"
        }
      ]
    },
    {
      "cell_type": "code",
      "metadata": {
        "id": "Rt4AQ2mmtJhQ",
        "colab_type": "code",
        "colab": {
          "base_uri": "https://localhost:8080/",
          "height": 122
        },
        "outputId": "59d817c0-be39-4046-d961-1c674cb62fe9"
      },
      "source": [
        "from google.colab import drive\n",
        "drive.mount('/content/drive')"
      ],
      "execution_count": 2,
      "outputs": [
        {
          "output_type": "stream",
          "text": [
            "Go to this URL in a browser: https://accounts.google.com/o/oauth2/auth?client_id=947318989803-6bn6qk8qdgf4n4g3pfee6491hc0brc4i.apps.googleusercontent.com&redirect_uri=urn%3aietf%3awg%3aoauth%3a2.0%3aoob&scope=email%20https%3a%2f%2fwww.googleapis.com%2fauth%2fdocs.test%20https%3a%2f%2fwww.googleapis.com%2fauth%2fdrive%20https%3a%2f%2fwww.googleapis.com%2fauth%2fdrive.photos.readonly%20https%3a%2f%2fwww.googleapis.com%2fauth%2fpeopleapi.readonly&response_type=code\n",
            "\n",
            "Enter your authorization code:\n",
            "··········\n",
            "Mounted at /content/drive\n"
          ],
          "name": "stdout"
        }
      ]
    },
    {
      "cell_type": "code",
      "metadata": {
        "id": "zQCYpOA9tr-V",
        "colab_type": "code",
        "colab": {}
      },
      "source": [
        "drinking_path='drive/My Drive/modeling project/stopdrinking.csv'\n",
        "smoking_path='drive/My Drive/modeling project/stopsmoking.csv'\n",
        "col_names = ['author',#Provides an instance of Redditor.\n",
        "'author_created_utc',\n",
        "'author_flair_background_color',\n",
        "'author_flair_css_class',\n",
        "'author_flair_richtext',\n",
        "'author_flair_template_id',\n",
        "'author_flair_text',\n",
        "'author_flair_text_color',\n",
        "'author_flair_type',\n",
        "'author_fullname',\n",
        "'author_patreon_flair',\n",
        "'body', #\tThe body of the comment.\n",
        "'can_gild',\n",
        "'can_mod_post',\n",
        "'collapsed',\n",
        "'collapsed_reason',\n",
        "'controversiality',\n",
        "'created_utc', #Time the comment was created, represented in Unix Time.\n",
        "'distinguished',#Whether or not the comment is distinguished.\n",
        "'edited',#Whether or not the comment has been edited.\n",
        "'gilded',\n",
        "'gildings',\n",
        "'id',#The ID of the comment.\n",
        "'is_submitter',#Whether or not the comment author is also the author of the submission.\n",
        "'link_id',#The submission ID that the comment belongs to.\n",
        "'no_follow',\n",
        "'parent_id',#The ID of the parent comment. If it is a top-level comment, this returns the submission ID instead (prefixed with ‘t3’).\n",
        "'permalink',#A permalink for the comment. Comment objects from the inbox have a context attribute instead.\n",
        "'removal_reason',\n",
        "'retrieved_on',\n",
        "'score',#The number of upvotes for the comment.\n",
        "'send_replies',\n",
        "'stickied',#Whether or not the comment is stickied.\n",
        "'subreddit',#Provides an instance of Subreddit. The subreddit that the comment belongs to.\n",
        "'subreddit_id',#The subreddit ID that the comment belongs to.\n",
        "'subreddit_name_prefixed',\n",
        "'subreddit_type']\n",
        "useful_col = ['author','author_created_utc','author_flair_text_color','author_flair_type','author_fullname','author_patreon_flair','body','created_utc','id','is_submitter','link_id','no_follow','parent_id','permalink','retrieved_on','score','send_replies','subreddit_id']"
      ],
      "execution_count": 3,
      "outputs": []
    },
    {
      "cell_type": "code",
      "metadata": {
        "id": "pxjcMNdPvRip",
        "colab_type": "code",
        "colab": {}
      },
      "source": [
        "smoking = pd.read_csv(smoking_path,error_bad_lines=False,skiprows=2,engine='python',warn_bad_lines=False,names=col_names,index_col=False)\n",
        "drinking = pd.read_csv(drinking_path,error_bad_lines=False,warn_bad_lines=False,engine='python',names=col_names,index_col=False)\n",
        "\n",
        "\n",
        "smoking = smoking[(smoking.can_mod_post=='True')|(smoking.can_mod_post=='False')]\n",
        "\n",
        "smoking = smoking[(smoking.send_replies=='True')|(smoking.send_replies=='False')]\n",
        "\n",
        "smoking = smoking[smoking.subreddit=='stopsmoking']\n",
        "\n",
        "smoking = smoking[(smoking.author_flair_text_color=='None')|(smoking.author_flair_text_color=='dark')]\n",
        "\n",
        "smoking = smoking[useful_col]\n",
        "\n",
        "\n",
        "\n",
        "drinking = drinking[(drinking.can_mod_post=='True')|(drinking.can_mod_post=='False')]\n",
        "\n",
        "drinking = drinking[(drinking.send_replies=='True')|(drinking.send_replies=='False')]\n",
        "\n",
        "drinking = drinking[drinking.subreddit=='stopdrinking']\n",
        "\n",
        "drinking = drinking[(drinking.author_flair_text_color=='None')|(drinking.author_flair_text_color=='dark')]\n",
        "\n",
        "drinking = drinking[useful_col]"
      ],
      "execution_count": null,
      "outputs": []
    },
    {
      "cell_type": "code",
      "metadata": {
        "id": "lBFTA7OJvnL4",
        "colab_type": "code",
        "colab": {}
      },
      "source": [
        "smoking['score']=smoking['score'].map(int)\n",
        "drinking['score']=drinking['score'].map(int)"
      ],
      "execution_count": null,
      "outputs": []
    },
    {
      "cell_type": "code",
      "metadata": {
        "id": "HlJU9qgsxCWc",
        "colab_type": "code",
        "colab": {
          "base_uri": "https://localhost:8080/",
          "height": 394
        },
        "outputId": "a041dc1e-744e-4df6-c652-2ca853591e16"
      },
      "source": [
        "smoking.head()"
      ],
      "execution_count": null,
      "outputs": [
        {
          "output_type": "execute_result",
          "data": {
            "text/html": [
              "<div>\n",
              "<style scoped>\n",
              "    .dataframe tbody tr th:only-of-type {\n",
              "        vertical-align: middle;\n",
              "    }\n",
              "\n",
              "    .dataframe tbody tr th {\n",
              "        vertical-align: top;\n",
              "    }\n",
              "\n",
              "    .dataframe thead th {\n",
              "        text-align: right;\n",
              "    }\n",
              "</style>\n",
              "<table border=\"1\" class=\"dataframe\">\n",
              "  <thead>\n",
              "    <tr style=\"text-align: right;\">\n",
              "      <th></th>\n",
              "      <th>author</th>\n",
              "      <th>author_created_utc</th>\n",
              "      <th>author_flair_text_color</th>\n",
              "      <th>author_flair_type</th>\n",
              "      <th>author_fullname</th>\n",
              "      <th>author_patreon_flair</th>\n",
              "      <th>body</th>\n",
              "      <th>created_utc</th>\n",
              "      <th>id</th>\n",
              "      <th>is_submitter</th>\n",
              "      <th>link_id</th>\n",
              "      <th>no_follow</th>\n",
              "      <th>parent_id</th>\n",
              "      <th>permalink</th>\n",
              "      <th>retrieved_on</th>\n",
              "      <th>score</th>\n",
              "      <th>send_replies</th>\n",
              "      <th>subreddit_id</th>\n",
              "    </tr>\n",
              "  </thead>\n",
              "  <tbody>\n",
              "    <tr>\n",
              "      <th>19</th>\n",
              "      <td>False</td>\n",
              "      <td>raccoonnnnn</td>\n",
              "      <td>None</td>\n",
              "      <td>None</td>\n",
              "      <td>text</td>\n",
              "      <td>t2_111jjnu2</td>\n",
              "      <td>Great reminder of why we quit!  https://youtu....</td>\n",
              "      <td>1538361877</td>\n",
              "      <td>e6y4djo</td>\n",
              "      <td>False</td>\n",
              "      <td>t3_9k78ks</td>\n",
              "      <td>True</td>\n",
              "      <td>t1_e6wywwy</td>\n",
              "      <td>/r/stopsmoking/comments/9k78ks/here_it_is_my_o...</td>\n",
              "      <td>1539899530</td>\n",
              "      <td>2</td>\n",
              "      <td>True</td>\n",
              "      <td>t5_2rbuf</td>\n",
              "    </tr>\n",
              "    <tr>\n",
              "      <th>20</th>\n",
              "      <td>False</td>\n",
              "      <td>Terracottapanacotta</td>\n",
              "      <td>None</td>\n",
              "      <td>None</td>\n",
              "      <td>text</td>\n",
              "      <td>t2_213edw85</td>\n",
              "      <td>Congratulations!! Do you still experience crav...</td>\n",
              "      <td>1538362370</td>\n",
              "      <td>e6y4uj3</td>\n",
              "      <td>False</td>\n",
              "      <td>t3_9kbhto</td>\n",
              "      <td>True</td>\n",
              "      <td>t3_9kbhto</td>\n",
              "      <td>/r/stopsmoking/comments/9kbhto/i_did_this_desp...</td>\n",
              "      <td>1539899740</td>\n",
              "      <td>4</td>\n",
              "      <td>True</td>\n",
              "      <td>t5_2rbuf</td>\n",
              "    </tr>\n",
              "    <tr>\n",
              "      <th>21</th>\n",
              "      <td>False</td>\n",
              "      <td>CobraCommander117</td>\n",
              "      <td>None</td>\n",
              "      <td>None</td>\n",
              "      <td>text</td>\n",
              "      <td>t2_2blo0dau</td>\n",
              "      <td>I’m with you! Clearing my ashtrays tonight!</td>\n",
              "      <td>1538362791</td>\n",
              "      <td>e6y590r</td>\n",
              "      <td>False</td>\n",
              "      <td>t3_9k58jn</td>\n",
              "      <td>True</td>\n",
              "      <td>t3_9k58jn</td>\n",
              "      <td>/r/stopsmoking/comments/9k58jn/let_try_to_hit_...</td>\n",
              "      <td>1539899912</td>\n",
              "      <td>1</td>\n",
              "      <td>True</td>\n",
              "      <td>t5_2rbuf</td>\n",
              "    </tr>\n",
              "    <tr>\n",
              "      <th>23</th>\n",
              "      <td>False</td>\n",
              "      <td>Duckniggits</td>\n",
              "      <td>None</td>\n",
              "      <td>None</td>\n",
              "      <td>text</td>\n",
              "      <td>t2_splni</td>\n",
              "      <td>I'm all in I just got some friends in on this ...</td>\n",
              "      <td>1538363237</td>\n",
              "      <td>e6y5o9e</td>\n",
              "      <td>False</td>\n",
              "      <td>t3_9k58jn</td>\n",
              "      <td>True</td>\n",
              "      <td>t3_9k58jn</td>\n",
              "      <td>/r/stopsmoking/comments/9k58jn/let_try_to_hit_...</td>\n",
              "      <td>1539900097</td>\n",
              "      <td>1</td>\n",
              "      <td>True</td>\n",
              "      <td>t5_2rbuf</td>\n",
              "    </tr>\n",
              "    <tr>\n",
              "      <th>26</th>\n",
              "      <td>False</td>\n",
              "      <td>throwawaykitty1200</td>\n",
              "      <td>None</td>\n",
              "      <td>None</td>\n",
              "      <td>text</td>\n",
              "      <td>t2_2088dczv</td>\n",
              "      <td>That's great! Good luck!</td>\n",
              "      <td>1538363905</td>\n",
              "      <td>e6y6bcx</td>\n",
              "      <td>False</td>\n",
              "      <td>t3_9kbvgd</td>\n",
              "      <td>True</td>\n",
              "      <td>t3_9kbvgd</td>\n",
              "      <td>/r/stopsmoking/comments/9kbvgd/here_we_go_guys...</td>\n",
              "      <td>1539900373</td>\n",
              "      <td>1</td>\n",
              "      <td>True</td>\n",
              "      <td>t5_2rbuf</td>\n",
              "    </tr>\n",
              "  </tbody>\n",
              "</table>\n",
              "</div>"
            ],
            "text/plain": [
              "   author   author_created_utc  ... send_replies subreddit_id\n",
              "19  False          raccoonnnnn  ...         True     t5_2rbuf\n",
              "20  False  Terracottapanacotta  ...         True     t5_2rbuf\n",
              "21  False    CobraCommander117  ...         True     t5_2rbuf\n",
              "23  False          Duckniggits  ...         True     t5_2rbuf\n",
              "26  False   throwawaykitty1200  ...         True     t5_2rbuf\n",
              "\n",
              "[5 rows x 18 columns]"
            ]
          },
          "metadata": {
            "tags": []
          },
          "execution_count": 6
        }
      ]
    },
    {
      "cell_type": "code",
      "metadata": {
        "id": "mC-CgBDNyrP5",
        "colab_type": "code",
        "colab": {
          "base_uri": "https://localhost:8080/",
          "height": 296
        },
        "outputId": "d3e2634d-3cf9-451b-bf2c-e474f7a182b8"
      },
      "source": [
        "sns.distplot(smoking['score'])"
      ],
      "execution_count": null,
      "outputs": [
        {
          "output_type": "execute_result",
          "data": {
            "text/plain": [
              "<matplotlib.axes._subplots.AxesSubplot at 0x7efe2a501320>"
            ]
          },
          "metadata": {
            "tags": []
          },
          "execution_count": 7
        },
        {
          "output_type": "display_data",
          "data": {
            "image/png": "[encoded data removed]",
            "text/plain": [
              "<Figure size 432x288 with 1 Axes>"
            ]
          },
          "metadata": {
            "tags": [],
            "needs_background": "light"
          }
        }
      ]
    },
    {
      "cell_type": "code",
      "metadata": {
        "id": "hfmKgnilzTkJ",
        "colab_type": "code",
        "colab": {
          "base_uri": "https://localhost:8080/",
          "height": 296
        },
        "outputId": "4000c397-fdbf-4b6c-f898-a2142e84a8d0"
      },
      "source": [
        "sns.boxplot(smoking['score'])"
      ],
      "execution_count": null,
      "outputs": [
        {
          "output_type": "execute_result",
          "data": {
            "text/plain": [
              "<matplotlib.axes._subplots.AxesSubplot at 0x7efe2a4c3320>"
            ]
          },
          "metadata": {
            "tags": []
          },
          "execution_count": 8
        },
        {
          "output_type": "display_data",
          "data": {
            "image/png": "[encoded data removed]",
            "text/plain": [
              "<Figure size 432x288 with 1 Axes>"
            ]
          },
          "metadata": {
            "tags": [],
            "needs_background": "light"
          }
        }
      ]
    },
    {
      "cell_type": "code",
      "metadata": {
        "id": "2nCguRNu0P72",
        "colab_type": "code",
        "colab": {
          "base_uri": "https://localhost:8080/",
          "height": 34
        },
        "outputId": "97985c28-5713-44bf-af95-aa3ba70fe028"
      },
      "source": [
        "len(smoking[smoking['score']>6])"
      ],
      "execution_count": null,
      "outputs": [
        {
          "output_type": "execute_result",
          "data": {
            "text/plain": [
              "392"
            ]
          },
          "metadata": {
            "tags": []
          },
          "execution_count": 9
        }
      ]
    },
    {
      "cell_type": "code",
      "metadata": {
        "id": "-NZRfnky0rpI",
        "colab_type": "code",
        "colab": {
          "base_uri": "https://localhost:8080/",
          "height": 34
        },
        "outputId": "7144d254-9152-41e2-ff45-4d12d1ab82a4"
      },
      "source": [
        "len(smoking)"
      ],
      "execution_count": null,
      "outputs": [
        {
          "output_type": "execute_result",
          "data": {
            "text/plain": [
              "11027"
            ]
          },
          "metadata": {
            "tags": []
          },
          "execution_count": 10
        }
      ]
    },
    {
      "cell_type": "markdown",
      "metadata": {
        "id": "biDSH4YJgP5X",
        "colab_type": "text"
      },
      "source": [
        "Sentiment"
      ]
    },
    {
      "cell_type": "code",
      "metadata": {
        "id": "JSkGLVGOgTzy",
        "colab_type": "code",
        "colab": {}
      },
      "source": [
        "import torch\n",
        "\n",
        "import random\n",
        "import numpy as np\n",
        "\n",
        "SEED = 1234\n",
        "\n",
        "random.seed(SEED)\n",
        "np.random.seed(SEED)\n",
        "torch.manual_seed(SEED)\n",
        "torch.backends.cudnn.deterministic = True"
      ],
      "execution_count": null,
      "outputs": []
    },
    {
      "cell_type": "code",
      "metadata": {
        "id": "FN4Vx7MMgWJP",
        "colab_type": "code",
        "colab": {
          "base_uri": "https://localhost:8080/",
          "height": 428
        },
        "outputId": "04a4de06-5c42-4c45-e957-b650a3aa15a7"
      },
      "source": [
        "!pip install transformers\n",
        "from transformers import BertTokenizer\n",
        "\n",
        "tokenizer = BertTokenizer.from_pretrained('bert-base-uncased')"
      ],
      "execution_count": null,
      "outputs": [
        {
          "output_type": "stream",
          "text": [
            "Requirement already satisfied: transformers in /usr/local/lib/python3.6/dist-packages (2.8.0)\n",
            "Requirement already satisfied: sentencepiece in /usr/local/lib/python3.6/dist-packages (from transformers) (0.1.86)\n",
            "Requirement already satisfied: tokenizers==0.5.2 in /usr/local/lib/python3.6/dist-packages (from transformers) (0.5.2)\n",
            "Requirement already satisfied: filelock in /usr/local/lib/python3.6/dist-packages (from transformers) (3.0.12)\n",
            "Requirement already satisfied: sacremoses in /usr/local/lib/python3.6/dist-packages (from transformers) (0.0.41)\n",
            "Requirement already satisfied: requests in /usr/local/lib/python3.6/dist-packages (from transformers) (2.21.0)\n",
            "Requirement already satisfied: numpy in /usr/local/lib/python3.6/dist-packages (from transformers) (1.18.3)\n",
            "Requirement already satisfied: regex!=2019.12.17 in /usr/local/lib/python3.6/dist-packages (from transformers) (2019.12.20)\n",
            "Requirement already satisfied: tqdm>=4.27 in /usr/local/lib/python3.6/dist-packages (from transformers) (4.38.0)\n",
            "Requirement already satisfied: boto3 in /usr/local/lib/python3.6/dist-packages (from transformers) (1.12.43)\n",
            "Requirement already satisfied: dataclasses; python_version < \"3.7\" in /usr/local/lib/python3.6/dist-packages (from transformers) (0.7)\n",
            "Requirement already satisfied: joblib in /usr/local/lib/python3.6/dist-packages (from sacremoses->transformers) (0.14.1)\n",
            "Requirement already satisfied: six in /usr/local/lib/python3.6/dist-packages (from sacremoses->transformers) (1.12.0)\n",
            "Requirement already satisfied: click in /usr/local/lib/python3.6/dist-packages (from sacremoses->transformers) (7.1.1)\n",
            "Requirement already satisfied: urllib3<1.25,>=1.21.1 in /usr/local/lib/python3.6/dist-packages (from requests->transformers) (1.24.3)\n",
            "Requirement already satisfied: chardet<3.1.0,>=3.0.2 in /usr/local/lib/python3.6/dist-packages (from requests->transformers) (3.0.4)\n",
            "Requirement already satisfied: certifi>=2017.4.17 in /usr/local/lib/python3.6/dist-packages (from requests->transformers) (2020.4.5.1)\n",
            "Requirement already satisfied: idna<2.9,>=2.5 in /usr/local/lib/python3.6/dist-packages (from requests->transformers) (2.8)\n",
            "Requirement already satisfied: botocore<1.16.0,>=1.15.43 in /usr/local/lib/python3.6/dist-packages (from boto3->transformers) (1.15.43)\n",
            "Requirement already satisfied: jmespath<1.0.0,>=0.7.1 in /usr/local/lib/python3.6/dist-packages (from boto3->transformers) (0.9.5)\n",
            "Requirement already satisfied: s3transfer<0.4.0,>=0.3.0 in /usr/local/lib/python3.6/dist-packages (from boto3->transformers) (0.3.3)\n",
            "Requirement already satisfied: python-dateutil<3.0.0,>=2.1 in /usr/local/lib/python3.6/dist-packages (from botocore<1.16.0,>=1.15.43->boto3->transformers) (2.8.1)\n",
            "Requirement already satisfied: docutils<0.16,>=0.10 in /usr/local/lib/python3.6/dist-packages (from botocore<1.16.0,>=1.15.43->boto3->transformers) (0.15.2)\n"
          ],
          "name": "stdout"
        }
      ]
    },
    {
      "cell_type": "code",
      "metadata": {
        "id": "9YdqlauPgYEL",
        "colab_type": "code",
        "colab": {
          "base_uri": "https://localhost:8080/",
          "height": 34
        },
        "outputId": "43520ab8-bb60-4db3-f58c-8725ac67c045"
      },
      "source": [
        "init_token = tokenizer.cls_token\n",
        "eos_token = tokenizer.sep_token\n",
        "pad_token = tokenizer.pad_token\n",
        "unk_token = tokenizer.unk_token\n",
        "\n",
        "print(init_token, eos_token, pad_token, unk_token)"
      ],
      "execution_count": null,
      "outputs": [
        {
          "output_type": "stream",
          "text": [
            "[CLS] [SEP] [PAD] [UNK]\n"
          ],
          "name": "stdout"
        }
      ]
    },
    {
      "cell_type": "code",
      "metadata": {
        "id": "IsXzSYuagcb9",
        "colab_type": "code",
        "colab": {}
      },
      "source": [
        "init_token_idx = tokenizer.convert_tokens_to_ids(init_token)\n",
        "eos_token_idx = tokenizer.convert_tokens_to_ids(eos_token)\n",
        "pad_token_idx = tokenizer.convert_tokens_to_ids(pad_token)\n",
        "unk_token_idx = tokenizer.convert_tokens_to_ids(unk_token)"
      ],
      "execution_count": null,
      "outputs": []
    },
    {
      "cell_type": "code",
      "metadata": {
        "id": "jT80MnPugego",
        "colab_type": "code",
        "colab": {}
      },
      "source": [
        "max_input_length = tokenizer.max_model_input_sizes['bert-base-uncased']"
      ],
      "execution_count": null,
      "outputs": []
    },
    {
      "cell_type": "code",
      "metadata": {
        "id": "xJUosz8DgkRg",
        "colab_type": "code",
        "colab": {}
      },
      "source": [
        "def tokenize_and_cut(sentence):\n",
        "    tokens = tokenizer.tokenize(sentence) \n",
        "    tokens = tokens[:max_input_length-2]\n",
        "    return tokens"
      ],
      "execution_count": null,
      "outputs": []
    },
    {
      "cell_type": "code",
      "metadata": {
        "id": "yQC1xwOqgl8v",
        "colab_type": "code",
        "colab": {}
      },
      "source": [
        "from torchtext import data\n",
        "\n",
        "TEXT = data.Field(batch_first = True,\n",
        "                  use_vocab = False,\n",
        "                  tokenize = tokenize_and_cut,\n",
        "                  preprocessing = tokenizer.convert_tokens_to_ids,\n",
        "                  init_token = init_token_idx,\n",
        "                  eos_token = eos_token_idx,\n",
        "                  pad_token = pad_token_idx,\n",
        "                  unk_token = unk_token_idx)\n",
        "\n",
        "LABEL = data.LabelField(dtype = torch.float)"
      ],
      "execution_count": null,
      "outputs": []
    },
    {
      "cell_type": "code",
      "metadata": {
        "id": "QfksxdaFmkNP",
        "colab_type": "code",
        "colab": {}
      },
      "source": [
        "from torchtext import datasets\n",
        "\n",
        "train_data, test_data = datasets.IMDB.splits(TEXT, LABEL)\n",
        "\n",
        "train_data, valid_data = train_data.split(random_state = random.seed(SEED))"
      ],
      "execution_count": null,
      "outputs": []
    },
    {
      "cell_type": "code",
      "metadata": {
        "id": "un0P6fnJmmRc",
        "colab_type": "code",
        "colab": {}
      },
      "source": [
        "LABEL.build_vocab(train_data)"
      ],
      "execution_count": null,
      "outputs": []
    },
    {
      "cell_type": "code",
      "metadata": {
        "id": "JJo2y1o4mxhw",
        "colab_type": "code",
        "colab": {}
      },
      "source": [
        "BATCH_SIZE = 128\n",
        "\n",
        "device = torch.device('cuda' if torch.cuda.is_available() else 'cpu')\n",
        "\n",
        "train_iterator, valid_iterator, test_iterator = data.BucketIterator.splits(\n",
        "    (train_data, valid_data, test_data), \n",
        "    batch_size = BATCH_SIZE, \n",
        "    device = device)"
      ],
      "execution_count": null,
      "outputs": []
    },
    {
      "cell_type": "code",
      "metadata": {
        "id": "PSSiaHE_ncXo",
        "colab_type": "code",
        "colab": {}
      },
      "source": [
        "from transformers import BertTokenizer, BertModel\n",
        "\n",
        "bert = BertModel.from_pretrained('bert-base-uncased')"
      ],
      "execution_count": null,
      "outputs": []
    },
    {
      "cell_type": "code",
      "metadata": {
        "id": "-qLzHL7xneEp",
        "colab_type": "code",
        "colab": {}
      },
      "source": [
        "import torch.nn as nn\n",
        "\n",
        "class BERTGRUSentiment(nn.Module):\n",
        "    def __init__(self,\n",
        "                 bert,\n",
        "                 hidden_dim,\n",
        "                 output_dim,\n",
        "                 n_layers,\n",
        "                 bidirectional,\n",
        "                 dropout):\n",
        "        \n",
        "        super().__init__()\n",
        "        \n",
        "        self.bert = bert\n",
        "        \n",
        "        embedding_dim = bert.config.to_dict()['hidden_size']\n",
        "        \n",
        "        self.rnn = nn.GRU(embedding_dim,\n",
        "                          hidden_dim,\n",
        "                          num_layers = n_layers,\n",
        "                          bidirectional = bidirectional,\n",
        "                          batch_first = True,\n",
        "                          dropout = 0 if n_layers < 2 else dropout)\n",
        "        \n",
        "        self.out = nn.Linear(hidden_dim * 2 if bidirectional else hidden_dim, output_dim)\n",
        "        \n",
        "        self.dropout = nn.Dropout(dropout)\n",
        "        \n",
        "    def forward(self, text):\n",
        "        \n",
        "        #text = [batch size, sent len]\n",
        "                \n",
        "        with torch.no_grad():\n",
        "            embedded = self.bert(text)[0]\n",
        "                \n",
        "        #embedded = [batch size, sent len, emb dim]\n",
        "        \n",
        "        _, hidden = self.rnn(embedded)\n",
        "        \n",
        "        #hidden = [n layers * n directions, batch size, emb dim]\n",
        "        \n",
        "        if self.rnn.bidirectional:\n",
        "            hidden = self.dropout(torch.cat((hidden[-2,:,:], hidden[-1,:,:]), dim = 1))\n",
        "        else:\n",
        "            hidden = self.dropout(hidden[-1,:,:])\n",
        "                \n",
        "        #hidden = [batch size, hid dim]\n",
        "        \n",
        "        output = self.out(hidden)\n",
        "        \n",
        "        #output = [batch size, out dim]\n",
        "        \n",
        "        return output"
      ],
      "execution_count": null,
      "outputs": []
    },
    {
      "cell_type": "code",
      "metadata": {
        "id": "Rrv9uGgDnlRX",
        "colab_type": "code",
        "colab": {}
      },
      "source": [
        "HIDDEN_DIM = 256\n",
        "OUTPUT_DIM = 1\n",
        "N_LAYERS = 2\n",
        "BIDIRECTIONAL = True\n",
        "DROPOUT = 0.25\n",
        "\n",
        "model = BERTGRUSentiment(bert,\n",
        "                         HIDDEN_DIM,\n",
        "                         OUTPUT_DIM,\n",
        "                         N_LAYERS,\n",
        "                         BIDIRECTIONAL,\n",
        "                         DROPOUT)\n",
        "def count_parameters(model):\n",
        "    return sum(p.numel() for p in model.parameters() if p.requires_grad)\n",
        "\n",
        "for name, param in model.named_parameters():                \n",
        "    if name.startswith('bert'):\n",
        "        param.requires_grad = False\n",
        "\n",
        "\n",
        "def count_parameters(model):\n",
        "    return sum(p.numel() for p in model.parameters() if p.requires_grad)"
      ],
      "execution_count": null,
      "outputs": []
    },
    {
      "cell_type": "code",
      "metadata": {
        "id": "yOfrXTRVnzTF",
        "colab_type": "code",
        "colab": {}
      },
      "source": [
        "import torch.optim as optim\n",
        "\n",
        "optimizer = optim.Adam(model.parameters())\n",
        "\n",
        "criterion = nn.BCEWithLogitsLoss()\n",
        "\n",
        "model = model.to(device)\n",
        "criterion = criterion.to(device)\n",
        "\n",
        "\n",
        "def binary_accuracy(preds, y):\n",
        "    \"\"\"\n",
        "    Returns accuracy per batch, i.e. if you get 8/10 right, this returns 0.8, NOT 8\n",
        "    \"\"\"\n",
        "\n",
        "    #round predictions to the closest integer\n",
        "    rounded_preds = torch.round(torch.sigmoid(preds))\n",
        "    correct = (rounded_preds == y).float() #convert into float for division \n",
        "    acc = correct.sum() / len(correct)\n",
        "    return acc\n",
        "\n",
        "import time\n",
        "\n",
        "def epoch_time(start_time, end_time):\n",
        "    elapsed_time = end_time - start_time\n",
        "    elapsed_mins = int(elapsed_time / 60)\n",
        "    elapsed_secs = int(elapsed_time - (elapsed_mins * 60))\n",
        "    return elapsed_mins, elapsed_secs\n",
        "\n",
        "N_EPOCHS = 5\n",
        "\n",
        "best_valid_loss = float('inf')\n",
        "\n",
        "model.load_state_dict(torch.load('drive/My Drive/tut6-model-tuned.pt'))\n",
        "\n",
        "def predict_sentiment(model, tokenizer, sentence):\n",
        "    model.eval()\n",
        "    tokens = tokenizer.tokenize(sentence)\n",
        "    tokens = tokens[:max_input_length-2]\n",
        "    indexed = [init_token_idx] + tokenizer.convert_tokens_to_ids(tokens) + [eos_token_idx]\n",
        "    tensor = torch.LongTensor(indexed).to(device)\n",
        "    tensor = tensor.unsqueeze(0)\n",
        "    prediction = torch.sigmoid(model(tensor))\n",
        "    return prediction.item()\n",
        "\n"
      ],
      "execution_count": null,
      "outputs": []
    },
    {
      "cell_type": "markdown",
      "metadata": {
        "id": "4YzRUmNjtf6v",
        "colab_type": "text"
      },
      "source": [
        "Sampling"
      ]
    },
    {
      "cell_type": "code",
      "metadata": {
        "id": "cQroa5TLuAwg",
        "colab_type": "code",
        "colab": {
          "base_uri": "https://localhost:8080/",
          "height": 34
        },
        "outputId": "ca0649ed-d68c-4cc5-93d5-050288e8f2f8"
      },
      "source": [
        "smoking['class']=smoking['score'].map(lambda x:1 if x >=6 else 0)\n",
        "sum(smoking['class']==1)/len(smoking)"
      ],
      "execution_count": null,
      "outputs": [
        {
          "output_type": "execute_result",
          "data": {
            "text/plain": [
              "0.05268885462954566"
            ]
          },
          "metadata": {
            "tags": []
          },
          "execution_count": 33
        }
      ]
    },
    {
      "cell_type": "code",
      "metadata": {
        "id": "m8ZmkJHJtfod",
        "colab_type": "code",
        "colab": {
          "base_uri": "https://localhost:8080/",
          "height": 34
        },
        "outputId": "012220b8-848b-41d4-fa32-b580640b5879"
      },
      "source": [
        "smoke = smoking.sample(n=3000,random_state=0).reset_index(drop=True)\n",
        "sum(smoke['class']==1)/len(smoke)"
      ],
      "execution_count": null,
      "outputs": [
        {
          "output_type": "execute_result",
          "data": {
            "text/plain": [
              "0.05433333333333333"
            ]
          },
          "metadata": {
            "tags": []
          },
          "execution_count": 39
        }
      ]
    },
    {
      "cell_type": "code",
      "metadata": {
        "id": "0t5lnClBsnZj",
        "colab_type": "code",
        "colab": {
          "base_uri": "https://localhost:8080/",
          "height": 34
        },
        "outputId": "ece12977-05c5-4221-97d4-9971a284c3bf"
      },
      "source": [
        "drinking['class']=drinking['score'].map(lambda x:1 if x >=6 else 0)\n",
        "sum(drinking['class']==1)/len(drinking)"
      ],
      "execution_count": null,
      "outputs": [
        {
          "output_type": "execute_result",
          "data": {
            "text/plain": [
              "0.08590939216057565"
            ]
          },
          "metadata": {
            "tags": []
          },
          "execution_count": 43
        }
      ]
    },
    {
      "cell_type": "code",
      "metadata": {
        "id": "W7rI3_Wexn2l",
        "colab_type": "code",
        "colab": {
          "base_uri": "https://localhost:8080/",
          "height": 34
        },
        "outputId": "31b4e970-0fad-4e81-aa19-f3817a1e5452"
      },
      "source": [
        "drink = drinking.sample(n=3000,random_state=0).reset_index(drop=True)\n",
        "sum(drink['class']==1)/len(drink)"
      ],
      "execution_count": null,
      "outputs": [
        {
          "output_type": "execute_result",
          "data": {
            "text/plain": [
              "0.08833333333333333"
            ]
          },
          "metadata": {
            "tags": []
          },
          "execution_count": 45
        }
      ]
    },
    {
      "cell_type": "markdown",
      "metadata": {
        "id": "2T9tnfUsYICf",
        "colab_type": "text"
      },
      "source": [
        "sentiment"
      ]
    },
    {
      "cell_type": "code",
      "metadata": {
        "id": "AHH_AukAoQH5",
        "colab_type": "code",
        "colab": {}
      },
      "source": [
        "smoke['sentiment']=smoke['body'].map(lambda x:predict_sentiment(model, tokenizer, x))\n",
        "smoke.to_csv('drive/My Drive/smoke+sentiment.csv')"
      ],
      "execution_count": null,
      "outputs": []
    },
    {
      "cell_type": "code",
      "metadata": {
        "id": "_J-qd-gj1jqV",
        "colab_type": "code",
        "colab": {
          "base_uri": "https://localhost:8080/",
          "height": 312
        },
        "outputId": "7c8da2fd-937c-44a8-e5eb-5583d2a0e225"
      },
      "source": [
        "#smoke=pd.read_csv('drive/My Drive/smoke+all.csv')\n",
        "#sns.distplot(smoke['sentiment'])\n",
        "#plt.title('Sentiment Distribution of Smoking')"
      ],
      "execution_count": null,
      "outputs": [
        {
          "output_type": "execute_result",
          "data": {
            "text/plain": [
              "Text(0.5, 1.0, 'Sentiment Distribution of Smoking')"
            ]
          },
          "metadata": {
            "tags": []
          },
          "execution_count": 3
        },
        {
          "output_type": "display_data",
          "data": {
            "image/png": "[encoded data removed]",
            "text/plain": [
              "<Figure size 432x288 with 1 Axes>"
            ]
          },
          "metadata": {
            "tags": [],
            "needs_background": "light"
          }
        }
      ]
    },
    {
      "cell_type": "code",
      "metadata": {
        "id": "slAgzt5kxwZw",
        "colab_type": "code",
        "colab": {}
      },
      "source": [
        "drink['sentiment']=drink['body'].map(lambda x:predict_sentiment(model, tokenizer, x))\n",
        "drink.to_csv('drive/My Drive/drink+sentiment.csv')"
      ],
      "execution_count": null,
      "outputs": []
    },
    {
      "cell_type": "code",
      "metadata": {
        "id": "f2ePIwl_1rV_",
        "colab_type": "code",
        "colab": {
          "base_uri": "https://localhost:8080/",
          "height": 312
        },
        "outputId": "3b78f1f9-e6f3-4eb1-b038-b5aa59af4fcf"
      },
      "source": [
        "drink=pd.read_csv('drive/My Drive/drink+all.csv')\n",
        "sns.distplot(drink['sentiment'])\n",
        "plt.title('Sentiment Distribution of Drinking')"
      ],
      "execution_count": null,
      "outputs": [
        {
          "output_type": "execute_result",
          "data": {
            "text/plain": [
              "Text(0.5, 1.0, 'Sentiment Distribution of Drinking')"
            ]
          },
          "metadata": {
            "tags": []
          },
          "execution_count": 4
        },
        {
          "output_type": "display_data",
          "data": {
            "image/png": "[encoded data removed]",
            "text/plain": [
              "<Figure size 432x288 with 1 Axes>"
            ]
          },
          "metadata": {
            "tags": [],
            "needs_background": "light"
          }
        }
      ]
    },
    {
      "cell_type": "markdown",
      "metadata": {
        "id": "QquYCopa3Nkn",
        "colab_type": "text"
      },
      "source": [
        "topic"
      ]
    },
    {
      "cell_type": "code",
      "metadata": {
        "id": "xKcyqhKU-rFO",
        "colab_type": "code",
        "colab": {}
      },
      "source": [
        "smoke=pd.read_csv('drive/My Drive/smoke+sentiment.csv')\n",
        "drink=pd.read_csv('drive/My Drive/drink+sentiment.csv')"
      ],
      "execution_count": null,
      "outputs": []
    },
    {
      "cell_type": "code",
      "metadata": {
        "id": "aEx9vaMbJRtP",
        "colab_type": "code",
        "colab": {
          "base_uri": "https://localhost:8080/",
          "height": 187
        },
        "outputId": "e6d78cf8-c906-4e47-8020-c5e30025b110"
      },
      "source": [
        "#topic\n",
        "vectorizer = CountVectorizer(stop_words='english')\n",
        "x = vectorizer.fit_transform(smoke['body'])\n",
        "lsa = TruncatedSVD(5)                           \n",
        "x2 = lsa.fit_transform(x)\n",
        "\n",
        "terms = vectorizer.get_feature_names()\n",
        "\n",
        "n_pick_keywords = 4\n",
        "\n",
        "topic_keywords_id = [lsa.components_[t].argsort()[:-(n_pick_keywords+1):-1] for t in range(5)]\n",
        "\n",
        "for t in range(5):\n",
        "    print(\"topic %d:\" % t)\n",
        "    print(\"    keywords: %s\" % \", \".join(terms[topic_keywords_id[t][j]] for j in range(n_pick_keywords)))\n",
        "\n",
        "x2=pd.DataFrame(x2,columns=['t1','t2','t3','t4','t5'])\n",
        "smoke=pd.concat([smoke,x2],axis=1)\n",
        "\n",
        "smoke.to_csv('drive/My Drive/smoke+all.csv')"
      ],
      "execution_count": null,
      "outputs": [
        {
          "output_type": "stream",
          "text": [
            "topic 0:\n",
            "    keywords: smoking, just, quit, smoke\n",
            "topic 1:\n",
            "    keywords: smoking, don, quit, smoke\n",
            "topic 2:\n",
            "    keywords: quit, years, good, turkey\n",
            "topic 3:\n",
            "    keywords: just, don, smoke, nicotine\n",
            "topic 4:\n",
            "    keywords: nicotine, com, https, amp\n"
          ],
          "name": "stdout"
        }
      ]
    },
    {
      "cell_type": "code",
      "metadata": {
        "id": "FpMMA-76RIy3",
        "colab_type": "code",
        "colab": {
          "base_uri": "https://localhost:8080/",
          "height": 187
        },
        "outputId": "0a8b9fa7-654f-4658-d73d-db30cc8e227d"
      },
      "source": [
        "\n",
        "vectorizer = CountVectorizer(stop_words='english')\n",
        "x = vectorizer.fit_transform(drink['body'])\n",
        "lsa = TruncatedSVD(5)                           \n",
        "x2 = lsa.fit_transform(x)\n",
        "terms = vectorizer.get_feature_names()\n",
        "\n",
        "n_pick_keywords = 4\n",
        "\n",
        "topic_keywords_id = [lsa.components_[t].argsort()[:-(n_pick_keywords+1):-1] for t in range(5)]\n",
        "\n",
        "for t in range(5):\n",
        "    print(\"topic %d:\" % t)\n",
        "    print(\"    keywords: %s\" % \", \".join(terms[topic_keywords_id[t][j]] for j in range(n_pick_keywords)))\n",
        "\n",
        "x2=pd.DataFrame(x2,columns=['t1','t2','t3','t4','t5'])\n",
        "drink=pd.concat([drink,x2],axis=1)\n",
        "\n",
        "drink.to_csv('drive/My Drive/drink+all.csv')"
      ],
      "execution_count": null,
      "outputs": [
        {
          "output_type": "stream",
          "text": [
            "topic 0:\n",
            "    keywords: just, drinking, drink, like\n",
            "topic 1:\n",
            "    keywords: drink, today, day, days\n",
            "topic 2:\n",
            "    keywords: drinking, drink, just, don\n",
            "topic 3:\n",
            "    keywords: drinking, day, time, years\n",
            "topic 4:\n",
            "    keywords: just, time, thank, better\n"
          ],
          "name": "stdout"
        }
      ]
    },
    {
      "cell_type": "markdown",
      "metadata": {
        "id": "HHCyhveTY3cR",
        "colab_type": "text"
      },
      "source": [
        "visualisation"
      ]
    },
    {
      "cell_type": "code",
      "metadata": {
        "id": "eJ_kMUKY3MgF",
        "colab_type": "code",
        "colab": {
          "base_uri": "https://localhost:8080/",
          "height": 297
        },
        "outputId": "04e992e1-e282-45f1-c151-8cf34a4d429f"
      },
      "source": [
        "p = drink.groupby('author_flair_text_color',as_index=False)['class'].mean()\n",
        "\n",
        "sns.barplot(x='author_flair_text_color',y='class',data=p)\n"
      ],
      "execution_count": null,
      "outputs": [
        {
          "output_type": "execute_result",
          "data": {
            "text/plain": [
              "<matplotlib.axes._subplots.AxesSubplot at 0x7efe26403908>"
            ]
          },
          "metadata": {
            "tags": []
          },
          "execution_count": 92
        },
        {
          "output_type": "display_data",
          "data": {
            "image/png": "[encoded data removed]",
            "text/plain": [
              "<Figure size 432x288 with 1 Axes>"
            ]
          },
          "metadata": {
            "tags": [],
            "needs_background": "light"
          }
        }
      ]
    },
    {
      "cell_type": "code",
      "metadata": {
        "id": "IIx7LGAL3q4g",
        "colab_type": "code",
        "colab": {
          "base_uri": "https://localhost:8080/",
          "height": 68
        },
        "outputId": "5cf60518-315e-4a6e-f00a-252145737ace"
      },
      "source": [
        "drink['author_flair_text_color'].value_counts()"
      ],
      "execution_count": null,
      "outputs": [
        {
          "output_type": "execute_result",
          "data": {
            "text/plain": [
              "dark    2217\n",
              "None     783\n",
              "Name: author_flair_text_color, dtype: int64"
            ]
          },
          "metadata": {
            "tags": []
          },
          "execution_count": 70
        }
      ]
    },
    {
      "cell_type": "code",
      "metadata": {
        "id": "ivKLY49U6i9r",
        "colab_type": "code",
        "colab": {
          "base_uri": "https://localhost:8080/",
          "height": 68
        },
        "outputId": "e487d389-726e-4bc2-adbc-1392049d2c9c"
      },
      "source": [
        "drink['is_submitter'].value_counts()"
      ],
      "execution_count": null,
      "outputs": [
        {
          "output_type": "execute_result",
          "data": {
            "text/plain": [
              "False    2506\n",
              "True      494\n",
              "Name: is_submitter, dtype: int64"
            ]
          },
          "metadata": {
            "tags": []
          },
          "execution_count": 95
        }
      ]
    },
    {
      "cell_type": "code",
      "metadata": {
        "id": "rOZg4GDI6vc6",
        "colab_type": "code",
        "colab": {
          "base_uri": "https://localhost:8080/",
          "height": 297
        },
        "outputId": "d31a8040-dfab-492f-daf8-ed88c74020c2"
      },
      "source": [
        "p = drink.groupby('is_submitter',as_index=False)['class'].mean()\n",
        "\n",
        "sns.barplot(x='is_submitter',y='class',data=p)"
      ],
      "execution_count": null,
      "outputs": [
        {
          "output_type": "execute_result",
          "data": {
            "text/plain": [
              "<matplotlib.axes._subplots.AxesSubplot at 0x7efe264063c8>"
            ]
          },
          "metadata": {
            "tags": []
          },
          "execution_count": 96
        },
        {
          "output_type": "display_data",
          "data": {
            "image/png": "[encoded data removed]",
            "text/plain": [
              "<Figure size 432x288 with 1 Axes>"
            ]
          },
          "metadata": {
            "tags": [],
            "needs_background": "light"
          }
        }
      ]
    },
    {
      "cell_type": "code",
      "metadata": {
        "id": "ltdTMoS469UT",
        "colab_type": "code",
        "colab": {
          "base_uri": "https://localhost:8080/",
          "height": 68
        },
        "outputId": "4d0b1979-288d-494d-9346-d0ffe9c4ddbd"
      },
      "source": [
        "drink['no_follow'].value_counts()"
      ],
      "execution_count": null,
      "outputs": [
        {
          "output_type": "execute_result",
          "data": {
            "text/plain": [
              "True     2493\n",
              "False     507\n",
              "Name: no_follow, dtype: int64"
            ]
          },
          "metadata": {
            "tags": []
          },
          "execution_count": 97
        }
      ]
    },
    {
      "cell_type": "code",
      "metadata": {
        "id": "UV1wHKJ96_yt",
        "colab_type": "code",
        "colab": {
          "base_uri": "https://localhost:8080/",
          "height": 297
        },
        "outputId": "10ca5224-d607-41c6-8643-4b3eb9b6dcf3"
      },
      "source": [
        "p = drink.groupby('no_follow',as_index=False)['class'].mean()\n",
        "\n",
        "sns.barplot(x='no_follow',y='class',data=p)"
      ],
      "execution_count": null,
      "outputs": [
        {
          "output_type": "execute_result",
          "data": {
            "text/plain": [
              "<matplotlib.axes._subplots.AxesSubplot at 0x7efe2644fe80>"
            ]
          },
          "metadata": {
            "tags": []
          },
          "execution_count": 98
        },
        {
          "output_type": "display_data",
          "data": {
            "image/png": "[encoded data removed]",
            "text/plain": [
              "<Figure size 432x288 with 1 Axes>"
            ]
          },
          "metadata": {
            "tags": [],
            "needs_background": "light"
          }
        }
      ]
    },
    {
      "cell_type": "code",
      "metadata": {
        "id": "NYu4XeX72sEZ",
        "colab_type": "code",
        "colab": {}
      },
      "source": [
        "#author_flair_text_color\n",
        "#body\n",
        "#is_submitter\n",
        "#no_follow\n",
        "#score"
      ],
      "execution_count": null,
      "outputs": []
    },
    {
      "cell_type": "markdown",
      "metadata": {
        "id": "I3GSDI0bY6sp",
        "colab_type": "text"
      },
      "source": [
        "split"
      ]
    },
    {
      "cell_type": "code",
      "metadata": {
        "id": "GTwvPiXGx3uA",
        "colab_type": "code",
        "colab": {
          "base_uri": "https://localhost:8080/",
          "height": 34
        },
        "outputId": "fcfb2a16-197c-42a5-a54a-bc35bb4c92e0"
      },
      "source": [
        "smoke=pd.read_csv('drive/My Drive/smoke+all.csv')\n",
        "smoke=smoke[['author_flair_text_color','body','is_submitter','no_follow','score','class','sentiment','t1','t2','t3','t4','t5']]\n",
        "smoke=pd.get_dummies(smoke,columns=['author_flair_text_color','is_submitter','no_follow'],drop_first=True)\n",
        "trainx,testx,trainy,testy=train_test_split(smoke.drop(columns={'class','score','body'},axis=1),smoke['class'],test_size=0.3,random_state=99)\n",
        "train=pd.concat([trainx,trainy],axis=1)\n",
        "train0 = train[train['class']==0]\n",
        "train1 = train[train['class']==1]\n",
        "train_upsampled = resample(train1,replace=True,  # sample with replacement\n",
        "                             n_samples=len(train0),  # to match majority class\n",
        "                             random_state=1)  # reproducible results\n",
        "trainup=pd.concat([train0,train_upsampled],axis=0)\n",
        "trainx1=trainup.drop(columns={'class'},axis=1)\n",
        "trainy1=trainup['class']\n",
        "sum(trainup['class']==1)/len(trainup)"
      ],
      "execution_count": null,
      "outputs": [
        {
          "output_type": "execute_result",
          "data": {
            "text/plain": [
              "0.5"
            ]
          },
          "metadata": {
            "tags": []
          },
          "execution_count": 53
        }
      ]
    },
    {
      "cell_type": "code",
      "metadata": {
        "id": "Omb5JQt1z1nX",
        "colab_type": "code",
        "colab": {}
      },
      "source": [
        "from sklearn.ensemble import RandomForestClassifier\n",
        "from sklearn.model_selection import GridSearchCV\n",
        "from sklearn.metrics import accuracy_score\n",
        "from sklearn.neighbors import KNeighborsClassifier\n",
        "from sklearn.model_selection  import cross_val_score\n",
        "from sklearn.metrics import precision_recall_curve\n",
        "from sklearn import model_selection\n",
        "from sklearn.linear_model import LogisticRegression\n",
        "from xgboost.sklearn import XGBClassifier\n",
        "import numpy as np\n",
        "import matplotlib.pyplot as plt\n",
        "import seaborn as sns\n",
        "%matplotlib inline"
      ],
      "execution_count": null,
      "outputs": []
    },
    {
      "cell_type": "code",
      "metadata": {
        "id": "fLoZUqq4KWHf",
        "colab_type": "code",
        "colab": {}
      },
      "source": [
        "def confusion(cnf_matrix,name='Confusion matrix'):\n",
        "  class_names=[0,1]   \n",
        "  fig, ax = plt.subplots()\n",
        "  tick_marks = np.arange(len(class_names))\n",
        "  plt.xticks(tick_marks, class_names)\n",
        "  plt.yticks(tick_marks, class_names)\n",
        "# create heatmap\n",
        "  sns.heatmap(pd.DataFrame(cnf_matrix), annot=True,fmt='g',cmap='Blues')\n",
        "  ax.xaxis.set_label_position(\"top\")\n",
        "  plt.tight_layout()\n",
        "  plt.title(name, y=1.1)\n",
        "  plt.ylabel('Actual label')\n",
        "  plt.xlabel('Predicted label')"
      ],
      "execution_count": null,
      "outputs": []
    },
    {
      "cell_type": "code",
      "metadata": {
        "id": "ACaC0KIjIbSV",
        "colab_type": "code",
        "colab": {}
      },
      "source": [
        "#random forest #smoke"
      ],
      "execution_count": null,
      "outputs": []
    },
    {
      "cell_type": "code",
      "metadata": {
        "id": "h9ZLloMQMwrm",
        "colab_type": "code",
        "colab": {
          "base_uri": "https://localhost:8080/",
          "height": 102
        },
        "outputId": "b21c0bdc-6901-4286-dcba-ed7c70192fa9"
      },
      "source": [
        "model_rf = RandomForestClassifier(random_state=0)\n",
        "params = {'n_estimators': [50,100,300], 'max_depth': range(5,9),'min_samples_leaf':[10,20,50]}\n",
        "grid = GridSearchCV(model_rf, params,cv=5).fit(trainx1, trainy1)\n",
        "print(grid.best_params_['n_estimators'])\n",
        "print(grid.best_params_['max_depth'])\n",
        "print(grid.best_params_['min_samples_leaf'])\n",
        "print (\"score\", grid.best_score_)\n",
        "print (\"params\", grid.best_params_)"
      ],
      "execution_count": null,
      "outputs": [
        {
          "output_type": "stream",
          "text": [
            "100\n",
            "8\n",
            "10\n",
            "score 0.9438029864589719\n",
            "params {'max_depth': 8, 'min_samples_leaf': 10, 'n_estimators': 100}\n"
          ],
          "name": "stdout"
        }
      ]
    },
    {
      "cell_type": "code",
      "metadata": {
        "id": "JiM0e6vca4d9",
        "colab_type": "code",
        "colab": {
          "base_uri": "https://localhost:8080/",
          "height": 255
        },
        "outputId": "adc978c2-360f-4393-ddc5-381b88d6de86"
      },
      "source": [
        "model_rf= RandomForestClassifier(n_estimators=100, max_depth=8,min_samples_leaf=10)\n",
        "model_rf.fit(trainx1,trainy1)\n",
        "prd=model_rf.predict(testx)\n",
        "print  (accuracy_score(trainy1, model_rf.predict(trainx1)))\n",
        "print  (accuracy_score(testy, prd))\n",
        "c = confusion_matrix(testy,prd)\n",
        "print(confusion_matrix(testy,prd))\n",
        "print(classification_report(testy,prd))\n",
        "print(roc_auc_score(testy,prd))"
      ],
      "execution_count": null,
      "outputs": [
        {
          "output_type": "stream",
          "text": [
            "0.9569052419354839\n",
            "0.9277777777777778\n",
            "[[801  52]\n",
            " [ 13  34]]\n",
            "              precision    recall  f1-score   support\n",
            "\n",
            "           0       0.98      0.94      0.96       853\n",
            "           1       0.40      0.72      0.51        47\n",
            "\n",
            "    accuracy                           0.93       900\n",
            "   macro avg       0.69      0.83      0.74       900\n",
            "weighted avg       0.95      0.93      0.94       900\n",
            "\n",
            "0.8312214711531266\n"
          ],
          "name": "stdout"
        }
      ]
    },
    {
      "cell_type": "code",
      "metadata": {
        "id": "wOsjunG5KrDq",
        "colab_type": "code",
        "colab": {
          "base_uri": "https://localhost:8080/",
          "height": 322
        },
        "outputId": "1c0a5c3f-a9aa-4613-92fa-bb847e3822a9"
      },
      "source": [
        "confusion(c,'Confusion Matrix of Random Forest for Stopsmoking')"
      ],
      "execution_count": null,
      "outputs": [
        {
          "output_type": "display_data",
          "data": {
            "image/png": "[encoded data removed]",
            "text/plain": [
              "<Figure size 432x288 with 2 Axes>"
            ]
          },
          "metadata": {
            "tags": [],
            "needs_background": "light"
          }
        }
      ]
    },
    {
      "cell_type": "code",
      "metadata": {
        "id": "KLlwLmwXpgl2",
        "colab_type": "code",
        "colab": {
          "base_uri": "https://localhost:8080/",
          "height": 298
        },
        "outputId": "f76ceeb0-bfb7-4b01-b23c-f8ebf04a2713"
      },
      "source": [
        "\n",
        "feat_importances = pd.Series(model_rf.feature_importances_, trainx1.columns)\n",
        "feat_importances = feat_importances.sort_values()\n",
        "feat_importances.plot(kind='barh')\n",
        "plt.title('Feature Importance for Stopsmoking')"
      ],
      "execution_count": null,
      "outputs": [
        {
          "output_type": "execute_result",
          "data": {
            "text/plain": [
              "Text(0.5, 1.0, 'Feature Importance for Stopsmoking')"
            ]
          },
          "metadata": {
            "tags": []
          },
          "execution_count": 45
        },
        {
          "output_type": "display_data",
          "data": {
            "image/png": "[encoded data removed]",
            "text/plain": [
              "<Figure size 432x288 with 1 Axes>"
            ]
          },
          "metadata": {
            "tags": [],
            "needs_background": "light"
          }
        }
      ]
    },
    {
      "cell_type": "code",
      "metadata": {
        "id": "g4HsKbj7bi9O",
        "colab_type": "code",
        "colab": {}
      },
      "source": [
        "#logistic #smoke"
      ],
      "execution_count": null,
      "outputs": []
    },
    {
      "cell_type": "code",
      "metadata": {
        "id": "d8_GXjJCeUuf",
        "colab_type": "code",
        "colab": {
          "base_uri": "https://localhost:8080/",
          "height": 255
        },
        "outputId": "479e2595-c99f-4c0f-ef41-02b67d716dc3"
      },
      "source": [
        "model_lr = LogisticRegression()\n",
        "model_lr.fit(trainx1, trainy1)\n",
        "prd=model_lr.predict(testx)\n",
        "print  (accuracy_score(trainy1, model_lr.predict(trainx1)))\n",
        "print  (accuracy_score(testy, prd))\n",
        "\n",
        "print(confusion_matrix(testy,prd))\n",
        "print(classification_report(testy,prd))\n",
        "print(roc_auc_score(testy,prd))"
      ],
      "execution_count": null,
      "outputs": [
        {
          "output_type": "stream",
          "text": [
            "0.8709677419354839\n",
            "0.9188888888888889\n",
            "[[793  60]\n",
            " [ 13  34]]\n",
            "              precision    recall  f1-score   support\n",
            "\n",
            "           0       0.98      0.93      0.96       853\n",
            "           1       0.36      0.72      0.48        47\n",
            "\n",
            "    accuracy                           0.92       900\n",
            "   macro avg       0.67      0.83      0.72       900\n",
            "weighted avg       0.95      0.92      0.93       900\n",
            "\n",
            "0.8265321393829039\n"
          ],
          "name": "stdout"
        }
      ]
    },
    {
      "cell_type": "code",
      "metadata": {
        "id": "xzcLYRaxJWp7",
        "colab_type": "code",
        "colab": {
          "base_uri": "https://localhost:8080/",
          "height": 325
        },
        "outputId": "7740c87e-b1c0-4af6-f4f3-a38b15402c3a"
      },
      "source": [
        "c = confusion_matrix(testy,prd)\n",
        "confusion(c,'Confusion Matrix of Logistic Regression for Stopsmoking')"
      ],
      "execution_count": null,
      "outputs": [
        {
          "output_type": "display_data",
          "data": {
            "image/png": "[encoded data removed]",
            "text/plain": [
              "<Figure size 432x288 with 2 Axes>"
            ]
          },
          "metadata": {
            "tags": [],
            "needs_background": "light"
          }
        }
      ]
    },
    {
      "cell_type": "code",
      "metadata": {
        "id": "NkJhYJzkeqle",
        "colab_type": "code",
        "colab": {}
      },
      "source": [
        "#xgboost #smoke"
      ],
      "execution_count": null,
      "outputs": []
    },
    {
      "cell_type": "code",
      "metadata": {
        "id": "Vamym6WTgokz",
        "colab_type": "code",
        "colab": {
          "base_uri": "https://localhost:8080/",
          "height": 1000
        },
        "outputId": "40005ceb-55d1-445e-ed63-cafd7effd3f4"
      },
      "source": [
        "eval_set = [(trainx1, trainy1), (testx, testy)]\n",
        "eval_metric = ['auc']\n",
        "model=XGBClassifier()\n",
        "%time model.fit(trainx1, trainy1, eval_metric=eval_metric,eval_set=eval_set, verbose=True,early_stopping_rounds=200)"
      ],
      "execution_count": null,
      "outputs": [
        {
          "output_type": "stream",
          "text": [
            "[0]\tvalidation_0-auc:0.919821\tvalidation_1-auc:0.84519\n",
            "Multiple eval metrics have been passed: 'validation_1-auc' will be used for early stopping.\n",
            "\n",
            "Will train until validation_1-auc hasn't improved in 200 rounds.\n",
            "[1]\tvalidation_0-auc:0.923052\tvalidation_1-auc:0.848782\n",
            "[2]\tvalidation_0-auc:0.933349\tvalidation_1-auc:0.863186\n",
            "[3]\tvalidation_0-auc:0.932855\tvalidation_1-auc:0.862288\n",
            "[4]\tvalidation_0-auc:0.939179\tvalidation_1-auc:0.877204\n",
            "[5]\tvalidation_0-auc:0.939783\tvalidation_1-auc:0.873837\n",
            "[6]\tvalidation_0-auc:0.93958\tvalidation_1-auc:0.883665\n",
            "[7]\tvalidation_0-auc:0.941081\tvalidation_1-auc:0.887157\n",
            "[8]\tvalidation_0-auc:0.940745\tvalidation_1-auc:0.884712\n",
            "[9]\tvalidation_0-auc:0.944391\tvalidation_1-auc:0.884737\n",
            "[10]\tvalidation_0-auc:0.945073\tvalidation_1-auc:0.881569\n",
            "[11]\tvalidation_0-auc:0.946408\tvalidation_1-auc:0.880921\n",
            "[12]\tvalidation_0-auc:0.948154\tvalidation_1-auc:0.884737\n",
            "[13]\tvalidation_0-auc:0.948645\tvalidation_1-auc:0.883727\n",
            "[14]\tvalidation_0-auc:0.948142\tvalidation_1-auc:0.882617\n",
            "[15]\tvalidation_0-auc:0.952868\tvalidation_1-auc:0.884151\n",
            "[16]\tvalidation_0-auc:0.954392\tvalidation_1-auc:0.884188\n",
            "[17]\tvalidation_0-auc:0.953684\tvalidation_1-auc:0.887631\n",
            "[18]\tvalidation_0-auc:0.957773\tvalidation_1-auc:0.889975\n",
            "[19]\tvalidation_0-auc:0.95875\tvalidation_1-auc:0.890586\n",
            "[20]\tvalidation_0-auc:0.959978\tvalidation_1-auc:0.889539\n",
            "[21]\tvalidation_0-auc:0.960553\tvalidation_1-auc:0.886932\n",
            "[22]\tvalidation_0-auc:0.961368\tvalidation_1-auc:0.885012\n",
            "[23]\tvalidation_0-auc:0.962673\tvalidation_1-auc:0.887207\n",
            "[24]\tvalidation_0-auc:0.963576\tvalidation_1-auc:0.884114\n",
            "[25]\tvalidation_0-auc:0.965023\tvalidation_1-auc:0.885548\n",
            "[26]\tvalidation_0-auc:0.966693\tvalidation_1-auc:0.886708\n",
            "[27]\tvalidation_0-auc:0.966993\tvalidation_1-auc:0.888965\n",
            "[28]\tvalidation_0-auc:0.967439\tvalidation_1-auc:0.887668\n",
            "[29]\tvalidation_0-auc:0.968918\tvalidation_1-auc:0.886832\n",
            "[30]\tvalidation_0-auc:0.970124\tvalidation_1-auc:0.885997\n",
            "[31]\tvalidation_0-auc:0.970824\tvalidation_1-auc:0.885934\n",
            "[32]\tvalidation_0-auc:0.971496\tvalidation_1-auc:0.885411\n",
            "[33]\tvalidation_0-auc:0.972221\tvalidation_1-auc:0.884463\n",
            "[34]\tvalidation_0-auc:0.972485\tvalidation_1-auc:0.883191\n",
            "[35]\tvalidation_0-auc:0.973429\tvalidation_1-auc:0.880672\n",
            "[36]\tvalidation_0-auc:0.973654\tvalidation_1-auc:0.879699\n",
            "[37]\tvalidation_0-auc:0.973889\tvalidation_1-auc:0.878901\n",
            "[38]\tvalidation_0-auc:0.974333\tvalidation_1-auc:0.879075\n",
            "[39]\tvalidation_0-auc:0.974393\tvalidation_1-auc:0.878476\n",
            "[40]\tvalidation_0-auc:0.975075\tvalidation_1-auc:0.878339\n",
            "[41]\tvalidation_0-auc:0.975197\tvalidation_1-auc:0.877354\n",
            "[42]\tvalidation_0-auc:0.97519\tvalidation_1-auc:0.877154\n",
            "[43]\tvalidation_0-auc:0.975795\tvalidation_1-auc:0.875022\n",
            "[44]\tvalidation_0-auc:0.976169\tvalidation_1-auc:0.873949\n",
            "[45]\tvalidation_0-auc:0.977571\tvalidation_1-auc:0.876543\n",
            "[46]\tvalidation_0-auc:0.97759\tvalidation_1-auc:0.875558\n",
            "[47]\tvalidation_0-auc:0.978871\tvalidation_1-auc:0.876119\n",
            "[48]\tvalidation_0-auc:0.979483\tvalidation_1-auc:0.877815\n",
            "[49]\tvalidation_0-auc:0.979462\tvalidation_1-auc:0.877716\n",
            "[50]\tvalidation_0-auc:0.980064\tvalidation_1-auc:0.878015\n",
            "[51]\tvalidation_0-auc:0.980964\tvalidation_1-auc:0.87809\n",
            "[52]\tvalidation_0-auc:0.98127\tvalidation_1-auc:0.880759\n",
            "[53]\tvalidation_0-auc:0.981363\tvalidation_1-auc:0.880884\n",
            "[54]\tvalidation_0-auc:0.981416\tvalidation_1-auc:0.879811\n",
            "[55]\tvalidation_0-auc:0.981782\tvalidation_1-auc:0.879686\n",
            "[56]\tvalidation_0-auc:0.98209\tvalidation_1-auc:0.879362\n",
            "[57]\tvalidation_0-auc:0.982207\tvalidation_1-auc:0.878925\n",
            "[58]\tvalidation_0-auc:0.982373\tvalidation_1-auc:0.878726\n",
            "[59]\tvalidation_0-auc:0.982542\tvalidation_1-auc:0.877254\n",
            "[60]\tvalidation_0-auc:0.982773\tvalidation_1-auc:0.877878\n",
            "[61]\tvalidation_0-auc:0.983127\tvalidation_1-auc:0.879287\n",
            "[62]\tvalidation_0-auc:0.983184\tvalidation_1-auc:0.879113\n",
            "[63]\tvalidation_0-auc:0.98342\tvalidation_1-auc:0.879611\n",
            "[64]\tvalidation_0-auc:0.983882\tvalidation_1-auc:0.877741\n",
            "[65]\tvalidation_0-auc:0.984086\tvalidation_1-auc:0.875995\n",
            "[66]\tvalidation_0-auc:0.984115\tvalidation_1-auc:0.87597\n",
            "[67]\tvalidation_0-auc:0.984292\tvalidation_1-auc:0.874249\n",
            "[68]\tvalidation_0-auc:0.984311\tvalidation_1-auc:0.874249\n",
            "[69]\tvalidation_0-auc:0.984383\tvalidation_1-auc:0.874062\n",
            "[70]\tvalidation_0-auc:0.984502\tvalidation_1-auc:0.874735\n",
            "[71]\tvalidation_0-auc:0.984674\tvalidation_1-auc:0.873213\n",
            "[72]\tvalidation_0-auc:0.984731\tvalidation_1-auc:0.873014\n",
            "[73]\tvalidation_0-auc:0.984873\tvalidation_1-auc:0.872365\n",
            "[74]\tvalidation_0-auc:0.985021\tvalidation_1-auc:0.872041\n",
            "[75]\tvalidation_0-auc:0.985279\tvalidation_1-auc:0.872964\n",
            "[76]\tvalidation_0-auc:0.985284\tvalidation_1-auc:0.873338\n",
            "[77]\tvalidation_0-auc:0.985315\tvalidation_1-auc:0.873812\n",
            "[78]\tvalidation_0-auc:0.985534\tvalidation_1-auc:0.871393\n",
            "[79]\tvalidation_0-auc:0.985646\tvalidation_1-auc:0.871193\n",
            "[80]\tvalidation_0-auc:0.985719\tvalidation_1-auc:0.871143\n",
            "[81]\tvalidation_0-auc:0.985809\tvalidation_1-auc:0.871118\n",
            "[82]\tvalidation_0-auc:0.985899\tvalidation_1-auc:0.869247\n",
            "[83]\tvalidation_0-auc:0.985953\tvalidation_1-auc:0.869447\n",
            "[84]\tvalidation_0-auc:0.986032\tvalidation_1-auc:0.870869\n",
            "[85]\tvalidation_0-auc:0.986058\tvalidation_1-auc:0.871018\n",
            "[86]\tvalidation_0-auc:0.986146\tvalidation_1-auc:0.86815\n",
            "[87]\tvalidation_0-auc:0.986272\tvalidation_1-auc:0.868275\n",
            "[88]\tvalidation_0-auc:0.986374\tvalidation_1-auc:0.868674\n",
            "[89]\tvalidation_0-auc:0.986361\tvalidation_1-auc:0.868699\n",
            "[90]\tvalidation_0-auc:0.986518\tvalidation_1-auc:0.867102\n",
            "[91]\tvalidation_0-auc:0.986571\tvalidation_1-auc:0.866005\n",
            "[92]\tvalidation_0-auc:0.986742\tvalidation_1-auc:0.865107\n",
            "[93]\tvalidation_0-auc:0.987332\tvalidation_1-auc:0.86613\n",
            "[94]\tvalidation_0-auc:0.987421\tvalidation_1-auc:0.866404\n",
            "[95]\tvalidation_0-auc:0.987594\tvalidation_1-auc:0.867925\n",
            "[96]\tvalidation_0-auc:0.987682\tvalidation_1-auc:0.868973\n",
            "[97]\tvalidation_0-auc:0.987752\tvalidation_1-auc:0.869696\n",
            "[98]\tvalidation_0-auc:0.987759\tvalidation_1-auc:0.869048\n",
            "[99]\tvalidation_0-auc:0.987825\tvalidation_1-auc:0.869971\n",
            "CPU times: user 441 ms, sys: 17.2 ms, total: 458 ms\n",
            "Wall time: 470 ms\n"
          ],
          "name": "stdout"
        },
        {
          "output_type": "execute_result",
          "data": {
            "text/plain": [
              "XGBClassifier(base_score=0.5, booster='gbtree', colsample_bylevel=1,\n",
              "              colsample_bynode=1, colsample_bytree=1, gamma=0,\n",
              "              learning_rate=0.1, max_delta_step=0, max_depth=3,\n",
              "              min_child_weight=1, missing=None, n_estimators=100, n_jobs=1,\n",
              "              nthread=None, objective='binary:logistic', random_state=0,\n",
              "              reg_alpha=0, reg_lambda=1, scale_pos_weight=1, seed=None,\n",
              "              silent=None, subsample=1, verbosity=1)"
            ]
          },
          "metadata": {
            "tags": []
          },
          "execution_count": 224
        }
      ]
    },
    {
      "cell_type": "code",
      "metadata": {
        "id": "2WtiqegVgb2N",
        "colab_type": "code",
        "colab": {
          "base_uri": "https://localhost:8080/",
          "height": 298
        },
        "outputId": "c948cb68-e892-497e-c9a7-4adf8da6876b"
      },
      "source": [
        "import matplotlib.pyplot as plt\n",
        "results=model.evals_result()\n",
        "epochs = len(results['validation_0']['auc'])\n",
        "x_axis = range(0, epochs)\n",
        "plt.figure(figsize=(10,5))\n",
        "fig, ax = plt.subplots()\n",
        "ax.plot(x_axis, results['validation_0']['auc'], label='Train')\n",
        "ax.plot(x_axis, results['validation_1']['auc'], label='Test')\n",
        "ax.legend()\n",
        "plt.ylabel('auc')\n",
        "plt.title('XGBoost error')\n",
        "plt.show()"
      ],
      "execution_count": null,
      "outputs": [
        {
          "output_type": "display_data",
          "data": {
            "text/plain": [
              "<Figure size 720x360 with 0 Axes>"
            ]
          },
          "metadata": {
            "tags": []
          }
        },
        {
          "output_type": "display_data",
          "data": {
            "image/png": "[encoded data removed]",
            "text/plain": [
              "<Figure size 432x288 with 1 Axes>"
            ]
          },
          "metadata": {
            "tags": [],
            "needs_background": "light"
          }
        }
      ]
    },
    {
      "cell_type": "code",
      "metadata": {
        "id": "hTq86q1etvg0",
        "colab_type": "code",
        "colab": {}
      },
      "source": [
        "param_test1 = {\n",
        "     'learning_rate':[i/10.0 for i in range(1,4)], #0.3\n",
        "     'n_estimators':range(50,500,50) #400\n",
        "    }\n",
        "\n",
        "param_test2 = {\n",
        "     'max_depth':range(3,10,2), #9\n",
        "     'min_child_weight':range(1,6,2) #1\n",
        "    }\n",
        "param_test3 = {\n",
        "    'gamma':[i/10.0 for i in range(0,5)] # 0.0\n",
        "    }\n",
        "param_test4 = {\n",
        "     'subsample':[i/10.0 for i in range(6,11)], #0.6\n",
        "     'colsample_bytree':[i/10.0 for i in range(6,11)] #0.8\n",
        "    }\n",
        "param_test5 = {\n",
        "        'reg_alpha':[0, 0.001, 0.005, 0.01, 0.05] #0.05\n",
        "    }\n",
        "\n",
        "grid = GridSearchCV(estimator = XGBClassifier(\n",
        "        objective= 'binary:logistic', \n",
        "        learning_rate=0.1,\n",
        "        n_estimators=500,\n",
        "        #max_depth=5,\n",
        "        #min_child_weight=1,\n",
        "        #gamma=0,\n",
        "        #colsample_bytree=0.6,\n",
        "        #subsample=0.6,\n",
        "        #reg_alpha=0\n",
        "        nthread=4, \n",
        "        scale_pos_weight=1,\n",
        "        seed=0), \n",
        "    param_grid = param_test2, \n",
        "    scoring='aucpr',\n",
        "    n_jobs=4,iid=False, cv=5)\n",
        "grid.fit(trainx1,trainy1)\n",
        "\n",
        "print(\"grid.best_params_\", grid.best_params_)\n",
        "print(\"grid.best_score_\", grid.best_score_)"
      ],
      "execution_count": null,
      "outputs": []
    },
    {
      "cell_type": "code",
      "metadata": {
        "id": "p2PqaUyMyXY6",
        "colab_type": "code",
        "colab": {
          "base_uri": "https://localhost:8080/",
          "height": 136
        },
        "outputId": "03bddfae-f136-4a66-b604-a0895c928a76"
      },
      "source": [
        "grid.best_estimator_"
      ],
      "execution_count": null,
      "outputs": [
        {
          "output_type": "execute_result",
          "data": {
            "text/plain": [
              "XGBClassifier(base_score=0.5, booster='gbtree', colsample_bylevel=1,\n",
              "              colsample_bynode=1, colsample_bytree=0.6, gamma=0,\n",
              "              learning_rate=0.3, max_delta_step=0, max_depth=5,\n",
              "              min_child_weight=1, missing=None, n_estimators=450, n_jobs=1,\n",
              "              nthread=4, objective='binary:logistic', random_state=0,\n",
              "              reg_alpha=0, reg_lambda=1, scale_pos_weight=1, seed=0,\n",
              "              silent=None, subsample=0.6, verbosity=1)"
            ]
          },
          "metadata": {
            "tags": []
          },
          "execution_count": 14
        }
      ]
    },
    {
      "cell_type": "code",
      "metadata": {
        "id": "85_P7tTo0ec0",
        "colab_type": "code",
        "colab": {}
      },
      "source": [
        "clf=XGBClassifier(objective= 'binary:logistic', \n",
        "        learning_rate=0.3,\n",
        "        n_estimators=450,\n",
        "        max_depth=5,\n",
        "        min_child_weight=1,\n",
        "        gamma=0,\n",
        "        colsample_bytree=0.6,\n",
        "        subsample=0.6,\n",
        "        #reg_alpha=0,\n",
        "        nthread=4, \n",
        "        scale_pos_weight=1,\n",
        "        seed=0)"
      ],
      "execution_count": null,
      "outputs": []
    },
    {
      "cell_type": "code",
      "metadata": {
        "id": "PKwbIjYX0L9Q",
        "colab_type": "code",
        "colab": {
          "base_uri": "https://localhost:8080/",
          "height": 255
        },
        "outputId": "fd1fd752-4724-4046-e4fe-925ad5df07a8"
      },
      "source": [
        "clf=grid.best_estimator_\n",
        "#clf=XGBClassifier()\n",
        "clf.fit(trainx1,trainy1)\n",
        "\n",
        "y_train_pred = clf.predict(trainx1)\n",
        "train_predictions = [round(value) for value in y_train_pred]\n",
        "\n",
        "y_test_pred = clf.predict(testx)\n",
        "test_predictions = [round(value) for value in y_test_pred]\n",
        "\n",
        "print  (accuracy_score(trainy1, y_train_pred))\n",
        "print  (accuracy_score(testy, y_test_pred))\n",
        "\n",
        "print(confusion_matrix(testy,y_test_pred))\n",
        "print(classification_report(testy,y_test_pred))\n",
        "print(roc_auc_score(testy,y_test_pred))"
      ],
      "execution_count": null,
      "outputs": [
        {
          "output_type": "stream",
          "text": [
            "0.9997479838709677\n",
            "0.9344444444444444\n",
            "[[823  30]\n",
            " [ 29  18]]\n",
            "              precision    recall  f1-score   support\n",
            "\n",
            "           0       0.97      0.96      0.97       853\n",
            "           1       0.38      0.38      0.38        47\n",
            "\n",
            "    accuracy                           0.93       900\n",
            "   macro avg       0.67      0.67      0.67       900\n",
            "weighted avg       0.94      0.93      0.93       900\n",
            "\n",
            "0.6739043675637922\n"
          ],
          "name": "stdout"
        }
      ]
    },
    {
      "cell_type": "code",
      "metadata": {
        "id": "IbRdu-o_4VZ1",
        "colab_type": "code",
        "colab": {}
      },
      "source": [
        "#svm"
      ],
      "execution_count": null,
      "outputs": []
    },
    {
      "cell_type": "code",
      "metadata": {
        "id": "zlTDCRHP4Wm5",
        "colab_type": "code",
        "colab": {
          "base_uri": "https://localhost:8080/",
          "height": 255
        },
        "outputId": "0e12c61c-2f12-4e65-ab23-2e574f7fbaa8"
      },
      "source": [
        "from sklearn import svm\n",
        "\n",
        "#Create a svm Classifier\n",
        "clf = svm.SVC(kernel='linear') \n",
        "#poly 0.819\n",
        "#rbf 0.810\n",
        "#sigmoid 0.739\n",
        "clf.fit(trainx1, trainy1)\n",
        "\n",
        "#Predict the response for test dataset\n",
        "y_test_pred = clf.predict(testx)\n",
        "y_train_prd=clf.predict(trainx1)\n",
        "print  (accuracy_score(trainy1, y_train_prd))\n",
        "print  (accuracy_score(testy, y_test_pred))\n",
        "\n",
        "print(confusion_matrix(testy,y_test_pred))\n",
        "print(classification_report(testy,y_test_pred))\n",
        "print(roc_auc_score(testy,y_test_pred))"
      ],
      "execution_count": null,
      "outputs": [
        {
          "output_type": "stream",
          "text": [
            "0.8686995967741935\n",
            "0.9277777777777778\n",
            "[[801  52]\n",
            " [ 13  34]]\n",
            "              precision    recall  f1-score   support\n",
            "\n",
            "           0       0.98      0.94      0.96       853\n",
            "           1       0.40      0.72      0.51        47\n",
            "\n",
            "    accuracy                           0.93       900\n",
            "   macro avg       0.69      0.83      0.74       900\n",
            "weighted avg       0.95      0.93      0.94       900\n",
            "\n",
            "0.8312214711531266\n"
          ],
          "name": "stdout"
        }
      ]
    },
    {
      "cell_type": "code",
      "metadata": {
        "id": "RVv7fJKt_RV_",
        "colab_type": "code",
        "colab": {
          "base_uri": "https://localhost:8080/",
          "height": 68
        },
        "outputId": "355aa3c5-f3b8-47e0-f35b-bc46d724724f"
      },
      "source": [
        "trainx1.columns"
      ],
      "execution_count": null,
      "outputs": [
        {
          "output_type": "execute_result",
          "data": {
            "text/plain": [
              "Index(['sentiment', 't1', 't2', 't3', 't4', 't5',\n",
              "       'author_flair_text_color_dark', 'is_submitter_True', 'no_follow_True'],\n",
              "      dtype='object')"
            ]
          },
          "metadata": {
            "tags": []
          },
          "execution_count": 57
        }
      ]
    },
    {
      "cell_type": "code",
      "metadata": {
        "id": "CS1_7r8V_LQ0",
        "colab_type": "code",
        "colab": {
          "base_uri": "https://localhost:8080/",
          "height": 68
        },
        "outputId": "d3b62bcb-7bcc-4aca-ae92-2f7b19af4861"
      },
      "source": [
        "clf.coef_"
      ],
      "execution_count": null,
      "outputs": [
        {
          "output_type": "execute_result",
          "data": {
            "text/plain": [
              "array([[-1.91846459e-05,  1.08639358e-05, -1.49726518e-05,\n",
              "        -3.23823394e-05,  3.11496483e-05,  2.16524282e-06,\n",
              "        -1.93783167e-05,  5.30351086e-07, -1.99999899e+00]])"
            ]
          },
          "metadata": {
            "tags": []
          },
          "execution_count": 55
        }
      ]
    },
    {
      "cell_type": "code",
      "metadata": {
        "id": "fDVSHZlq6TnH",
        "colab_type": "code",
        "colab": {
          "base_uri": "https://localhost:8080/",
          "height": 322
        },
        "outputId": "0e880965-dfd5-4226-eda5-d4c9598b4a64"
      },
      "source": [
        "c = confusion_matrix(testy,y_test_pred)\n",
        "confusion(c,'Confusion Matrix of SVM for Stopsmoking')"
      ],
      "execution_count": null,
      "outputs": [
        {
          "output_type": "display_data",
          "data": {
            "image/png": "[encoded data removed]",
            "text/plain": [
              "<Figure size 432x288 with 2 Axes>"
            ]
          },
          "metadata": {
            "tags": [],
            "needs_background": "light"
          }
        }
      ]
    },
    {
      "cell_type": "code",
      "metadata": {
        "id": "G7UrfsIB2cix",
        "colab_type": "code",
        "colab": {}
      },
      "source": [
        "#drink"
      ],
      "execution_count": null,
      "outputs": []
    },
    {
      "cell_type": "code",
      "metadata": {
        "id": "kISRAktM2iT8",
        "colab_type": "code",
        "colab": {
          "base_uri": "https://localhost:8080/",
          "height": 34
        },
        "outputId": "a576426c-6378-4526-fe8b-a66fde42e5c6"
      },
      "source": [
        "smoke=pd.read_csv('drive/My Drive/drink+all.csv')\n",
        "smoke=smoke[['author_flair_text_color','body','is_submitter','no_follow','score','class','sentiment','t1','t2','t3','t4','t5']]\n",
        "smoke=pd.get_dummies(smoke,columns=['author_flair_text_color','is_submitter','no_follow'],drop_first=True)\n",
        "trainx,testx,trainy,testy=train_test_split(smoke.drop(columns={'class','score','body'},axis=1),smoke['class'],test_size=0.3,random_state=99)\n",
        "train=pd.concat([trainx,trainy],axis=1)\n",
        "train0 = train[train['class']==0]\n",
        "train1 = train[train['class']==1]\n",
        "train_upsampled = resample(train1,replace=True,  # sample with replacement\n",
        "                             n_samples=len(train0),  # to match majority class\n",
        "                             random_state=1)  # reproducible results\n",
        "trainup=pd.concat([train0,train_upsampled],axis=0)\n",
        "trainx1=trainup.drop(columns={'class'},axis=1)\n",
        "trainy1=trainup['class']\n",
        "sum(trainup['class']==1)/len(trainup)"
      ],
      "execution_count": null,
      "outputs": [
        {
          "output_type": "execute_result",
          "data": {
            "text/plain": [
              "0.5"
            ]
          },
          "metadata": {
            "tags": []
          },
          "execution_count": 49
        }
      ]
    },
    {
      "cell_type": "code",
      "metadata": {
        "id": "IUUlS4_k2sqk",
        "colab_type": "code",
        "colab": {}
      },
      "source": [
        "#random forest drink"
      ],
      "execution_count": null,
      "outputs": []
    },
    {
      "cell_type": "code",
      "metadata": {
        "id": "mJBmlb0E2nPI",
        "colab_type": "code",
        "colab": {
          "base_uri": "https://localhost:8080/",
          "height": 102
        },
        "outputId": "52feb9bd-796e-41a6-ea23-10addb5b93cd"
      },
      "source": [
        "model_rf = RandomForestClassifier(random_state=0)\n",
        "params = {'n_estimators': [50,100,300], 'max_depth': range(5,9),'min_samples_leaf':[10,20,50]}\n",
        "grid = GridSearchCV(model_rf, params,cv=5).fit(trainx1, trainy1)\n",
        "print(grid.best_params_['n_estimators'])\n",
        "print(grid.best_params_['max_depth'])\n",
        "print(grid.best_params_['min_samples_leaf'])\n",
        "print (\"score\", grid.best_score_)\n",
        "print (\"params\", grid.best_params_)"
      ],
      "execution_count": null,
      "outputs": [
        {
          "output_type": "stream",
          "text": [
            "100\n",
            "8\n",
            "10\n",
            "score 0.9449086161879896\n",
            "params {'max_depth': 8, 'min_samples_leaf': 10, 'n_estimators': 100}\n"
          ],
          "name": "stdout"
        }
      ]
    },
    {
      "cell_type": "code",
      "metadata": {
        "id": "wvcT5Pts2ujo",
        "colab_type": "code",
        "colab": {
          "base_uri": "https://localhost:8080/",
          "height": 255
        },
        "outputId": "68c89827-0014-45f1-fd30-e2d2794c399e"
      },
      "source": [
        "model_rf= RandomForestClassifier(n_estimators=100, max_depth=8,min_samples_leaf=10)\n",
        "model_rf.fit(trainx1,trainy1)\n",
        "prd=model_rf.predict(testx)\n",
        "print  (accuracy_score(trainy1, model_rf.predict(trainx1)))\n",
        "print  (accuracy_score(testy, prd))\n",
        "\n",
        "print(confusion_matrix(testy,prd))\n",
        "print(classification_report(testy,prd))\n",
        "print(roc_auc_score(testy,prd))"
      ],
      "execution_count": null,
      "outputs": [
        {
          "output_type": "stream",
          "text": [
            "0.9503916449086162\n",
            "0.91\n",
            "[[742  78]\n",
            " [  3  77]]\n",
            "              precision    recall  f1-score   support\n",
            "\n",
            "           0       1.00      0.90      0.95       820\n",
            "           1       0.50      0.96      0.66        80\n",
            "\n",
            "    accuracy                           0.91       900\n",
            "   macro avg       0.75      0.93      0.80       900\n",
            "weighted avg       0.95      0.91      0.92       900\n",
            "\n",
            "0.9336890243902439\n"
          ],
          "name": "stdout"
        }
      ]
    },
    {
      "cell_type": "code",
      "metadata": {
        "id": "wczjYL-qY111",
        "colab_type": "code",
        "colab": {
          "base_uri": "https://localhost:8080/",
          "height": 325
        },
        "outputId": "e3d08f72-3a83-4189-b6cc-5b17b238aef9"
      },
      "source": [
        "\n",
        "confusion(confusion_matrix(testy,prd),'Confusion Matrix of Random Forest for Stopdrinking')"
      ],
      "execution_count": null,
      "outputs": [
        {
          "output_type": "display_data",
          "data": {
            "image/png": "[encoded data removed]",
            "text/plain": [
              "<Figure size 432x288 with 2 Axes>"
            ]
          },
          "metadata": {
            "tags": [],
            "needs_background": "light"
          }
        }
      ]
    },
    {
      "cell_type": "code",
      "metadata": {
        "id": "JKKlzLoR3Hec",
        "colab_type": "code",
        "colab": {
          "base_uri": "https://localhost:8080/",
          "height": 298
        },
        "outputId": "70fbc563-1d8f-424b-90d1-60d2078e440b"
      },
      "source": [
        "\n",
        "feat_importances = pd.Series(model_rf.feature_importances_, trainx1.columns)\n",
        "feat_importances = feat_importances.sort_values()\n",
        "feat_importances.plot(kind='barh')\n",
        "plt.title('Feature Importance for Stopdrinking')"
      ],
      "execution_count": null,
      "outputs": [
        {
          "output_type": "execute_result",
          "data": {
            "text/plain": [
              "Text(0.5, 1.0, 'Feature Importance for Stopdrinking')"
            ]
          },
          "metadata": {
            "tags": []
          },
          "execution_count": 52
        },
        {
          "output_type": "display_data",
          "data": {
            "image/png": "[encoded data removed]",
            "text/plain": [
              "<Figure size 432x288 with 1 Axes>"
            ]
          },
          "metadata": {
            "tags": [],
            "needs_background": "light"
          }
        }
      ]
    },
    {
      "cell_type": "code",
      "metadata": {
        "id": "lIdUK6Uv3ZYL",
        "colab_type": "code",
        "colab": {}
      },
      "source": [
        "#logistic drink"
      ],
      "execution_count": null,
      "outputs": []
    },
    {
      "cell_type": "code",
      "metadata": {
        "id": "eNCO41iJ3gSE",
        "colab_type": "code",
        "colab": {
          "base_uri": "https://localhost:8080/",
          "height": 255
        },
        "outputId": "f520042c-c93c-4051-9395-d93458c3b523"
      },
      "source": [
        "model_lr = LogisticRegression()\n",
        "model_lr.fit(trainx1, trainy1)\n",
        "prd=model_lr.predict(testx)\n",
        "print  (accuracy_score(trainy1, model_lr.predict(trainx1)))\n",
        "print  (accuracy_score(testy, prd))\n",
        "c=confusion_matrix(testy,prd)\n",
        "print(confusion_matrix(testy,prd))\n",
        "print(classification_report(testy,prd))\n",
        "print(roc_auc_score(testy,prd))"
      ],
      "execution_count": null,
      "outputs": [
        {
          "output_type": "stream",
          "text": [
            "0.9281984334203656\n",
            "0.91\n",
            "[[742  78]\n",
            " [  3  77]]\n",
            "              precision    recall  f1-score   support\n",
            "\n",
            "           0       1.00      0.90      0.95       820\n",
            "           1       0.50      0.96      0.66        80\n",
            "\n",
            "    accuracy                           0.91       900\n",
            "   macro avg       0.75      0.93      0.80       900\n",
            "weighted avg       0.95      0.91      0.92       900\n",
            "\n",
            "0.9336890243902439\n"
          ],
          "name": "stdout"
        }
      ]
    },
    {
      "cell_type": "code",
      "metadata": {
        "id": "IgwaG-1zNY90",
        "colab_type": "code",
        "colab": {
          "base_uri": "https://localhost:8080/",
          "height": 325
        },
        "outputId": "8d698a0e-9d48-433b-c560-8de857241369"
      },
      "source": [
        "confusion(c,'Confusion Matrix of Logistic Regression for drinking')"
      ],
      "execution_count": null,
      "outputs": [
        {
          "output_type": "display_data",
          "data": {
            "image/png": "[encoded data removed]",
            "text/plain": [
              "<Figure size 432x288 with 2 Axes>"
            ]
          },
          "metadata": {
            "tags": [],
            "needs_background": "light"
          }
        }
      ]
    },
    {
      "cell_type": "code",
      "metadata": {
        "id": "4DK4fBrm3gqs",
        "colab_type": "code",
        "colab": {}
      },
      "source": [
        "#xgb drink"
      ],
      "execution_count": null,
      "outputs": []
    },
    {
      "cell_type": "code",
      "metadata": {
        "id": "a1_9-xT74IX3",
        "colab_type": "code",
        "colab": {
          "base_uri": "https://localhost:8080/",
          "height": 105
        },
        "outputId": "51e292a6-573d-48b1-933d-71ab5ebea63d"
      },
      "source": [
        "param_test1 = {\n",
        "     'learning_rate':[i/10.0 for i in range(1,4)], #0.3\n",
        "     'n_estimators':range(50,500,50) #400\n",
        "    }\n",
        "\n",
        "param_test2 = {\n",
        "     'max_depth':range(3,10,2), #9\n",
        "     'min_child_weight':range(1,6,2) #1\n",
        "    }\n",
        "param_test3 = {\n",
        "    'gamma':[i/10.0 for i in range(0,5)] # 0.0\n",
        "    }\n",
        "param_test4 = {\n",
        "     'subsample':[i/10.0 for i in range(6,11)], #0.6\n",
        "     'colsample_bytree':[i/10.0 for i in range(6,11)] #0.8\n",
        "    }\n",
        "param_test5 = {\n",
        "        'reg_alpha':[0, 0.001, 0.005, 0.01, 0.05] #0.05\n",
        "    }\n",
        "\n",
        "grid = GridSearchCV(estimator = XGBClassifier(\n",
        "        objective= 'binary:logistic', \n",
        "        learning_rate=0.3,\n",
        "        n_estimators=400,\n",
        "        max_depth=3,\n",
        "        min_child_weight=1,\n",
        "        gamma=0,\n",
        "        colsample_bytree=1,\n",
        "        subsample=0.7,\n",
        "        nthread=4, \n",
        "        scale_pos_weight=1,\n",
        "        early_stopping_rounds=80,\n",
        "        seed=0), \n",
        "    param_grid = param_test5, \n",
        "    scoring='accuracy',\n",
        "    n_jobs=4,iid=False, cv=5)\n",
        "grid.fit(trainx1,trainy1)\n",
        "\n",
        "print(\"grid.best_params_\", grid.best_params_)\n",
        "print(\"grid.best_score_\", grid.best_score_)"
      ],
      "execution_count": null,
      "outputs": [
        {
          "output_type": "stream",
          "text": [
            "/usr/local/lib/python3.6/dist-packages/sklearn/model_selection/_search.py:823: FutureWarning: The parameter 'iid' is deprecated in 0.22 and will be removed in 0.24.\n",
            "  \"removed in 0.24.\", FutureWarning\n"
          ],
          "name": "stderr"
        },
        {
          "output_type": "stream",
          "text": [
            "grid.best_params_ {'reg_alpha': 0.001}\n",
            "grid.best_score_ 0.973107049608355\n"
          ],
          "name": "stdout"
        }
      ]
    },
    {
      "cell_type": "code",
      "metadata": {
        "id": "i9NPXSm14QnM",
        "colab_type": "code",
        "colab": {
          "base_uri": "https://localhost:8080/",
          "height": 136
        },
        "outputId": "fb761839-f7f4-4cfd-f2b0-683acb940d31"
      },
      "source": [
        "grid.best_estimator_"
      ],
      "execution_count": null,
      "outputs": [
        {
          "output_type": "execute_result",
          "data": {
            "text/plain": [
              "XGBClassifier(base_score=0.5, booster='gbtree', colsample_bylevel=1,\n",
              "              colsample_bynode=1, colsample_bytree=1, early_stopping_rounds=80,\n",
              "              gamma=0, learning_rate=0.3, max_delta_step=0, max_depth=3,\n",
              "              min_child_weight=1, missing=None, n_estimators=400, n_jobs=1,\n",
              "              nthread=4, objective='binary:logistic', random_state=0,\n",
              "              reg_alpha=0.001, reg_lambda=1, scale_pos_weight=1, seed=0,\n",
              "              silent=None, subsample=0.7, verbosity=1)"
            ]
          },
          "metadata": {
            "tags": []
          },
          "execution_count": 249
        }
      ]
    },
    {
      "cell_type": "code",
      "metadata": {
        "id": "1pJS20tm5_eq",
        "colab_type": "code",
        "colab": {
          "base_uri": "https://localhost:8080/",
          "height": 255
        },
        "outputId": "175169ab-3d1b-4dca-c49d-bbbb5f79c1b4"
      },
      "source": [
        "clf=grid.best_estimator_\n",
        "\n",
        "clf.fit(trainx1,trainy1)\n",
        "\n",
        "y_train_pred = clf.predict(trainx1)\n",
        "train_predictions = [round(value) for value in y_train_pred]\n",
        "\n",
        "y_test_pred = clf.predict(testx)\n",
        "test_predictions = [round(value) for value in y_test_pred]\n",
        "\n",
        "print  (accuracy_score(trainy1, y_train_pred))\n",
        "print  (accuracy_score(testy, y_test_pred))\n",
        "\n",
        "print(confusion_matrix(testy,y_test_pred))\n",
        "print(classification_report(testy,y_test_pred))\n",
        "print(roc_auc_score(testy,y_test_pred))"
      ],
      "execution_count": null,
      "outputs": [
        {
          "output_type": "stream",
          "text": [
            "0.9981723237597911\n",
            "0.9033333333333333\n",
            "[[773  47]\n",
            " [ 40  40]]\n",
            "              precision    recall  f1-score   support\n",
            "\n",
            "           0       0.95      0.94      0.95       820\n",
            "           1       0.46      0.50      0.48        80\n",
            "\n",
            "    accuracy                           0.90       900\n",
            "   macro avg       0.71      0.72      0.71       900\n",
            "weighted avg       0.91      0.90      0.91       900\n",
            "\n",
            "0.7213414634146341\n"
          ],
          "name": "stdout"
        }
      ]
    },
    {
      "cell_type": "code",
      "metadata": {
        "id": "NPkcrxjY6DZ7",
        "colab_type": "code",
        "colab": {
          "base_uri": "https://localhost:8080/",
          "height": 255
        },
        "outputId": "7d3a0ef8-b815-4068-c05f-e1f323112d86"
      },
      "source": [
        "from sklearn import svm\n",
        "\n",
        "#Create a svm Classifier\n",
        "clf = svm.SVC(kernel='poly') \n",
        "#linear 0.934\n",
        "#poly 0.935\n",
        "#rbf 0.928\n",
        "#sigmoid 0.822\n",
        "clf.fit(trainx1, trainy1)\n",
        "\n",
        "#Predict the response for test dataset\n",
        "y_test_pred = clf.predict(testx)\n",
        "y_train_prd=clf.predict(trainx1)\n",
        "print  (accuracy_score(trainy1, y_train_prd))\n",
        "print  (accuracy_score(testy, y_test_pred))\n",
        "\n",
        "print(confusion_matrix(testy,y_test_pred))\n",
        "print(classification_report(testy,y_test_pred))\n",
        "print(roc_auc_score(testy,y_test_pred))"
      ],
      "execution_count": null,
      "outputs": [
        {
          "output_type": "stream",
          "text": [
            "0.9342036553524804\n",
            "0.9122222222222223\n",
            "[[744  76]\n",
            " [  3  77]]\n",
            "              precision    recall  f1-score   support\n",
            "\n",
            "           0       1.00      0.91      0.95       820\n",
            "           1       0.50      0.96      0.66        80\n",
            "\n",
            "    accuracy                           0.91       900\n",
            "   macro avg       0.75      0.93      0.81       900\n",
            "weighted avg       0.95      0.91      0.92       900\n",
            "\n",
            "0.9349085365853658\n"
          ],
          "name": "stdout"
        }
      ]
    },
    {
      "cell_type": "code",
      "metadata": {
        "id": "6fVHqMW--6xy",
        "colab_type": "code",
        "colab": {
          "base_uri": "https://localhost:8080/",
          "height": 287
        },
        "outputId": "75534979-0f9e-4bce-b1f2-02dfaf099477"
      },
      "source": [
        "clf.coef_"
      ],
      "execution_count": null,
      "outputs": [
        {
          "output_type": "error",
          "ename": "AttributeError",
          "evalue": "ignored",
          "traceback": [
            "\u001b[0;31m---------------------------------------------------------------------------\u001b[0m",
            "\u001b[0;31mAttributeError\u001b[0m                            Traceback (most recent call last)",
            "\u001b[0;32m<ipython-input-52-eaad8d6955f1>\u001b[0m in \u001b[0;36m<module>\u001b[0;34m()\u001b[0m\n\u001b[0;32m----> 1\u001b[0;31m \u001b[0mclf\u001b[0m\u001b[0;34m.\u001b[0m\u001b[0mcoef_\u001b[0m\u001b[0;34m\u001b[0m\u001b[0;34m\u001b[0m\u001b[0m\n\u001b[0m",
            "\u001b[0;32m/usr/local/lib/python3.6/dist-packages/sklearn/svm/_base.py\u001b[0m in \u001b[0;36mcoef_\u001b[0;34m(self)\u001b[0m\n\u001b[1;32m    471\u001b[0m     \u001b[0;32mdef\u001b[0m \u001b[0mcoef_\u001b[0m\u001b[0;34m(\u001b[0m\u001b[0mself\u001b[0m\u001b[0;34m)\u001b[0m\u001b[0;34m:\u001b[0m\u001b[0;34m\u001b[0m\u001b[0;34m\u001b[0m\u001b[0m\n\u001b[1;32m    472\u001b[0m         \u001b[0;32mif\u001b[0m \u001b[0mself\u001b[0m\u001b[0;34m.\u001b[0m\u001b[0mkernel\u001b[0m \u001b[0;34m!=\u001b[0m \u001b[0;34m'linear'\u001b[0m\u001b[0;34m:\u001b[0m\u001b[0;34m\u001b[0m\u001b[0;34m\u001b[0m\u001b[0m\n\u001b[0;32m--> 473\u001b[0;31m             raise AttributeError('coef_ is only available when using a '\n\u001b[0m\u001b[1;32m    474\u001b[0m                                  'linear kernel')\n\u001b[1;32m    475\u001b[0m \u001b[0;34m\u001b[0m\u001b[0m\n",
            "\u001b[0;31mAttributeError\u001b[0m: coef_ is only available when using a linear kernel"
          ]
        }
      ]
    },
    {
      "cell_type": "code",
      "metadata": {
        "id": "bQ-cu1pT63UA",
        "colab_type": "code",
        "colab": {
          "base_uri": "https://localhost:8080/",
          "height": 325
        },
        "outputId": "336bae0b-aa3e-48e1-b44b-0f2224149dd4"
      },
      "source": [
        "c = confusion_matrix(testy,y_test_pred)\n",
        "confusion(c,'Confusion Matrix of SVM for Stopdrinking')"
      ],
      "execution_count": null,
      "outputs": [
        {
          "output_type": "display_data",
          "data": {
            "image/png": "[encoded data removed]",
            "text/plain": [
              "<Figure size 432x288 with 2 Axes>"
            ]
          },
          "metadata": {
            "tags": [],
            "needs_background": "light"
          }
        }
      ]
    },
    {
      "cell_type": "code",
      "metadata": {
        "id": "W1Med1ch7TGf",
        "colab_type": "code",
        "colab": {}
      },
      "source": [
        ""
      ],
      "execution_count": null,
      "outputs": []
    }
  ]
}